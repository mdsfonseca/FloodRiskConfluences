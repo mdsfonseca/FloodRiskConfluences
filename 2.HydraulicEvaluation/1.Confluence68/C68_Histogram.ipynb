{
 "cells": [
  {
   "cell_type": "code",
   "execution_count": null,
   "id": "f6402f3e",
   "metadata": {},
   "outputs": [],
   "source": [
    "%matplotlib inline\n",
    "import numpy as np\n",
    "import matplotlib.pyplot as plt\n",
    "import pandas as pd\n",
    "\n",
    "from scipy.stats import spearmanr\n",
    "from scipy.stats import norm\n",
    "\n",
    "import statsmodels.api as sm"
   ]
  },
  {
   "cell_type": "markdown",
   "id": "a9b4f975",
   "metadata": {},
   "source": [
    "Histograms of the annual maxima peak; determination of the new start of the block maxima according to the dry season\n",
    "\n",
    "New files of the annual maxima sets (starting during the dry season)"
   ]
  },
  {
   "cell_type": "code",
   "execution_count": null,
   "id": "69f48948",
   "metadata": {},
   "outputs": [],
   "source": [
    "conf = pd.read_csv(r\"C:\\Users\\Fonse_ma\\OneDrive - Stichting Deltares\\Desktop\\Maria\\Notebooks\\HBV\\Confluences_ok2.csv\", delimiter=';')"
   ]
  },
  {
   "cell_type": "code",
   "execution_count": null,
   "id": "009537ea",
   "metadata": {},
   "outputs": [],
   "source": [
    "c = 'C68'\n",
    "op = r\"P:\\11206883-006-dar-cloud-computing\\GRADE_export\\HIDnew\\01_TSonefile\\TS_\" + c + \".csv\" \n",
    "TS_C68 = pd.read_csv(op, delimiter=';')\n",
    "\n",
    "TS_C68 = TS_C68[~(TS_C68['Q_S1'] < 0)]\n",
    "TS_C68 = TS_C68[~(TS_C68['Q_S2'] < 0)]\n",
    "TS_C68 = TS_C68[~(TS_C68['Q_S2'] == 999)]"
   ]
  },
  {
   "cell_type": "code",
   "execution_count": null,
   "id": "5f105529",
   "metadata": {},
   "outputs": [],
   "source": [
    "#From RQ1\n",
    "c = 'C68'\n",
    "op = r\"P:\\11206883-006-dar-cloud-computing\\GRADE_export\\HIDnew\\03_AMhyd\" + r\"\\disc1d_\" + c\n",
    "AM1_C68 = pd.read_pickle(op + \"_AM1.pkl\")\n",
    "AM2_C68 = pd.read_pickle(op + \"_AM2.pkl\")\n",
    "AM3_C68 = pd.read_pickle(op + \"_AM3.pkl\")"
   ]
  },
  {
   "cell_type": "code",
   "execution_count": null,
   "id": "317a914f",
   "metadata": {},
   "outputs": [],
   "source": [
    "#With the new start of the block maxima -> Sep \n",
    "c = 68\n",
    "op = r\"P:\\11206883-006-dar-cloud-computing\\GRADE_export\\HIDnew\\05_HYDzoom\" + r\"\\C%d_\" %c + r\"disc1d_\"\n",
    "    \n",
    "AM1 = pd.read_pickle(op + \"AM1.pkl\")\n",
    "AM2 = pd.read_pickle(op + \"AM2.pkl\")\n",
    "AM3 = pd.read_pickle(op + \"AM3.pkl\")"
   ]
  },
  {
   "cell_type": "markdown",
   "id": "16d43a2f",
   "metadata": {},
   "source": [
    "### Histogram"
   ]
  },
  {
   "cell_type": "code",
   "execution_count": null,
   "id": "adedc2dc",
   "metadata": {},
   "outputs": [],
   "source": [
    "AM1_hist = []\n",
    "AM2_hist = []\n",
    "AM3_hist = []\n",
    "\n",
    "for i in range(1, 13):\n",
    "    AM1_hist.append(len(AM1_C68[AM1_C68.month == i])) \n",
    "    AM2_hist.append(len(AM2_C68[AM2_C68.month == i])) \n",
    "    AM3_hist.append(len(AM3_C68[AM3_C68.month == i])) "
   ]
  },
  {
   "cell_type": "code",
   "execution_count": null,
   "id": "e23dd2d4",
   "metadata": {},
   "outputs": [],
   "source": [
    "plt.figure(figsize=(8, 4))\n",
    "x = np.linspace(1, 12, 12)\n",
    "xlabels = ['Jan', 'Feb', 'Mar', 'Apr', 'May', 'Jun', 'Jul', 'Aug', 'Sep', 'Oct', 'Nov', 'Dec']\n",
    "plt.bar(x, AM1_hist, label='Set 1: S1max-S2conc', color='Blue', edgecolor= 'k', width=0.9, zorder=3)\n",
    "\n",
    "plt.title(f'Histogram C68', fontsize=18) #runoff\n",
    "plt.xticks(ticks=x ,labels=xlabels, fontsize=12, rotation=90)\n",
    "plt.ylabel(f'Number of peaks', fontsize=16) #Q m3/s\n",
    "plt.yticks(fontsize=12)\n",
    "#plt.xlim(left=0, right=1)\n",
    "# plt.ylim(ymin = 0, ymax = ytext+1000)\n",
    "plt.legend(fontsize=12, bbox_to_anchor=(1,1), loc=\"upper left\")\n",
    "plt.grid(color='lightgray', zorder=-1)\n",
    "plt.tight_layout()\n",
    "\n",
    "plt.figure(figsize=(8, 4))\n",
    "x = np.linspace(1, 12, 12)\n",
    "xlabels = ['Jan', 'Feb', 'Mar', 'Apr', 'May', 'Jun', 'Jul', 'Aug', 'Sep', 'Oct', 'Nov', 'Dec']\n",
    "plt.bar(x, AM2_hist, label='Set 2: S2max-S1conc', color='Blue', edgecolor= 'k', width=0.9, zorder=3)\n",
    "\n",
    "plt.title(f'Histogram C68', fontsize=18) #runoff\n",
    "plt.xticks(ticks=x ,labels=xlabels, fontsize=12, rotation=90)\n",
    "plt.ylabel(f'Number of peaks', fontsize=16) #Q m3/s\n",
    "plt.yticks(fontsize=12)\n",
    "#plt.xlim(left=0, right=1)\n",
    "# plt.ylim(ymin = 0, ymax = ytext+1000)\n",
    "plt.legend(fontsize=12, bbox_to_anchor=(1,1), loc=\"upper left\")\n",
    "plt.grid(color='lightgray', zorder=-1)\n",
    "plt.tight_layout()\n",
    "\n",
    "plt.figure(figsize=(8, 4))\n",
    "x = np.linspace(1, 12, 12)\n",
    "xlabels = ['Jan', 'Feb', 'Mar', 'Apr', 'May', 'Jun', 'Jul', 'Aug', 'Sep', 'Oct', 'Nov', 'Dec']\n",
    "plt.bar(x, AM3_hist, label='Set 3: Cmax (C=S1+S2)', color='Blue', edgecolor= 'k', width=0.9, zorder=3)\n",
    "\n",
    "plt.title(f'Histogram C68', fontsize=18) #runoff\n",
    "plt.xticks(ticks=x ,labels=xlabels, fontsize=12, rotation=90)\n",
    "plt.ylabel(f'Number of peaks', fontsize=16) #Q m3/s\n",
    "plt.yticks(fontsize=12)\n",
    "#plt.xlim(left=0, right=1)\n",
    "# plt.ylim(ymin = 0, ymax = ytext+1000)\n",
    "plt.legend(fontsize=12, bbox_to_anchor=(1,1), loc=\"upper left\")\n",
    "plt.grid(color='lightgray', zorder=-1)\n",
    "plt.tight_layout()"
   ]
  },
  {
   "cell_type": "markdown",
   "id": "a5b893f1",
   "metadata": {},
   "source": [
    "The month where the least of the peaks occur is September.\n",
    "\n",
    "So lets change the start of the year for the Annual Maxima selection\n",
    "\n",
    "Functions from HYD02-03_AM"
   ]
  },
  {
   "cell_type": "code",
   "execution_count": null,
   "id": "a9897ece",
   "metadata": {},
   "outputs": [],
   "source": [
    "def AddSavg(am1, S1_savg, S2_savg, C_savg):\n",
    "    conditionsALL = [am1.season=='DJF', am1.season=='JJA', am1.season=='MAM', am1.season=='SON']\n",
    "\n",
    "    choicesS1 = [S1_savg['DJF'], S1_savg['JJA'], S1_savg['MAM'], S1_savg['SON']]\n",
    "    choicesS2 = [S2_savg['DJF'], S2_savg['JJA'], S2_savg['MAM'], S2_savg['SON']]\n",
    "    choicesC = [C_savg['DJF'], C_savg['JJA'], C_savg['MAM'], C_savg['SON']]\n",
    "\n",
    "    am1['S1savg'] = np.select(conditionsALL, choicesS1, default='ERROR').astype(float)\n",
    "    am1['S2savg'] = np.select(conditionsALL, choicesS2, default='ERROR').astype(float)\n",
    "    am1['Csavg'] = np.select(conditionsALL, choicesC, default='ERROR').astype(float)\n",
    "    am1['S1/S1savg'] = am1.Q_S1 / am1.S1savg\n",
    "    am1['S2/S2savg'] = am1.Q_S2 / am1.S2savg\n",
    "    am1['C/Csavg'] = am1.Q_C / am1.Csavg\n",
    "    return am1\n",
    "\n",
    "def AMnew(conf_):\n",
    "    \"\"\"\n",
    "    Creates...\n",
    "    ds: dictionary with all the Time series per station \n",
    "    conf: configuration of the confluences\n",
    "    c: confluence to be analyzed\n",
    "    w: window of the multi-day events\n",
    "    Returns: ds_\n",
    "    \"\"\"\n",
    "    \n",
    "    #Delete the rows with values lower than 0, or equal to 999\n",
    "    conf_1 = conf_[~(conf_['Q_S1'] < 0)]\n",
    "    conf_1 = conf_1[~(conf_1['Q_S2'] < 0)]\n",
    "    conf_1 = conf_1[~(conf_1['Q_S2'] == 999)]\n",
    "    conf_1    \n",
    "    \n",
    "    #Seasonal averages\n",
    "    conditions = [\n",
    "        (conf_1.month==1)|(conf_1.month==2)|(conf_1.month==12),\n",
    "        (conf_1.month==3)|(conf_1.month==4)|(conf_1.month==5),\n",
    "        (conf_1.month==6)|(conf_1.month==7)|(conf_1.month==8),\n",
    "        (conf_1.month==9)|(conf_1.month==10)|(conf_1.month==11)]\n",
    "\n",
    "    choices = ['DJF', 'MAM', 'JJA', 'SON']\n",
    "    conf_1['season'] = np.select(conditions, choices, default='ERROR')\n",
    "    \n",
    "    savg_S1 = conf_1.groupby(['season'])['Q_S1'].mean()\n",
    "    savg_S2 = conf_1.groupby(['season'])['Q_S2'].mean()\n",
    "    savg_C = conf_1.groupby(['season'])['Q_C'].mean()\n",
    "\n",
    "    \n",
    "    #2 Extreme selection sets\n",
    "    AM1_id = conf_1.groupby(['yearAM'])['Q_S1'].idxmax()\n",
    "    AM2_id = conf_1.groupby(['yearAM'])['Q_S2'].idxmax()\n",
    "    AM3_id = conf_1.groupby(['yearAM'])['Q_C'].idxmax()\n",
    "\n",
    "    am1 = conf_1.loc[AM1_id[:]]\n",
    "    am2 = conf_1.loc[AM2_id[:]]\n",
    "    am3 = conf_1.loc[AM3_id[:]]\n",
    "    \n",
    "    return am1, am2, am3, savg_S1, savg_S2, savg_C"
   ]
  },
  {
   "cell_type": "code",
   "execution_count": null,
   "id": "b1c8e8a3",
   "metadata": {},
   "outputs": [],
   "source": [
    "# To create the new files..   already fone and oppened avobe"
   ]
  },
  {
   "cell_type": "code",
   "execution_count": null,
   "id": "dcc8596b",
   "metadata": {},
   "outputs": [],
   "source": [
    "am1, am2, am3, savg_S1, savg_S2, savg_C = AMnew(TS_C68)\n",
    "\n",
    "AM1 = AddSavg(am1, savg_S1, savg_S2, savg_C)\n",
    "AM2 = AddSavg(am2, savg_S1, savg_S2, savg_C)\n",
    "AM3 = AddSavg(am3, savg_S1, savg_S2, savg_C)"
   ]
  },
  {
   "cell_type": "code",
   "execution_count": null,
   "id": "065f051e",
   "metadata": {},
   "outputs": [],
   "source": [
    "c=68\n",
    "sv = r\"P:\\11206883-006-dar-cloud-computing\\GRADE_export\\HIDnew\\05_HYDzoom\" + r\"\\C%d_\" %c + r\"disc1d_\"\n",
    "    \n",
    "AM1.to_pickle(sv + \"AM1.pkl\")\n",
    "AM2.to_pickle(sv + \"AM2.pkl\")\n",
    "AM3.to_pickle(sv + \"AM3.pkl\")"
   ]
  },
  {
   "cell_type": "code",
   "execution_count": null,
   "id": "82ece4cf",
   "metadata": {},
   "outputs": [],
   "source": [
    "AM1_hist2 = []\n",
    "AM2_hist2 = []\n",
    "AM3_hist2 = []\n",
    "\n",
    "for i in range(1, 13):\n",
    "    AM1_hist2.append(len(AM1[AM1.month == i])) \n",
    "    AM2_hist2.append(len(AM2[AM2.month == i])) \n",
    "    AM3_hist2.append(len(AM3[AM3.month == i])) \n",
    "    \n",
    "plt.figure(figsize=(10, 4))\n",
    "x = np.linspace(1, 12, 12)\n",
    "xlabels = ['Jan', 'Feb', 'Mar', 'Apr', 'May', 'Jun', 'Jul', 'Aug', 'Sep', 'Oct', 'Nov', 'Dec']\n",
    "plt.bar(x-0.2, AM1_hist2, label='Set 1: S1max-S2conc', color='Blue', edgecolor= 'k', width=0.2, zorder=3)\n",
    "plt.bar(x, AM2_hist2, label='Set 2: S2max-S1conc', color='Green', edgecolor= 'k', width=0.2, zorder=3)\n",
    "plt.bar(x+0.2, AM3_hist2, label='Set 3: Cmax (C=S1+S2)', color='Orange', edgecolor= 'k', width=0.2, zorder=3)\n",
    "\n",
    "plt.title(f'Histogram C68', fontsize=18) #runoff\n",
    "plt.xticks(ticks=x ,labels=xlabels, fontsize=12, rotation=90)\n",
    "plt.ylabel(f'Number of peaks', fontsize=16) #Q m3/s\n",
    "plt.yticks(fontsize=12)\n",
    "#plt.xlim(left=0, right=1)\n",
    "# plt.ylim(ymin = 0, ymax = ytext+1000)\n",
    "plt.legend(fontsize=12, bbox_to_anchor=(1,1), loc=\"upper left\")\n",
    "plt.grid(color='lightgray', zorder=-1)\n",
    "plt.tight_layout()\n",
    "\n",
    "plt.figure(figsize=(8, 4))\n",
    "x = np.linspace(1, 12, 12)\n",
    "xlabels = ['Jan', 'Feb', 'Mar', 'Apr', 'May', 'Jun', 'Jul', 'Aug', 'Sep', 'Oct', 'Nov', 'Dec']\n",
    "plt.bar(x, AM1_hist2, label='Set 1: S1max-S2conc', color='Blue', edgecolor= 'k', width=0.9, zorder=3)\n",
    "\n",
    "plt.title(f'Histogram C68', fontsize=18) #runoff\n",
    "plt.xticks(ticks=x ,labels=xlabels, fontsize=12, rotation=90)\n",
    "plt.ylabel(f'Number of peaks', fontsize=16) #Q m3/s\n",
    "plt.yticks(fontsize=12)\n",
    "#plt.xlim(left=0, right=1)\n",
    "# plt.ylim(ymin = 0, ymax = ytext+1000)\n",
    "plt.legend(fontsize=12, bbox_to_anchor=(1,1), loc=\"upper left\")\n",
    "plt.grid(color='lightgray', zorder=-1)\n",
    "plt.tight_layout()\n",
    "\n",
    "plt.figure(figsize=(8, 4))\n",
    "x = np.linspace(1, 12, 12)\n",
    "xlabels = ['Jan', 'Feb', 'Mar', 'Apr', 'May', 'Jun', 'Jul', 'Aug', 'Sep', 'Oct', 'Nov', 'Dec']\n",
    "plt.bar(x, AM2_hist2, label='Set 2: S2max-S1conc', color='Blue', edgecolor= 'k', width=0.9, zorder=3)\n",
    "\n",
    "plt.title(f'Histogram C68', fontsize=18) #runoff\n",
    "plt.xticks(ticks=x ,labels=xlabels, fontsize=12, rotation=90)\n",
    "plt.ylabel(f'Number of peaks', fontsize=16) #Q m3/s\n",
    "plt.yticks(fontsize=12)\n",
    "#plt.xlim(left=0, right=1)\n",
    "# plt.ylim(ymin = 0, ymax = ytext+1000)\n",
    "plt.legend(fontsize=12, bbox_to_anchor=(1,1), loc=\"upper left\")\n",
    "plt.grid(color='lightgray', zorder=-1)\n",
    "plt.tight_layout()\n",
    "\n",
    "plt.figure(figsize=(8, 4))\n",
    "x = np.linspace(1, 12, 12)\n",
    "xlabels = ['Jan', 'Feb', 'Mar', 'Apr', 'May', 'Jun', 'Jul', 'Aug', 'Sep', 'Oct', 'Nov', 'Dec']\n",
    "plt.bar(x, AM3_hist2, label='Set 3: Cmax (C=S1+S2)', color='Blue', edgecolor= 'k', width=0.9, zorder=3)\n",
    "\n",
    "plt.title(f'Histogram C68', fontsize=18) #runoff\n",
    "plt.xticks(ticks=x ,labels=xlabels, fontsize=12, rotation=90)\n",
    "plt.ylabel(f'Number of peaks', fontsize=16) #Q m3/s\n",
    "plt.yticks(fontsize=12)\n",
    "#plt.xlim(left=0, right=1)\n",
    "# plt.ylim(ymin = 0, ymax = ytext+1000)\n",
    "plt.legend(fontsize=12, bbox_to_anchor=(1,1), loc=\"upper left\")\n",
    "plt.grid(color='lightgray', zorder=-1)\n",
    "plt.tight_layout()"
   ]
  },
  {
   "cell_type": "code",
   "execution_count": null,
   "id": "39efa51f",
   "metadata": {},
   "outputs": [],
   "source": [
    "def plotSsets(AM1, AM2, AM3, c, td, unit, peaks, color):\n",
    "#     AM1 = pd.read_pickle(op + \"AM1.pkl\")\n",
    "#     AM2 = pd.read_pickle(op + \"AM2.pkl\")\n",
    "#     AM3 = pd.read_pickle(op + \"AM3.pkl\")\n",
    "    \n",
    "    AM1['ind'] = np.arange(len(AM1))\n",
    "    AM2['ind'] = np.arange(len(AM2))\n",
    "    AM3['ind'] = np.arange(len(AM3))\n",
    "    randomindex1 = np.random.choice(AM1.ind, size=peaks, replace=False)\n",
    "    set1 = pd.DataFrame()\n",
    "    set2 = pd.DataFrame()\n",
    "    set3 = pd.DataFrame()\n",
    "    for i in range(peaks):\n",
    "        set1 = set1.append(AM1.loc[AM1.ind == randomindex1[i]])\n",
    "        set2 = set2.append(AM2.loc[AM2.ind == randomindex1[i]])\n",
    "        set3 = set3.append(AM3.loc[AM3.ind == randomindex1[i]])\n",
    "    \n",
    "    \n",
    "    plt.figure(figsize=(7, 7))\n",
    "    plt.plot(set1['Q_S1'], set1['Q_S2'], 'o', color='none', markeredgecolor=color,markersize=10, label='Set 1: S1max-S2conc')\n",
    "    plt.plot(set2['Q_S1'], set2['Q_S2'], 'x', color=color, markersize=9, label='Set 2: S2max-S1conc')\n",
    "    plt.plot(set3['Q_S1'], set3['Q_S2'], '.', color=color, markersize=10, label='Set 3: Cmax (C=S1+S2)')\n",
    "    plt.title(f'{td} | C{c+1} ({peaks} peaks AM)', fontsize=20, y=1.05)\n",
    "    plt.xlabel(f'S1 ({unit})', fontsize=18)\n",
    "    plt.ylabel(f'S2 ({unit})', fontsize=18)\n",
    "    plt.xlim(left=0, right=12000)\n",
    "    plt.ylim(ymin = 0, ymax =4500)\n",
    "    plt.xticks(fontsize=12, rotation=90)\n",
    "    plt.yticks(fontsize=12)\n",
    "    plt.legend(fontsize=18, bbox_to_anchor=(1,1), loc=\"upper left\")\n",
    "\n",
    "    plt.grid()\n",
    "    return"
   ]
  },
  {
   "cell_type": "code",
   "execution_count": null,
   "id": "e5fbe2c1",
   "metadata": {},
   "outputs": [],
   "source": [
    "c = 67\n",
    "peaks = 50\n",
    "color = 'Blue'\n",
    "unit = 'm3/s'\n",
    "td = 'HYD | Discharge 1d'\n",
    "plotSsets(AM1, AM2, AM3, c, td, unit, peaks, color)"
   ]
  },
  {
   "cell_type": "markdown",
   "id": "20725c49",
   "metadata": {},
   "source": [
    "### Correlation"
   ]
  },
  {
   "cell_type": "code",
   "execution_count": null,
   "id": "ee862d07",
   "metadata": {},
   "outputs": [],
   "source": [
    "#Using the natural year\n",
    "rho1, Sp1 = spearmanr(AM1_C68['Q_S1'], AM1_C68['Q_S2'])\n",
    "rho2, Sp2 = spearmanr(AM2_C68['Q_S1'], AM2_C68['Q_S2'])\n",
    "rho3, Sp3 = spearmanr(AM3_C68['Q_S1'], AM3_C68['Q_S2'])\n",
    "print(f'AM1_rho={rho1:.4}, AM2_rho={rho2:.4}, AM3_rho={rho3:.4}')"
   ]
  },
  {
   "cell_type": "code",
   "execution_count": null,
   "id": "dc20a38d",
   "metadata": {},
   "outputs": [],
   "source": [
    "#Using September as the start of the year\n",
    "rho1, Sp1 = spearmanr(AM1['Q_S1'], AM1['Q_S2'])\n",
    "rho2, Sp2 = spearmanr(AM2['Q_S1'], AM2['Q_S2'])\n",
    "rho3, Sp3 = spearmanr(AM3['Q_S1'], AM3['Q_S2'])\n",
    "print(f'AM1_rho={rho1:.4}, AM2_rho={rho2:.4}, AM3_rho={rho3:.4}')"
   ]
  },
  {
   "cell_type": "code",
   "execution_count": null,
   "id": "20466cc0",
   "metadata": {},
   "outputs": [],
   "source": []
  }
 ],
 "metadata": {
  "kernelspec": {
   "display_name": "Python 3.9.7 ('dar-cloud')",
   "language": "python",
   "name": "python3"
  },
  "language_info": {
   "codemirror_mode": {
    "name": "ipython",
    "version": 3
   },
   "file_extension": ".py",
   "mimetype": "text/x-python",
   "name": "python",
   "nbconvert_exporter": "python",
   "pygments_lexer": "ipython3",
   "version": "3.9.7"
  },
  "vscode": {
   "interpreter": {
    "hash": "dba0fec6c0a5dc3650c48ce5794cc777babb314a0f31f50d55fe76ea6fe6645b"
   }
  }
 },
 "nbformat": 4,
 "nbformat_minor": 5
}
