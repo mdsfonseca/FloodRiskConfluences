{
 "cells": [
  {
   "cell_type": "code",
   "execution_count": null,
   "id": "87e8311b",
   "metadata": {},
   "outputs": [],
   "source": [
    "%matplotlib inline\n",
    "import numpy as np\n",
    "import matplotlib.pyplot as plt\n",
    "import pandas as pd\n",
    "\n",
    "from scipy.stats import spearmanr\n",
    "from scipy.stats import norm\n",
    "\n",
    "import statsmodels.api as sm\n",
    "from datetime import datetime\n",
    "from bisect import bisect_left, bisect_right"
   ]
  },
  {
   "cell_type": "code",
   "execution_count": null,
   "id": "3fc6a2d5",
   "metadata": {},
   "outputs": [],
   "source": [
    "conf = pd.read_csv(r\"C:\\Users\\Fonse_ma\\OneDrive - Stichting Deltares\\Desktop\\Maria\\Notebooks\\HBV\\Confluences_ok2.csv\", delimiter=';')"
   ]
  },
  {
   "cell_type": "code",
   "execution_count": null,
   "id": "6b091560",
   "metadata": {},
   "outputs": [],
   "source": [
    "c = 'C68'\n",
    "op = r\"P:\\11206883-006-dar-cloud-computing\\GRADE_export\\HIDnew\\01_TSonefile\\TS_\" + c + \".csv\" \n",
    "TS_C68 = pd.read_csv(op, delimiter=';')\n",
    "\n",
    "TS_C68 = TS_C68[~(TS_C68['Q_S1'] < 0)]\n",
    "TS_C68 = TS_C68[~(TS_C68['Q_S2'] < 0)]\n",
    "TS_C68 = TS_C68[~(TS_C68['Q_S2'] == 999)]"
   ]
  },
  {
   "cell_type": "code",
   "execution_count": null,
   "id": "744248a2",
   "metadata": {},
   "outputs": [],
   "source": [
    "c = 68\n",
    "op = r\"P:\\11206883-006-dar-cloud-computing\\GRADE_export\\HIDnew\\05_HYDzoom\" + r\"\\C%d_\" %c + r\"disc1d_\"\n",
    "    \n",
    "AM1 = pd.read_pickle(op + \"AM1.pkl\")\n",
    "AM2 = pd.read_pickle(op + \"AM2.pkl\")\n",
    "AM3 = pd.read_pickle(op + \"AM3.pkl\")"
   ]
  },
  {
   "cell_type": "code",
   "execution_count": null,
   "id": "aed186c3",
   "metadata": {},
   "outputs": [],
   "source": [
    "TS_C68.index = np.arange(len(TS_C68))"
   ]
  },
  {
   "cell_type": "markdown",
   "id": "4a436fd0",
   "metadata": {},
   "source": [
    "Time difference between peaks"
   ]
  },
  {
   "cell_type": "code",
   "execution_count": null,
   "id": "ec415981",
   "metadata": {},
   "outputs": [],
   "source": [
    "#Add the number of the day..   starting on September"
   ]
  },
  {
   "cell_type": "code",
   "execution_count": null,
   "id": "f0905be3",
   "metadata": {},
   "outputs": [],
   "source": [
    "AM1['Nday'] = ''\n",
    "for i in AM1.index:\n",
    "    if AM1.month[i] == 9:\n",
    "        AM1['Nday'][i] = AM1.day[i]\n",
    "    elif AM1.month[i] == 10:\n",
    "        AM1['Nday'][i] = AM1.day[i] + 30\n",
    "    elif AM1.month[i] == 11:\n",
    "        AM1['Nday'][i] = AM1.day[i] + 30 + 31\n",
    "    elif AM1.month[i] == 12:\n",
    "        AM1['Nday'][i] = AM1.day[i] + 30 + 31 + 30 \n",
    "    elif AM1.month[i] == 1:\n",
    "        AM1['Nday'][i] = AM1.day[i] + 30 + 31 + 30 + 31 \n",
    "    elif AM1.month[i] == 2:\n",
    "        AM1['Nday'][i] = AM1.day[i] + 30 + 31 + 30 + 31 + 31\n",
    "    elif AM1.month[i] == 3:\n",
    "        AM1['Nday'][i] = AM1.day[i] + 30 + 31 + 30 + 31 + 31 + 28\n",
    "    elif AM1.month[i] == 4:\n",
    "        AM1['Nday'][i] = AM1.day[i] + 30 + 31 + 30 + 31 + 31 + 28 + 31\n",
    "    elif AM1.month[i] == 5:\n",
    "        AM1['Nday'][i] = AM1.day[i] + 30 + 31 + 30 + 31 + 31 + 28 + 31 + 30\n",
    "    elif AM1.month[i] == 6:\n",
    "        AM1['Nday'][i] = AM1.day[i] + 30 + 31 + 30 + 31 + 31 + 28 + 31 + 30 + 31\n",
    "    elif AM1.month[i] == 7:\n",
    "        AM1['Nday'][i] = AM1.day[i] + 30 + 31 + 30 + 31 + 31 + 28 + 31 + 30 + 31 + 30\n",
    "    elif AM1.month[i] == 8:\n",
    "        AM1['Nday'][i] = AM1.day[i] + 30 + 31 + 30 + 31 + 31 + 28 + 31 + 30 + 31  + 30 + 31\n"
   ]
  },
  {
   "cell_type": "code",
   "execution_count": null,
   "id": "3e119547",
   "metadata": {},
   "outputs": [],
   "source": [
    "AM2['Nday'] = ''\n",
    "for i in AM2.index:\n",
    "    if AM2.month[i] == 9:\n",
    "        AM2.Nday[i] = AM2.day[i]\n",
    "    elif AM2.month[i] == 10:\n",
    "        AM2.Nday[i] = AM2.day[i] + 30\n",
    "    elif AM2.month[i] == 11:\n",
    "        AM2.Nday[i] = AM2.day[i] + 30 + 31\n",
    "    elif AM2.month[i] == 12:\n",
    "        AM2.Nday[i] = AM2.day[i] + 30 + 31 + 30 \n",
    "    elif AM2.month[i] == 1:\n",
    "        AM2.Nday[i] = AM2.day[i] + 30 + 31 + 30 + 31 \n",
    "    elif AM2.month[i] == 2:\n",
    "        AM2.Nday[i] = AM2.day[i] + 30 + 31 + 30 + 31 + 31\n",
    "    elif AM2.month[i] == 3:\n",
    "        AM2.Nday[i] = AM2.day[i] + 30 + 31 + 30 + 31 + 31 + 28\n",
    "    elif AM2.month[i] == 4:\n",
    "        AM2.Nday[i] = AM2.day[i] + 30 + 31 + 30 + 31 + 31 + 28 + 31\n",
    "    elif AM2.month[i] == 5:\n",
    "        AM2.Nday[i] = AM2.day[i] + 30 + 31 + 30 + 31 + 31 + 28 + 31 + 30\n",
    "    elif AM2.month[i] == 6:\n",
    "        AM2.Nday[i] = AM2.day[i] + 30 + 31 + 30 + 31 + 31 + 28 + 31 + 30 + 31\n",
    "    elif AM2.month[i] == 7:\n",
    "        AM2.Nday[i] = AM2.day[i] + 30 + 31 + 30 + 31 + 31 + 28 + 31 + 30 + 31 + 30\n",
    "    elif AM2.month[i] == 8:\n",
    "        AM2.Nday[i] = AM2.day[i] + 30 + 31 + 30 + 31 + 31 + 28 + 31 + 30 + 31  + 30 + 31"
   ]
  },
  {
   "cell_type": "markdown",
   "id": "f30905c1",
   "metadata": {},
   "source": [
    "Time difference between the Annual Maxima peaks"
   ]
  },
  {
   "cell_type": "code",
   "execution_count": null,
   "id": "58c508e9",
   "metadata": {},
   "outputs": [],
   "source": [
    "AM1.index = np.arange(len(AM1))\n",
    "AM2.index = np.arange(len(AM2))"
   ]
  },
  {
   "cell_type": "code",
   "execution_count": null,
   "id": "d18ffcba",
   "metadata": {},
   "outputs": [],
   "source": [
    "diff = []\n",
    "\n",
    "for i in range(len(AM1)):\n",
    "    diff.append(AM1.Nday[i]-AM2.Nday[i])"
   ]
  },
  {
   "cell_type": "code",
   "execution_count": null,
   "id": "445a38b6",
   "metadata": {},
   "outputs": [],
   "source": [
    "a = 4\n",
    "count = 0\n",
    "for i in range(len(diff)):\n",
    "    if (diff[i] <= a and diff[i] >= -a):\n",
    "        count += 1\n",
    "    # if diff[i] == 0:\n",
    "    #     count += 1\n",
    "    # if diff[i] == -1:\n",
    "    #     count += 1\n",
    "\n",
    "print(f'{count/len(diff)*100:.0f}')"
   ]
  },
  {
   "cell_type": "code",
   "execution_count": null,
   "id": "086271ca",
   "metadata": {},
   "outputs": [],
   "source": [
    "hist, bins = np.histogram(diff, bins=2*365, normed=False) #np.abs(diff)\n",
    "bin_centers = (bins[1:]+bins[:-1])*0.5\n",
    "plt.plot(bin_centers, hist)"
   ]
  },
  {
   "cell_type": "code",
   "execution_count": null,
   "id": "22cd4daa",
   "metadata": {},
   "outputs": [],
   "source": [
    "plt.figure(figsize=(8, 5))\n",
    "plt.bar(bin_centers, hist, color='Blue', edgecolor= 'k', width=1, zorder=3)\n",
    "plt.plot(bin_centers, hist, 'r', zorder=4)\n",
    "plt.title(f'Time difference between peaks \\n Stream1 - Stream2', fontsize=18) #runoff\n",
    "plt.xlabel(f'Days', fontsize=14)\n",
    "plt.xlim([-3,7])\n",
    "plt.xticks(fontsize=12,)\n",
    "plt.ylabel(f'Number of peaks', fontsize=14) #Q m3/s\n",
    "plt.yticks(fontsize=12)\n",
    "# plt.legend(fontsize=12, bbox_to_anchor=(1,1), loc=\"upper left\")\n",
    "plt.grid(color='lightgray', zorder=-1)\n",
    "plt.tight_layout()"
   ]
  },
  {
   "cell_type": "code",
   "execution_count": null,
   "id": "0d656b31",
   "metadata": {},
   "outputs": [],
   "source": [
    "TD = pd.DataFrame(columns=['yearAM', 'Q_S1', 'Q_S2', 'diff'])\n",
    "TD['yearAM'] = AM2['yearAM']\n",
    "TD['Q_S1'] = AM1['Q_S1']\n",
    "TD['Q_S2'] = AM2['Q_S2']\n",
    "TD['diff'] = diff "
   ]
  },
  {
   "cell_type": "code",
   "execution_count": null,
   "id": "76548c6c",
   "metadata": {},
   "outputs": [],
   "source": [
    "import matplotlib.colors\n",
    "RdRd = matplotlib.colors.LinearSegmentedColormap.from_list(\"\", [\"red\", \"white\", \"red\"])"
   ]
  },
  {
   "cell_type": "code",
   "execution_count": null,
   "id": "379998c3",
   "metadata": {},
   "outputs": [],
   "source": [
    "lim = 5\n",
    "vmin= -lim #TD['diff'].min() \n",
    "vmax= lim #TD['diff'].max()\n",
    "\n",
    "cmap = 'seismic' #RdRd\n",
    "\n",
    "plt.figure(figsize=(9, 7)) \n",
    "#     plt.plot(df1[b1], df1[b2], 'o', color=color, label=f'{Legend1}')\n",
    "plt.scatter(TD['Q_S1'][(TD['diff'] >= -lim) & (TD['diff'] <= lim)], TD['Q_S2'][(TD['diff'] >= -lim) & (TD['diff'] <= lim)], c=TD['diff'][(TD['diff'] >= -lim) & (TD['diff'] <= lim)], cmap=cmap, vmin=vmin, vmax=vmax, s=80, edgecolors='k', zorder=2) #norm=mcol.LogNorm(vmin=vmin, vmax=vmax), \n",
    "plt.colorbar(label=\"Time difference \\n (days)\", orientation=\"vertical\")\n",
    "# plt.ylim(ymin=-0.02, ymax = 1.02)\n",
    "plt.xticks(fontsize = 12, rotation = 90)\n",
    "plt.yticks(fontsize = 12)\n",
    "pp = len(TD['Q_S1'][(TD['diff'] >= -lim) & (TD['diff'] <= lim)])/50000*100\n",
    "plt.title(f'Peak discharge and Time difference \\n between Stream1 and Stream2', y=1.05, fontsize = 20) \n",
    "plt.text(s=f'    Peaks with a time difference +- {lim} days ({pp:.2f}%)', x=0.5, y=4650, fontsize = 16)\n",
    "plt.xlabel('Q_S1 peak discharge \\n (m3/s)', fontsize = 18)\n",
    "plt.ylabel('Q_S2 peak discharge \\n (m3/s)', fontsize = 18) \n",
    "#     plt.legend(fontsize=18, bbox_to_anchor=(1,1), loc=\"upper left\")\n",
    "plt.grid()   "
   ]
  },
  {
   "cell_type": "code",
   "execution_count": null,
   "id": "22d0f9a2",
   "metadata": {},
   "outputs": [],
   "source": [
    "x = np.arange(-365,366)\n",
    "y = np.zeros(len(x))\n",
    "count = 0\n",
    "for i in x:\n",
    "    y[count] = len(TD[TD['diff'] == i])\n",
    "    count += 1"
   ]
  },
  {
   "cell_type": "code",
   "execution_count": null,
   "id": "b2bdca16",
   "metadata": {},
   "outputs": [],
   "source": [
    "plt.figure(figsize=(8, 5))\n",
    "plt.bar(x, y, color='Blue', edgecolor= 'k', width=1, zorder=3)\n",
    "plt.plot(x, y, 'r', zorder=4)\n",
    "plt.title(f'Time difference between peaks \\n Stream1 - Stream2', fontsize=18) #runoff\n",
    "plt.xlabel(f'Days', fontsize=14)\n",
    "plt.xlim([-7,7])\n",
    "plt.xticks(fontsize=12,)\n",
    "plt.ylabel(f'Number of peaks', fontsize=14) #Q m3/s\n",
    "plt.yticks(fontsize=12)\n",
    "# plt.legend(fontsize=12, bbox_to_anchor=(1,1), loc=\"upper left\")\n",
    "plt.grid(color='lightgray', zorder=-1)\n",
    "plt.tight_layout()"
   ]
  },
  {
   "cell_type": "code",
   "execution_count": null,
   "id": "2dc1b56e",
   "metadata": {},
   "outputs": [],
   "source": [
    "year = 2760\n",
    "arg1  = AM1['Unnamed: 0'].loc[AM1.yearAM == year] - 1\n",
    "arg2  = AM2['Unnamed: 0'].loc[AM2.yearAM == year] - 1\n",
    "arg3  = AM3['Unnamed: 0'].loc[AM3.yearAM == year] - 1\n",
    "\n",
    "columns = ['Q_S2']\n",
    "data = TS_C68.loc[start:end, columns]\n",
    "\n",
    "plt.figure(figsize=(20, 5))\n",
    "plt.plot(TS_C68.Q_S1.loc[TS_C68.yearAM == year], 'b', label='Mainstream')\n",
    "plt.plot(TS_C68.Q_S2.loc[TS_C68.yearAM == year], 'g', label='Tributary')\n",
    "plt.plot(TS_C68.Q_C.loc[TS_C68.yearAM == year], 'grey', label='Confluence')\n",
    "\n",
    "plt.plot(arg1, AM1.Q_S1.loc[AM1.yearAM == year], color='midnightblue', marker='o', markersize=10, ls='', label=f'Annual Maxima')\n",
    "plt.plot(arg1, AM1.Q_S2.loc[AM1.yearAM == year], color='midnightblue', marker='*', markersize=8, ls='', label=f'Concurrent flow')\n",
    "\n",
    "plt.plot(arg2, AM2.Q_S2.loc[AM2.yearAM == year], color='darkolivegreen', marker='o', markersize=10, ls='')#, label=f'Tributary stream Annual Maxima')\n",
    "plt.plot(arg2, AM2.Q_S1.loc[AM2.yearAM == year], color='darkolivegreen', marker='*', markersize=8, ls='')#, label=f'Mainstream Concurrent')\n",
    "\n",
    "plt.plot(arg3, AM3.Q_C.loc[AM3.yearAM == year], color='grey', marker='o', markersize=10, ls='')#, label=f'Confluence Annual Maxima')\n",
    "plt.plot(arg3, AM3.Q_S1.loc[AM3.yearAM == year], color='grey', marker='*', markersize=8, ls='')#, label=f'Mainstream Concurrent')\n",
    "plt.plot(arg3, AM3.Q_S2.loc[AM3.yearAM == year], color='grey', marker='*', markersize=8, ls='')#, label=f'Tributary stream Concurrent')\n",
    "\n",
    "plt.title(f'Sets of Annual Maxima', fontsize=22) #Runoff\n",
    "plt.xlabel('Day', fontsize=14)\n",
    "plt.ylabel('Discharge (m3/sec)', fontsize=14) # Q m3/s\n",
    "plt.xticks(fontsize=12)\n",
    "plt.yticks(fontsize=12)\n",
    "plt.legend(fontsize=12, bbox_to_anchor=(1,1), loc=\"upper left\")\n",
    "plt.grid()"
   ]
  },
  {
   "cell_type": "code",
   "execution_count": null,
   "id": "35a06270",
   "metadata": {},
   "outputs": [],
   "source": [
    "year = 2173\n",
    "arg1  = AM1['Unnamed: 0'].loc[AM1.yearAM == year] - 1\n",
    "arg2  = AM2['Unnamed: 0'].loc[AM2.yearAM == year] - 1\n",
    "arg3  = AM3['Unnamed: 0'].loc[AM3.yearAM == year] - 1\n",
    "\n",
    "columns = ['Q_S2']\n",
    "data = TS_C68.loc[start:end, columns]\n",
    "\n",
    "plt.figure(figsize=(20, 5))\n",
    "plt.plot(TS_C68.Q_S1.loc[TS_C68.yearAM == year], 'b', label='Mainstream')\n",
    "plt.plot(TS_C68.Q_S2.loc[TS_C68.yearAM == year], 'g', label='Tributary')\n",
    "plt.plot(TS_C68.Q_C.loc[TS_C68.yearAM == year], 'grey', label='Confluence')\n",
    "\n",
    "plt.plot(arg1, AM1.Q_S1.loc[AM1.yearAM == year], color='midnightblue', marker='o', markersize=10, ls='', label=f'Annual Maxima')\n",
    "plt.plot(arg1, AM1.Q_S2.loc[AM1.yearAM == year], color='midnightblue', marker='*', markersize=8, ls='', label=f'Concurrent flow')\n",
    "\n",
    "plt.plot(arg2, AM2.Q_S2.loc[AM2.yearAM == year], color='darkolivegreen', marker='o', markersize=10, ls='')#, label=f'Tributary stream Annual Maxima')\n",
    "plt.plot(arg2, AM2.Q_S1.loc[AM2.yearAM == year], color='darkolivegreen', marker='*', markersize=8, ls='')#, label=f'Mainstream Concurrent')\n",
    "\n",
    "plt.plot(arg3, AM3.Q_C.loc[AM3.yearAM == year], color='grey', marker='o', markersize=10, ls='')#, label=f'Confluence Annual Maxima')\n",
    "plt.plot(arg3, AM3.Q_S1.loc[AM3.yearAM == year], color='grey', marker='*', markersize=8, ls='')#, label=f'Mainstream Concurrent')\n",
    "plt.plot(arg3, AM3.Q_S2.loc[AM3.yearAM == year], color='grey', marker='*', markersize=8, ls='')#, label=f'Tributary stream Concurrent')\n",
    "\n",
    "plt.title(f'Sets of Annual Maxima', fontsize=22) #Runoff\n",
    "plt.xlabel('Day', fontsize=14)\n",
    "plt.ylabel('Discharge (m3/sec)', fontsize=14) # Q m3/s\n",
    "plt.xticks(fontsize=12)\n",
    "plt.yticks(fontsize=12)\n",
    "plt.legend(fontsize=12, bbox_to_anchor=(1,1), loc=\"upper left\")\n",
    "plt.grid()"
   ]
  },
  {
   "cell_type": "code",
   "execution_count": null,
   "id": "f8935e8b",
   "metadata": {},
   "outputs": [],
   "source": [
    "start=500\n",
    "end=1000\n",
    "\n",
    "columns = ['Q_S2']\n",
    "data = TS_C68.loc[start:end, columns]\n",
    "\n",
    "plt.figure(figsize=(20, 5))\n",
    "plt.plot(TS_C68.Q_S1.loc[start:end], 'b', label='1 day')\n",
    "\n",
    "plt.title(f'Hydrological', fontsize=22) #Runoff\n",
    "plt.xlabel('Day', fontsize=14)\n",
    "plt.ylabel('Discharge (m3/sec)', fontsize=14) # Q m3/s\n",
    "plt.xticks(fontsize=12)\n",
    "plt.yticks(fontsize=12)\n",
    "plt.legend(fontsize=12, bbox_to_anchor=(1,1), loc=\"upper left\")\n",
    "plt.grid()"
   ]
  },
  {
   "cell_type": "code",
   "execution_count": null,
   "id": "b1ad4087",
   "metadata": {},
   "outputs": [],
   "source": [
    "def plotSsets(AM1, AM2, AM3, c, td, peaks, color):\n",
    "#     AM1 = pd.read_pickle(op + \"AM1.pkl\")\n",
    "#     AM2 = pd.read_pickle(op + \"AM2.pkl\")\n",
    "#     AM3 = pd.read_pickle(op + \"AM3.pkl\")\n",
    "    \n",
    "    AM1['ind'] = np.arange(len(AM1))\n",
    "    AM2['ind'] = np.arange(len(AM2))\n",
    "    AM3['ind'] = np.arange(len(AM3))\n",
    "    rho1, Sp1 = spearmanr(AM1['Q_S1'], AM1['Q_S2'])\n",
    "    rho2, Sp2 = spearmanr(AM2['Q_S1'], AM2['Q_S2'])\n",
    "    rho3, Sp3 = spearmanr(AM3['Q_S1'], AM3['Q_S2'])\n",
    "    \n",
    "    randomindex1 = np.random.choice(AM1.ind, size=peaks, replace=False)\n",
    "    set1 = pd.DataFrame()\n",
    "    set2 = pd.DataFrame()\n",
    "    set3 = pd.DataFrame()\n",
    "    for i in range(peaks):\n",
    "        set1 = set1.append(AM1.loc[AM1.ind == randomindex1[i]])\n",
    "        set2 = set2.append(AM2.loc[AM2.ind == randomindex1[i]])\n",
    "        set3 = set3.append(AM3.loc[AM3.ind == randomindex1[i]])\n",
    "    \n",
    "    \n",
    "    plt.figure(figsize=(7, 7))\n",
    "    plt.plot(set1['Q_S1'], set1['Q_S2'], 'o', color='none', markeredgecolor=color,markersize=10, label=f'Set 1: S1max-S2conc \\n rho={rho1:.4f}')\n",
    "    plt.plot(set2['Q_S1'], set2['Q_S2'], 'x', color=color, markersize=9, label=f'Set 2: S2max-S1conc \\n rho={rho2:.4f}')\n",
    "    plt.plot(set3['Q_S1'], set3['Q_S2'], '.', color=color, markersize=10, label=f'Set 3: Cmax (C=S1+S2) \\n rho={rho3:.4f}')\n",
    "    plt.title(f'Annual Maxima Peaks', fontsize=20, y=1.05)\n",
    "    plt.xlabel(f'Mainstream (M1) \\n (m3/sec)', fontsize=18)\n",
    "    plt.ylabel(f'Tributary stream (TS) \\n (m3/sec)', fontsize=18)\n",
    "    # plt.xlim(left=0, right=16000)\n",
    "    # plt.ylim(ymin = 0, ymax =4000)\n",
    "    plt.xticks(fontsize=12, rotation=90)\n",
    "    plt.yticks(fontsize=12)\n",
    "    # plt.legend(fontsize=18, bbox_to_anchor=(1,1), loc=\"upper left\")\n",
    "\n",
    "    plt.grid()\n",
    "    return"
   ]
  },
  {
   "cell_type": "code",
   "execution_count": null,
   "id": "82e48567",
   "metadata": {},
   "outputs": [],
   "source": [
    "td = 'HYD | Discharge 1d'\n",
    "unit = 'm3/sec'\n",
    "desc = 'disc1d'\n",
    "c = 67\n",
    "peaks = 50\n",
    "color = 'b'\n",
    "plotSsets(AM1, AM2, AM3, c, td, peaks, color)"
   ]
  },
  {
   "cell_type": "code",
   "execution_count": null,
   "id": "12cf1d95",
   "metadata": {},
   "outputs": [],
   "source": [
    "td = 'HYD | Discharge 1d'\n",
    "unit = 'm3/sec'\n",
    "desc = 'disc1d'\n",
    "c = 67\n",
    "peaks = 50\n",
    "color = 'b'\n",
    "\n",
    "AM1['ind'] = np.arange(len(AM1))\n",
    "AM2['ind'] = np.arange(len(AM2))\n",
    "AM3['ind'] = np.arange(len(AM3))\n",
    "\n",
    "\n",
    "randomindex1 = np.random.choice(AM1.ind, size=peaks, replace=False)\n",
    "set1 = pd.DataFrame()\n",
    "set2 = pd.DataFrame()\n",
    "set3 = pd.DataFrame()\n",
    "for i in range(peaks):\n",
    "    set1 = set1.append(AM1.loc[AM1.ind == randomindex1[i]])\n",
    "    set2 = set2.append(AM2.loc[AM2.ind == randomindex1[i]])\n",
    "    set3 = set3.append(AM3.loc[AM3.ind == randomindex1[i]])\n",
    "\n",
    "rho1, Sp1 = spearmanr(set1['Q_S1'], set1['Q_S2'])\n",
    "rho2, Sp2 = spearmanr(set2['Q_S1'], set2['Q_S2'])\n",
    "rho3, Sp3 = spearmanr(set3['Q_S1'], set3['Q_S2'])"
   ]
  },
  {
   "cell_type": "code",
   "execution_count": null,
   "id": "3099d147",
   "metadata": {},
   "outputs": [],
   "source": [
    "rho1, Sp1 = spearmanr(AM1['Q_S1'], AM1['Q_S2'])\n",
    "N = 50000\n",
    "plt.figure(figsize=(7, 7))\n",
    "plt.plot(AM1['Q_S1'], AM1['Q_S2'], 'o', color='none', markeredgecolor=color,markersize=10, label=f'N={peaks} \\n rho={rho1:.4f}')#, label=f'Set 1: S1max-S2conc \\n rho={rho1:.4f}')\n",
    "# plt.plot(set2['Q_S1'], set2['Q_S2'], 'x', color=color, markersize=9, label=f'Set 2: S2max-S1conc \\n rho={rho2:.4f}')\n",
    "# plt.plot(set3['Q_S1'], set3['Q_S2'], '.', color=color, markersize=10, label=f'Set 3: Cmax (C=S1+S2) \\n rho={rho3:.4f}')\n",
    "plt.title(f'Annual Maxima Peaks', fontsize=20, y=1.05)\n",
    "plt.xlabel(f'Mainstream (MS) \\n (m3/sec)', fontsize=18)\n",
    "plt.ylabel(f'Tributary stream (TS) \\n (m3/sec)', fontsize=18)\n",
    "# plt.xlim(left=0, right=16000)\n",
    "# plt.ylim(ymin = 0, ymax =4000)\n",
    "plt.xticks(fontsize=12, rotation=90)\n",
    "plt.yticks(fontsize=12)\n",
    "# plt.legend(fontsize=18, bbox_to_anchor=(1,1), loc=\"upper left\")"
   ]
  },
  {
   "cell_type": "code",
   "execution_count": null,
   "id": "89cf3d57",
   "metadata": {},
   "outputs": [],
   "source": [
    "def plotS1set(AM1, c, td, peaks, color):\n",
    "#     AM1 = pd.read_pickle(op + \"AM1.pkl\")\n",
    "#     AM2 = pd.read_pickle(op + \"AM2.pkl\")\n",
    "#     AM3 = pd.read_pickle(op + \"AM3.pkl\")\n",
    "    \n",
    "    AM1['ind'] = np.arange(len(AM1))\n",
    "    # AM2['ind'] = np.arange(len(AM2))\n",
    "    # AM3['ind'] = np.arange(len(AM3))\n",
    "    rho1, Sp1 = spearmanr(AM1['Q_S1'], AM1['Q_S2'])\n",
    "    # rho2, Sp2 = spearmanr(AM2['Q_S1'], AM2['Q_S2'])\n",
    "    # rho3, Sp3 = spearmanr(AM3['Q_S1'], AM3['Q_S2'])\n",
    "    \n",
    "    randomindex1 = np.random.choice(AM1.ind, size=peaks, replace=False)\n",
    "    set1 = pd.DataFrame()\n",
    "    # set2 = pd.DataFrame()\n",
    "    # set3 = pd.DataFrame()\n",
    "    for i in range(peaks):\n",
    "        set1 = set1.append(AM1.loc[AM1.ind == randomindex1[i]])\n",
    "        # set2 = set2.append(AM2.loc[AM2.ind == randomindex1[i]])\n",
    "        # set3 = set3.append(AM3.loc[AM3.ind == randomindex1[i]])\n",
    "    \n",
    "    rho1, Sp1 = spearmanr(set1['Q_S1'], set1['Q_S2'])\n",
    "    \n",
    "    plt.figure(figsize=(7, 7))\n",
    "    plt.plot(set1['Q_S1'], set1['Q_S2'], 'o', color='none', markeredgecolor=color,markersize=10, label=f'N={peaks} \\n rho={rho1:.4f}')\n",
    "    # plt.plot(set2['Q_S1'], set2['Q_S2'], 'x', color=color, markersize=9, label=f'Set 2: S2max-S1conc \\n rho={rho2:.4f}')\n",
    "    # plt.plot(set3['Q_S1'], set3['Q_S2'], '.', color=color, markersize=10, label=f'Set 3: Cmax (C=S1+S2) \\n rho={rho3:.4f}')\n",
    "    plt.title(f'Annual Maxima Peaks \\n Random sample', fontsize=30, y=1.05)\n",
    "    plt.xlabel(f'Mainstream (MS) \\n (m3/sec)', fontsize=24)\n",
    "    plt.ylabel(f'Tributary stream (TS) \\n (m3/sec)', fontsize=24)\n",
    "    # plt.xlim(left=0, right=16000)\n",
    "    # plt.ylim(ymin = 0, ymax =4000)\n",
    "    plt.xticks(fontsize=18, rotation=90)\n",
    "    plt.yticks(fontsize=18)\n",
    "    plt.legend(fontsize=24, bbox_to_anchor=(1,1), loc=\"upper left\")\n",
    "\n",
    "    plt.grid()\n",
    "    return"
   ]
  },
  {
   "cell_type": "code",
   "execution_count": null,
   "id": "01bfd03b",
   "metadata": {},
   "outputs": [],
   "source": [
    "td = 'HYD | Discharge 1d'\n",
    "unit = 'm3/sec'\n",
    "desc = 'disc1d'\n",
    "c = 67\n",
    "peaks = 20\n",
    "color = 'b'\n",
    "plotS1set(AM1, c, td, peaks, color)"
   ]
  }
 ],
 "metadata": {
  "interpreter": {
   "hash": "dba0fec6c0a5dc3650c48ce5794cc777babb314a0f31f50d55fe76ea6fe6645b"
  },
  "kernelspec": {
   "display_name": "Python 3 (ipykernel)",
   "language": "python",
   "name": "python3"
  },
  "language_info": {
   "codemirror_mode": {
    "name": "ipython",
    "version": 3
   },
   "file_extension": ".py",
   "mimetype": "text/x-python",
   "name": "python",
   "nbconvert_exporter": "python",
   "pygments_lexer": "ipython3",
   "version": "3.9.7"
  }
 },
 "nbformat": 4,
 "nbformat_minor": 5
}
