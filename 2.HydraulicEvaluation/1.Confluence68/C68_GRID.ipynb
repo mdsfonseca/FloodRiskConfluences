{
 "cells": [
  {
   "cell_type": "code",
   "execution_count": null,
   "metadata": {},
   "outputs": [],
   "source": [
    "%matplotlib inline\n",
    "import numpy as np\n",
    "import matplotlib.pyplot as plt\n",
    "from matplotlib.lines import Line2D\n",
    "import pandas as pd\n",
    "\n",
    "from scipy.stats import spearmanr\n",
    "from scipy.stats import norm\n",
    "\n",
    "import statsmodels.api as sm\n",
    "from datetime import datetime"
   ]
  },
  {
   "cell_type": "markdown",
   "metadata": {},
   "source": [
    "Determination of the grid of discharge combinations to be simulated\n",
    "\n",
    "Creation of the Time series files for the 25 hydraulic simulations\n",
    "\n",
    "Creation of the file to store the response function"
   ]
  },
  {
   "cell_type": "code",
   "execution_count": null,
   "metadata": {},
   "outputs": [],
   "source": [
    "c = 68\n",
    "op = r\"P:\\11206883-006-dar-cloud-computing\\GRADE_export\\HIDnew\\05_HYDzoom\" + r\"\\C%d_\" %c + r\"disc1d_\"\n",
    "    \n",
    "AM1 = pd.read_pickle(op + \"AM1.pkl\")\n",
    "AM2 = pd.read_pickle(op + \"AM2.pkl\")\n",
    "AM3 = pd.read_pickle(op + \"AM3.pkl\")"
   ]
  },
  {
   "cell_type": "code",
   "execution_count": null,
   "metadata": {},
   "outputs": [],
   "source": [
    "c = 67\n",
    "peaks = 49960\n",
    "color = 'Blue'\n",
    "unit = 'm3/s'\n",
    "td = 'HYD | Discharge 1d'\n",
    "\n",
    "plt.figure(figsize=(7, 7))\n",
    "color='blue'\n",
    "plt.plot(AM1['Q_S1'], AM1['Q_S2'], 'o', color='none', markeredgecolor=color,markersize=10, label='Set 1: S1max-S2conc')\n",
    "plt.plot(AM2['Q_S1'], AM2['Q_S2'], 'x', color=color, markersize=9, label='Set 2: S2max-S1conc')\n",
    "plt.plot(AM3['Q_S1'], AM3['Q_S2'], '.', color=color, markersize=10, label='Set 3: Cmax (C=S1+S2)')\n",
    "\n",
    "S1_lim = [3000, 5000, 7000, 9000]\n",
    "for i in S1_lim:\n",
    "    plt.axvline(x = i, color = 'r', linestyle = '--')#, label=f'Q_S1=({TS_C68.Q_S1.mean():.0f}m3/s)')\n",
    "# plt.axvline(x = TS_C68.Q_S1.median(), color = 'orange', linestyle = '--', label=f'Q_S1median ({TS_C68.Q_S1.median():.0f}m3/s)')\n",
    "\n",
    "S2_lim = [960, 1820, 2680, 3540]\n",
    "for i in S2_lim:\n",
    "    plt.axhline(y = i, color = 'r', linestyle = '--')#, label=f'Q_S2mean ({TS_C68.Q_S2.mean():.0f}m3/s)')\n",
    "# plt.axhline(y = TS_C68.Q_S2.median(), color = 'orange', linestyle = '--', label=f'Q_S2median ({TS_C68.Q_S2.median():.0f}m3/s)')\n",
    "\n",
    "\n",
    "plt.title(f'{td} | C{c+1} ({peaks} peaks AM)', fontsize=20, y=1.05)\n",
    "plt.xlabel(f'S1 ({unit})', fontsize=18)\n",
    "plt.ylabel(f'S2 ({unit})', fontsize=18)\n",
    "plt.xlim(left=0, right=12000)\n",
    "plt.ylim(ymin = 0, ymax =4500)\n",
    "plt.xticks(fontsize=12, rotation=90)\n",
    "plt.yticks(fontsize=12)\n",
    "plt.legend(fontsize=18, bbox_to_anchor=(1,1), loc=\"upper left\")\n",
    "plt.grid()"
   ]
  },
  {
   "cell_type": "code",
   "execution_count": null,
   "metadata": {},
   "outputs": [],
   "source": [
    "AM1_S1min, AM1_S1max = AM1['Q_S1'].min(), AM1['Q_S1'].max()\n",
    "AM2_S1min, AM2_S1max = AM2['Q_S1'].min(), AM2['Q_S1'].max()\n",
    "AM2_S1min, AM3_S1max = AM3['Q_S1'].min(), AM3['Q_S1'].max()\n",
    "S1min = np.min((AM1_S1min, AM2_S1min, AM2_S1min))\n",
    "S1max = np.max((AM1_S1max, AM2_S1max, AM2_S1max))\n",
    "S1min = np.round(S1min, 2)\n",
    "S1max = np.round(S1max, 2)\n",
    "a = np.round((S1max-S1min)/4, 2)\n",
    "S1min, a\n",
    "S1 = [S1min, S1min+a, S1min+2*a, S1min+3*a, S1max]\n",
    "S1 = np.round(S1,2)\n"
   ]
  },
  {
   "cell_type": "code",
   "execution_count": null,
   "metadata": {},
   "outputs": [],
   "source": [
    "# a = np.round((S1max-S1min)/5, 2)\n",
    "# S1_lim = [S1min, S1min+a, S1min+2*a, S1min+3*a, S1min+4*a, S1max]\n",
    "# S1_lim = np.round(S1_lim, 2)\n",
    "# S1_lim\n",
    "S1_lim = [(S1[0]+S1[1])/2, (S1[1]+S1[2])/2, (S1[2]+S1[3])/2, (S1[3]+S1[4])/2]\n",
    "S1_lim = np.round(S1_lim, 0)\n",
    "S1_lim"
   ]
  },
  {
   "cell_type": "code",
   "execution_count": null,
   "metadata": {},
   "outputs": [],
   "source": [
    "AM1_S2min, AM1_S2max = AM1['Q_S2'].min(), AM1['Q_S2'].max()\n",
    "AM2_S2min, AM2_S2max = AM2['Q_S2'].min(), AM2['Q_S2'].max()\n",
    "AM2_S2min, AM3_S2max = AM3['Q_S2'].min(), AM3['Q_S2'].max()\n",
    "S2min = np.min((AM1_S2min, AM2_S2min, AM2_S2min))\n",
    "S2max = np.max((AM1_S2max, AM2_S2max, AM2_S2max))\n",
    "S2min, S2max\n",
    "a = np.round((S2max-S2min)/4, 2)\n",
    "S2 = [S2min, S2min+a, S2min+2*a, S2min+3*a, S2max]\n",
    "S2 = np.round(S2,2)\n"
   ]
  },
  {
   "cell_type": "code",
   "execution_count": null,
   "metadata": {},
   "outputs": [],
   "source": [
    "# a = np.round((S2max-S2min)/5, 2)\n",
    "# S2_lim = [S2min, S2min+a, S2min+2*a, S2min+3*a, S2min+4*a, S2max]\n",
    "# S2_lim = np.round(S2_lim, 2)\n",
    "# S2_lim\n",
    "S2_lim = [(S2[0]+S2[1])/2,(S2[1]+S2[2])/2, (S2[2]+S2[3])/2, (S2[3]+S2[4])/2]\n",
    "S2_lim = np.round(S2_lim, 0)\n"
   ]
  },
  {
   "cell_type": "code",
   "execution_count": null,
   "metadata": {},
   "outputs": [],
   "source": [
    "c = 67\n",
    "peaks = 49960\n",
    "color = 'Blue'\n",
    "unit = 'm3/s'\n",
    "td = 'HYD | Discharge 1d'\n",
    "\n",
    "plt.figure(figsize=(7, 7))\n",
    "color='blue'\n",
    "plt.plot(AM1['Q_S1'], AM1['Q_S2'], 'o', color='none', markeredgecolor=color,markersize=10, label='Set 1: S1max-S2conc')\n",
    "plt.plot(AM2['Q_S1'], AM2['Q_S2'], 'x', color=color, markersize=9, label='Set 2: S2max-S1conc')\n",
    "plt.plot(AM3['Q_S1'], AM3['Q_S2'], '.', color=color, markersize=10, label='Set 3: Cmax (C=S1+S2)')\n",
    "\n",
    "color='red'\n",
    "for s1 in S1:\n",
    "    for s2 in S2:\n",
    "        plt.plot(s1, s2, 'o', color=color, markeredgecolor=color,markersize=8)#, label='Set 1: min')\n",
    "\n",
    "\n",
    "for i in S1_lim:\n",
    "    plt.axvline(x = i, color = 'r', linestyle = '--')#, label=f'Q_S1=({TS_C68.Q_S1.mean():.0f}m3/s)')\n",
    "S1_limlast = 9500\n",
    "# plt.axvline(x = S1_limlast, color = 'orange', linestyle = '--')\n",
    "\n",
    "for i in S2_lim:\n",
    "    plt.axhline(y = i, color = 'r', linestyle = '--')#, label=f'Q_S2mean ({TS_C68.Q_S2.mean():.0f}m3/s)')\n",
    "S2_limlast = 3600\n",
    "# plt.axhline(y = S2_limlast, color = 'orange', linestyle = '--')\n",
    "# S1_lim = [3000, 5000, 7000, 9000]\n",
    "# for i in S1_lim:\n",
    "#     plt.axvline(x = i, color = 'g', linestyle = '--')#, label=f'Q_S1=({TS_C68.Q_S1.mean():.0f}m3/s)')\n",
    "\n",
    "# S2_lim = [960, 1820, 2680, 3540]\n",
    "# for i in S2_lim:\n",
    "#     plt.axhline(y = i, color = 'g', linestyle = '--')#, label=f'Q_S2mean ({TS_C68.Q_S2.mean():.0f}m3/s)')\n",
    "\n",
    "\n",
    "\n",
    "S1_n = ['S0', 'S1', 'S2', 'S3', 'S4']\n",
    "S2_n = ['S0', 'S1', 'S2', 'S3', 'S4']\n",
    "\n",
    "\n",
    "plt.title(f'Grid of discharges', fontsize=20, y=1.05) #{td} | C{c+1} ({peaks} peaks AM)\n",
    "plt.xlabel(f'S1-Rhine ({unit})', fontsize=18)\n",
    "plt.ylabel(f'S2-Main ({unit})', fontsize=18)\n",
    "plt.xlim(left=0, right=12000)\n",
    "plt.ylim(ymin = 0, ymax =4500)\n",
    "plt.xticks(ticks=S1, labels=S1_n, fontsize=12, rotation=0)\n",
    "plt.yticks(ticks=S2, labels=S2_n, fontsize=12)\n",
    "\n",
    "legend_elements = [Line2D([0], [0], marker='o', color='w', label='Hydraulic Simulations', markerfacecolor='red', markersize=10), \n",
    "                Line2D([0], [0], marker=None, color='r', ls='--', label='Normalized hydrograph classes')]\n",
    "\n",
    "plt.legend(handles=legend_elements, fontsize=16, bbox_to_anchor=(1,1), loc=\"upper left\")\n",
    "# plt.legend(fontsize=18, bbox_to_anchor=(1,1), loc=\"upper left\")\n",
    "plt.grid()"
   ]
  },
  {
   "cell_type": "markdown",
   "metadata": {},
   "source": [
    "Making the Discharge files"
   ]
  },
  {
   "cell_type": "code",
   "execution_count": null,
   "metadata": {},
   "outputs": [],
   "source": [
    "#Open the normalized hydrographs\n",
    "fn = r'C:\\Users\\Fonse_ma\\OneDrive - Stichting Deltares\\Desktop\\Maria\\Notebooks\\RQ3\\data\\NormHyd'\n",
    "S1_uh = []\n",
    "sv = r'\\S1_1_UnitH.csv'\n",
    "S1_uh.append(np.genfromtxt(fn+sv, delimiter=',')[1:,1]) \n",
    "sv = r'\\S1_2_UnitH.csv'\n",
    "S1_uh.append(np.genfromtxt(fn+sv, delimiter=',')[1:,1]) \n",
    "sv = r'\\S1_3_UnitH.csv'\n",
    "S1_uh.append(np.genfromtxt(fn+sv, delimiter=',')[1:,1]) \n",
    "sv = r'\\S1_4_UnitH.csv'\n",
    "S1_uh.append(np.genfromtxt(fn+sv, delimiter=',')[1:,1]) \n",
    "sv = r'\\S1_5_UnitH.csv'\n",
    "S1_uh.append(np.genfromtxt(fn+sv, delimiter=',')[1:,1]) "
   ]
  },
  {
   "cell_type": "code",
   "execution_count": null,
   "metadata": {},
   "outputs": [],
   "source": [
    "S2_uh = []\n",
    "sv = r'\\S2_1_UnitH.csv'\n",
    "S2_uh.append(np.genfromtxt(fn+sv, delimiter=',')[1:,1]) \n",
    "sv = r'\\S2_2_UnitH.csv'\n",
    "S2_uh.append(np.genfromtxt(fn+sv, delimiter=',')[1:,1]) \n",
    "sv = r'\\S2_3_UnitH.csv'\n",
    "S2_uh.append(np.genfromtxt(fn+sv, delimiter=',')[1:,1]) \n",
    "sv = r'\\S2_4_UnitH.csv'\n",
    "S2_uh.append(np.genfromtxt(fn+sv, delimiter=',')[1:,1]) \n",
    "sv = r'\\S2_5_UnitH.csv'\n",
    "S2_uh.append(np.genfromtxt(fn+sv, delimiter=',')[1:,1]) "
   ]
  },
  {
   "cell_type": "code",
   "execution_count": null,
   "metadata": {},
   "outputs": [],
   "source": [
    "fn = r'C:\\Users\\Fonse_ma\\OneDrive - Stichting Deltares\\Desktop\\Maria\\Notebooks\\RQ3\\data\\TS\\TS_UnitHbase.csv'\n",
    "UH = pd.read_csv(fn, index_col='date', parse_dates=True)\n"
   ]
  },
  {
   "cell_type": "code",
   "execution_count": null,
   "metadata": {},
   "outputs": [],
   "source": [
    "fn = r'C:\\Users\\Fonse_ma\\OneDrive - Stichting Deltares\\Desktop\\Maria\\Notebooks\\RQ3\\data\\TS\\TS_UnitHbase2.csv'\n",
    "for s1 in range(len(S1)):\n",
    "    for s2 in range(len(S2)):\n",
    "        dis = pd.read_csv(fn, index_col='date', parse_dates=True)\n",
    "        dis['1'][3:-1] = S1_uh[s1]\n",
    "        dis['1'][-1] = dis['1'][-2]\n",
    "        dis['2'][4:] = S2_uh[s2]\n",
    "\n",
    "        dis['1'] = dis['1'] * S1[s1]\n",
    "        dis['2'] = dis['2'] * S2[s2]\n",
    "        dis\n",
    "\n",
    "        fnsv = r'C:\\Users\\Fonse_ma\\OneDrive - Stichting Deltares\\Desktop\\Maria\\Notebooks\\RQ3\\data\\TSgrid'\n",
    "        sv = r'\\TS_S%d' %s1 + r'_S%d.csv' %s2\n",
    "        dis.to_csv(fnsv + sv, sep=',')"
   ]
  },
  {
   "cell_type": "code",
   "execution_count": null,
   "metadata": {},
   "outputs": [],
   "source": [
    "# to read them\n",
    "fn = r'C:\\Users\\Fonse_ma\\OneDrive - Stichting Deltares\\Desktop\\Maria\\Notebooks\\RQ3\\data\\TSgrid'\n",
    "for s1 in range(len(S1)):\n",
    "    for s2 in range(len(S2)):\n",
    "        sv = r'\\TS_S%d' %s1 + r'_S%d.csv' %s2\n",
    "        dis = pd.read_csv(fn + sv, index_col='date', parse_dates=True)"
   ]
  },
  {
   "cell_type": "code",
   "execution_count": null,
   "metadata": {},
   "outputs": [],
   "source": [
    "\n",
    "uh['1'][3:] = hydrograph_mean0\n",
    "uh['1'][3:-1] = uh['1'][3:-2]\n",
    "uh['2'][4:] = S2_hydrograph_mean0\n",
    "uh\n",
    "\n",
    "Q1 = 6000\n",
    "Q2 = 2000\n",
    "uh['1'] = uh['1'] * Q1\n",
    "uh['2'] = uh['2'] * Q2\n",
    "uh\n",
    "\n",
    "\n",
    "dis['1'][3:]\n",
    "\n",
    "Q1 = 6000\n",
    "Q2 = 2000\n",
    "dis['1'][3:] = dis['1'][3:] * Q1\n",
    "dis['2'][4:] = dis['2'][4:] * Q2\n",
    "dis"
   ]
  },
  {
   "cell_type": "markdown",
   "metadata": {},
   "source": [
    "Grid for the results"
   ]
  },
  {
   "cell_type": "code",
   "execution_count": null,
   "metadata": {},
   "outputs": [],
   "source": [
    "Response = pd.DataFrame(index=[S2[0],S2[1],S2[2],S2[3],S2[4]] ,columns=[S1[0],S1[1],S1[2],S1[3],S1[4]])\n",
    "Response"
   ]
  },
  {
   "cell_type": "code",
   "execution_count": null,
   "metadata": {},
   "outputs": [],
   "source": [
    "#Discharges S1, S2\n",
    "#names\n",
    "S1_n = ['S0', 'S1', 'S2', 'S3', 'S4']\n",
    "S2_n = ['S0', 'S1', 'S2', 'S3', 'S4']\n",
    "Response = pd.DataFrame(index=[S1_n] ,columns=[S2_n])\n",
    "Response\n",
    "fnsv = r'C:\\Users\\Fonse_ma\\OneDrive - Stichting Deltares\\Desktop\\Maria\\Notebooks\\RQ3\\data\\TSgrid'\n",
    "sv = r'\\ResponseGrid.pkl'\n",
    "dis.to_pickle(fnsv + sv)"
   ]
  }
 ],
 "metadata": {
  "interpreter": {
   "hash": "dba0fec6c0a5dc3650c48ce5794cc777babb314a0f31f50d55fe76ea6fe6645b"
  },
  "kernelspec": {
   "display_name": "Python 3.9.7 ('dar-cloud')",
   "language": "python",
   "name": "python3"
  },
  "language_info": {
   "codemirror_mode": {
    "name": "ipython",
    "version": 3
   },
   "file_extension": ".py",
   "mimetype": "text/x-python",
   "name": "python",
   "nbconvert_exporter": "python",
   "pygments_lexer": "ipython3",
   "version": "3.9.7"
  },
  "orig_nbformat": 4
 },
 "nbformat": 4,
 "nbformat_minor": 2
}
