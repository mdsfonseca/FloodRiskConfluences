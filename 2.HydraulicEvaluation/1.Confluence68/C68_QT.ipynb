{
 "cells": [
  {
   "cell_type": "code",
   "execution_count": null,
   "metadata": {},
   "outputs": [],
   "source": [
    "%matplotlib inline\n",
    "import numpy as np\n",
    "import matplotlib.pyplot as plt\n",
    "import pandas as pd\n",
    "\n",
    "from scipy.stats import spearmanr\n",
    "from scipy.stats import norm\n",
    "\n",
    "import statsmodels.api as sm\n",
    "from datetime import datetime\n",
    "# from bisect import bisect_left, bisect_right\n",
    "import lmom"
   ]
  },
  {
   "cell_type": "markdown",
   "metadata": {},
   "source": [
    "Calculate the return period discharge (Qt) for each of the rivers"
   ]
  },
  {
   "cell_type": "code",
   "execution_count": null,
   "metadata": {},
   "outputs": [],
   "source": [
    "c = 68\n",
    "op = r\"P:\\11206883-006-dar-cloud-computing\\GRADE_export\\HIDnew\\05_HYDzoom\" + r\"\\C%d_\" %c + r\"disc1d_\"\n",
    "    \n",
    "AM1 = pd.read_pickle(op + \"AM1.pkl\")\n",
    "AM2 = pd.read_pickle(op + \"AM2.pkl\")\n",
    "AM3 = pd.read_pickle(op + \"AM3.pkl\")"
   ]
  },
  {
   "cell_type": "code",
   "execution_count": null,
   "metadata": {},
   "outputs": [],
   "source": [
    "def ecdf(data):\n",
    "    \"\"\" Compute Empirical CDF \"\"\"\n",
    "    x = np.sort(data)\n",
    "    n = x.size\n",
    "    rank = np.arange(1, n+1)\n",
    "    y = rank / (n+1)\n",
    "    return x, y\n",
    "\n",
    "def marginalsPOT(b1, b2, set1):\n",
    "    #Marginal distributions - Parameter estimation\n",
    "    LMU1 = lmom.samlmu(set1[b1])\n",
    "    LMU2 = lmom.samlmu(set1[b2])\n",
    "\n",
    "    #General pareto fit\n",
    "    gpa_fit1 = lmom.pelgpa(LMU1)\n",
    "    gpa_fit2 = lmom.pelgpa(LMU2)\n",
    "    \n",
    "    rho, Sp = spearmanr(set1[b1], set1[b2])\n",
    "    #rho = set1[b1].corr(set1[b2])\n",
    "    return gpa_fit1, gpa_fit2, rho\n",
    "\n",
    "def marginalsAM(b1, b2, set1):\n",
    "    #Marginal distributions - Parameter estimation\n",
    "    LMU1 = lmom.samlmu(set1[b1])\n",
    "    LMU2 = lmom.samlmu(set1[b2])\n",
    "\n",
    "    #General pareto fit\n",
    "    gev_fit1 = lmom.pelgev(LMU1)\n",
    "    gev_fit2 = lmom.pelgev(LMU2)\n",
    "    \n",
    "    rho, Sp = spearmanr(set1[b1], set1[b2])\n",
    "    #rho = set1[b1].corr(set1[b2])\n",
    "    return gev_fit1, gev_fit2, rho"
   ]
  },
  {
   "cell_type": "code",
   "execution_count": null,
   "metadata": {},
   "outputs": [],
   "source": [
    "def empinv(yp, xed, yed):\n",
    "    xp = []\n",
    "    for i in range(len(yed)):\n",
    "        if yp < yed[0]:\n",
    "            xp=xed[0]\n",
    "            break\n",
    "        elif yp > yed[len(yed)-1]:\n",
    "            xp=(xed[len(yed)-1])\n",
    "            break\n",
    "        elif yp == yed[i-1]:\n",
    "            xp=(xed[i-1])\n",
    "        elif yed[i-1] < yp < yed[i]:\n",
    "            y1 = yed[i-1]\n",
    "            y2 = yed[i]\n",
    "            x1 = xed[i-1]\n",
    "            x2 = xed[i]\n",
    "            xcal = x1 + ((x2-x1)/(y2-y1)) * (yp-y1)\n",
    "            xp=(xcal)\n",
    "        #else:\n",
    "         #   xp.append(xed[len(yed)-1])\n",
    "    return xp"
   ]
  },
  {
   "cell_type": "code",
   "execution_count": null,
   "metadata": {},
   "outputs": [],
   "source": [
    "QS1 = AM1['Q_S1'].values\n",
    "QS2 = AM2['Q_S2'].values"
   ]
  },
  {
   "cell_type": "code",
   "execution_count": null,
   "metadata": {},
   "outputs": [],
   "source": [
    "x, y = ecdf(QS1)\n",
    "T = 2\n",
    "p = 1 - 1/T\n",
    "QS1_T2 = empinv(p, x, y)\n",
    "QS1_T2\n",
    "plt.plot(x,y)\n",
    "print(QS1_T2)"
   ]
  },
  {
   "cell_type": "code",
   "execution_count": null,
   "metadata": {},
   "outputs": [],
   "source": [
    "x, y = ecdf(QS2)\n",
    "T = 2\n",
    "p = 1 - 1/T\n",
    "QS2_T2 = empinv(p, x, y)\n",
    "QS2_T2\n",
    "plt.plot(x,y)\n",
    "print(QS2_T2)"
   ]
  },
  {
   "cell_type": "code",
   "execution_count": null,
   "metadata": {},
   "outputs": [],
   "source": [
    "def Q100tradAM(b1, b2, Tc_1):\n",
    "    s1, s2, am1 = dar.AMconf(b1, b2)\n",
    "    \n",
    "    #Determine the distribution parameters\n",
    "    LMU1 = lmom.samlmu(am1['Qc']) #q1+q2 check\n",
    "    gev_fit1 = lmom.pelgev(LMU1)\n",
    "\n",
    "    #determine Q100\n",
    "    T=100\n",
    "    q = 1 - 1/T\n",
    "    Q= lmom.quagev(q, gev_fit1)\n",
    "    \n",
    "    #N-samples\n",
    "    n50=randSet1AM(b1, b2, am1, 50)\n",
    "    LMU1 = lmom.samlmu(n50['Qc']) #q1+q2 check\n",
    "    gev_fit1 = lmom.pelgev(LMU1)\n",
    "    Q50= lmom.quagev(q, gev_fit1)\n",
    "    \n",
    "    n100=randSet1AM(b1, b2, am1, 100)\n",
    "    LMU1 = lmom.samlmu(n100['Qc']) #q1+q2 check\n",
    "    gev_fit1 = lmom.pelgev(LMU1)\n",
    "    Q100= lmom.quagev(q, gev_fit1)\n",
    "    \n",
    "    n500=randSet1AM(b1, b2, am1, 500)\n",
    "    LMU1 = lmom.samlmu(n500['Qc']) #q1+q2 check\n",
    "    gev_fit1 = lmom.pelgev(LMU1)\n",
    "    Q500= lmom.quagev(q, gev_fit1)\n",
    "    \n",
    "    n1000=randSet1AM(b1, b2, am1, 1000)\n",
    "    #Determine the distribution parameters\n",
    "    LMU1 = lmom.samlmu(n1000['Qc']) #q1+q2 check\n",
    "    gev_fit1 = lmom.pelgev(LMU1)\n",
    "    #determine Q100\n",
    "    Q1000= lmom.quagev(q, gev_fit1)\n",
    "\n",
    "    \n",
    "    return Q, Q50, Q100, Q500, Q1000"
   ]
  },
  {
   "cell_type": "code",
   "execution_count": null,
   "metadata": {},
   "outputs": [],
   "source": []
  }
 ],
 "metadata": {
  "interpreter": {
   "hash": "dba0fec6c0a5dc3650c48ce5794cc777babb314a0f31f50d55fe76ea6fe6645b"
  },
  "kernelspec": {
   "display_name": "Python 3.9.7 ('dar-cloud')",
   "language": "python",
   "name": "python3"
  },
  "language_info": {
   "codemirror_mode": {
    "name": "ipython",
    "version": 3
   },
   "file_extension": ".py",
   "mimetype": "text/x-python",
   "name": "python",
   "nbconvert_exporter": "python",
   "pygments_lexer": "ipython3",
   "version": "3.9.7"
  },
  "orig_nbformat": 4
 },
 "nbformat": 4,
 "nbformat_minor": 2
}
