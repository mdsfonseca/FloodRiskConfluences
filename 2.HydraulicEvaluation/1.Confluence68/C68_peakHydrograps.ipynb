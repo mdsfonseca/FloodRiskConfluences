{
 "cells": [
  {
   "cell_type": "code",
   "execution_count": null,
   "metadata": {},
   "outputs": [],
   "source": [
    "%matplotlib inline\n",
    "import hydromt\n",
    "from hydromt import DataCatalog\n",
    "from hydromt_sfincs import SfincsModel\n",
    "import datetime\n",
    "import xarray as xr\n",
    "import sys, os\n",
    "import pandas as pd\n",
    "import numpy as np\n",
    "import matplotlib.pyplot as plt\n",
    "from datetime import date\n",
    "sys.path.append('./hydromt_sfincs_examples/eva_script')\n",
    "import eva"
   ]
  },
  {
   "cell_type": "markdown",
   "metadata": {},
   "source": [
    "Normilized Hydrograps for the Mainstream (Rhine) and Tributary stream (Main)"
   ]
  },
  {
   "cell_type": "code",
   "execution_count": null,
   "metadata": {},
   "outputs": [],
   "source": [
    "# da_q =\n",
    "\n",
    "c = 'C68'\n",
    "op = r\"P:\\11206883-006-dar-cloud-computing\\GRADE_export\\HIDnew\\01_TSonefile\\TS_\" + c + \".csv\" \n",
    "TS_C68 = pd.read_csv(op, delimiter=';')\n"
   ]
  },
  {
   "cell_type": "code",
   "execution_count": null,
   "metadata": {},
   "outputs": [],
   "source": [
    "TS_C68.Q_S2[(TS_C68['Q_S2'] <0 )] = np.nan\n",
    "TS_C68.Q_S2[(TS_C68['Q_S2'] == 999 )] = np.nan"
   ]
  },
  {
   "cell_type": "code",
   "execution_count": null,
   "metadata": {},
   "outputs": [],
   "source": [
    "TS_C68.Q_S2 = TS_C68.Q_S2.interpolate()"
   ]
  },
  {
   "cell_type": "code",
   "execution_count": null,
   "metadata": {},
   "outputs": [],
   "source": [
    "c = 68\n",
    "op = r\"P:\\11206883-006-dar-cloud-computing\\GRADE_export\\HIDnew\\05_HYDzoom\" + r\"\\C%d_\" %c + r\"disc1d_\"\n",
    "    \n",
    "AM1 = pd.read_pickle(op + \"AM1.pkl\")\n",
    "AM2 = pd.read_pickle(op + \"AM2.pkl\")\n",
    "AM3 = pd.read_pickle(op + \"AM3.pkl\")"
   ]
  },
  {
   "cell_type": "code",
   "execution_count": null,
   "metadata": {},
   "outputs": [],
   "source": [
    "TS_S = TS_C68[1461:94962]\n",
    "TS_S['time'] = pd.to_datetime(dict(year=TS_S.year, month=TS_S.month, day=TS_S.day))\n",
    "TS_S.index = TS_S.time\n",
    "TS_S['1'] = TS_S.Q_S1\n",
    "TS_S['2'] = TS_S.Q_S2\n",
    "# TS_S1 = TS_S1[['1', '2']]\n",
    "TS_S1 = TS_S[['1']]\n",
    "TS_S2 = TS_S[['2']]"
   ]
  },
  {
   "cell_type": "markdown",
   "metadata": {},
   "source": [
    "Mainstream - Rhine River"
   ]
  },
  {
   "cell_type": "code",
   "execution_count": null,
   "metadata": {},
   "outputs": [],
   "source": [
    "New_AM1 = AM1.sort_values('Q_S1', ascending=True)\n",
    "New_AM1 = New_AM1[['Q_S1']]\n",
    "New_AM1[(New_AM1.Q_S1 > 1000) & (New_AM1.Q_S1 < 2000)]\n",
    "New_AM1"
   ]
  },
  {
   "cell_type": "code",
   "execution_count": null,
   "metadata": {},
   "outputs": [],
   "source": [
    "#Full data\n",
    "x = np.arange(31)\n",
    "ind = np.random.choice(New_AM1.index, size=100, replace=False)\n",
    "plt.figure(figsize=(8, 5))\n",
    "count = 0\n",
    "hydrograph_mean = np.zeros(31)\n",
    "for i in ind: #AM1.index, ind\n",
    "    count += 1\n",
    "    peak_v = AM1.loc[i]['Q_S1']\n",
    "    hydrograph = TS_C68.loc[i-15:i+15]['Q_S1'] / peak_v\n",
    "    hydrograph_mean = hydrograph_mean + hydrograph.values\n",
    "    plt.plot(x, hydrograph, 'grey')\n",
    "    plt.ylabel('normalized discharge [-]')\n",
    "    plt.xlabel('time to peak [days]')\n",
    "    plt.title(f'Normalized peak hydrograph - River S1')\n",
    "S1_hydrograph_0 = hydrograph_mean / count\n",
    "plt.plot(x, S1_hydrograph_0, 'r')\n",
    "print(f'Peaks = {count}')"
   ]
  },
  {
   "cell_type": "code",
   "execution_count": null,
   "metadata": {},
   "outputs": [],
   "source": [
    "x = np.arange(31)\n",
    "ind = New_AM1[:]\n",
    "plt.figure(figsize=(8, 5))\n",
    "count = 0\n",
    "hydrograph_mean = np.zeros(31)\n",
    "for i in ind.index: #AM1.index, ind\n",
    "    count += 1\n",
    "    peak_v = AM1.loc[i]['Q_S1']\n",
    "    hydrograph = TS_C68.loc[i-15:i+15]['Q_S1'] / peak_v\n",
    "    hydrograph_mean = hydrograph_mean + hydrograph.values\n",
    "    plt.plot(x, hydrograph, 'grey')\n",
    "    plt.ylabel('normalized discharge [-]')\n",
    "    plt.xlabel('time to peak [days]')\n",
    "    plt.title(f'Normalized peak hydrograph - River S1')\n",
    "S1_hydrograph_mean0 = hydrograph_mean / count\n",
    "plt.plot(x, S1_hydrograph_mean0, 'r')\n",
    "print(f'Peaks = {count}')"
   ]
  },
  {
   "cell_type": "code",
   "execution_count": null,
   "metadata": {},
   "outputs": [],
   "source": [
    "# ranges"
   ]
  },
  {
   "cell_type": "code",
   "execution_count": null,
   "metadata": {},
   "outputs": [],
   "source": [
    "x = np.arange(31)\n",
    "ind = np.random.choice(New_AM1.index[(New_AM1.Q_S1 < 2064)], size=100, replace=False)\n",
    "plt.figure(figsize=(8, 5))\n",
    "count = 0\n",
    "hydrograph_mean = np.zeros(31)\n",
    "for i in ind: #AM1.index, ind\n",
    "    count += 1\n",
    "    peak_v = AM1.loc[i]['Q_S1']\n",
    "    hydrograph = TS_C68.loc[i-15:i+15]['Q_S1'] / peak_v\n",
    "    hydrograph_mean = hydrograph_mean + hydrograph.values\n",
    "    plt.plot(x, hydrograph, 'grey')\n",
    "    plt.ylabel('normalized discharge [-]')\n",
    "    plt.xlabel('time to peak [days]')\n",
    "    plt.title(f'Normalized peak hydrograph - River S1')\n",
    "S1_hydrograph_1 = hydrograph_mean / count\n",
    "plt.plot(x, S1_hydrograph_1, 'r')\n",
    "print(f'Peaks = {count}')"
   ]
  },
  {
   "cell_type": "code",
   "execution_count": null,
   "metadata": {},
   "outputs": [],
   "source": [
    "x = np.arange(31)\n",
    "ind = New_AM1[(New_AM1.Q_S1 < 2064)]\n",
    "plt.figure(figsize=(8, 5))\n",
    "count = 0\n",
    "hydrograph_mean = np.zeros(31)\n",
    "for i in ind.index: #AM1.index, ind\n",
    "    count += 1\n",
    "    peak_v = AM1.loc[i]['Q_S1']\n",
    "    hydrograph = TS_C68.loc[i-15:i+15]['Q_S1'] / peak_v\n",
    "    hydrograph_mean = hydrograph_mean + hydrograph.values\n",
    "    plt.plot(x, hydrograph, 'grey')\n",
    "    plt.ylabel('normalized discharge [-]')\n",
    "    plt.xlabel('time to peak [days]')\n",
    "    plt.title(f'Normalized peak hydrograph - River S1')\n",
    "S1_hydrograph_mean1 = hydrograph_mean / count\n",
    "plt.plot(x, S1_hydrograph_mean1, 'r')\n",
    "print(f'Peaks = {count}')"
   ]
  },
  {
   "cell_type": "code",
   "execution_count": null,
   "metadata": {},
   "outputs": [],
   "source": [
    "x = np.arange(len(hydrograph))\n",
    "\n",
    "ind = np.random.choice(New_AM1.index[(New_AM1.Q_S1 >= 2064) & (New_AM1.Q_S1 < 4743)], size=100, replace=False)\n",
    "plt.figure(figsize=(8, 5))\n",
    "count = 0\n",
    "hydrograph_mean = np.zeros(31)\n",
    "for i in ind: #AM1.index, ind\n",
    "    count += 1\n",
    "    peak_v = AM1.loc[i]['Q_S1']\n",
    "    hydrograph = TS_C68.loc[i-15:i+15]['Q_S1'] / peak_v\n",
    "    hydrograph_mean = hydrograph_mean + hydrograph.values\n",
    "    plt.plot(x, hydrograph, 'grey')\n",
    "    plt.ylabel('normalized discharge [-]')\n",
    "    plt.xlabel('time to peak [days]')\n",
    "    plt.title(f'Normalized peak hydrograph - River S1')\n",
    "S1_hydrograph_2 = hydrograph_mean / count\n",
    "plt.plot(x, S1_hydrograph_2, 'r')\n",
    "print(f'Peaks = {count}')"
   ]
  },
  {
   "cell_type": "code",
   "execution_count": null,
   "metadata": {},
   "outputs": [],
   "source": [
    "x = np.arange(len(hydrograph))\n",
    "ind = New_AM1[(New_AM1.Q_S1 >= 2064) & (New_AM1.Q_S1 < 4743)]\n",
    "plt.figure(figsize=(8, 5))\n",
    "count = 0\n",
    "hydrograph_mean = np.zeros(31)\n",
    "for i in ind.index: #AM1.index, ind\n",
    "    count += 1\n",
    "    peak_v = AM1.loc[i]['Q_S1']\n",
    "    hydrograph = TS_C68.loc[i-15:i+15]['Q_S1'] / peak_v\n",
    "    hydrograph_mean = hydrograph_mean + hydrograph.values\n",
    "    plt.plot(x, hydrograph, 'grey')\n",
    "    plt.ylabel('normalized discharge [-]')\n",
    "    plt.xlabel('time to peak [days]')\n",
    "    plt.title(f'Normalized peak hydrograph - River S1')\n",
    "S1_hydrograph_mean2 = hydrograph_mean / count\n",
    "plt.plot(x, S1_hydrograph_mean2, 'r')\n",
    "print(f'Peaks = {count}')"
   ]
  },
  {
   "cell_type": "code",
   "execution_count": null,
   "metadata": {},
   "outputs": [],
   "source": [
    "x = np.arange(len(hydrograph))\n",
    "\n",
    "ind = np.random.choice(New_AM1.index[(New_AM1.Q_S1 >= 4743) & (New_AM1.Q_S1 < 7423)], size=100, replace=False)\n",
    "plt.figure(figsize=(8, 5))\n",
    "count = 0\n",
    "hydrograph_mean = np.zeros(31)\n",
    "for i in ind: #AM1.index, ind\n",
    "    count += 1\n",
    "    peak_v = AM1.loc[i]['Q_S1']\n",
    "    hydrograph = TS_C68.loc[i-15:i+15]['Q_S1'] / peak_v\n",
    "    hydrograph_mean = hydrograph_mean + hydrograph.values\n",
    "    plt.plot(x, hydrograph, 'grey')\n",
    "    plt.ylabel('normalized discharge [-]')\n",
    "    plt.xlabel('time to peak [days]')\n",
    "    plt.title(f'Normalized peak hydrograph - River S1')\n",
    "S1_hydrograph_3 = hydrograph_mean / count\n",
    "plt.plot(x, S1_hydrograph_3, 'r')\n",
    "print(f'Peaks = {count}')"
   ]
  },
  {
   "cell_type": "code",
   "execution_count": null,
   "metadata": {},
   "outputs": [],
   "source": [
    "x = np.arange(len(hydrograph))\n",
    "ind = New_AM1[(New_AM1.Q_S1 >= 4743) & (New_AM1.Q_S1 < 7423)]\n",
    "plt.figure(figsize=(8, 5))\n",
    "count = 0\n",
    "hydrograph_mean = np.zeros(31)\n",
    "for i in ind.index: #AM1.index, ind\n",
    "    count += 1\n",
    "    peak_v = AM1.loc[i]['Q_S1']\n",
    "    hydrograph = TS_C68.loc[i-15:i+15]['Q_S1'] / peak_v\n",
    "    hydrograph_mean = hydrograph_mean + hydrograph.values\n",
    "    plt.plot(x, hydrograph, 'grey')\n",
    "    plt.ylabel('normalized discharge [-]')\n",
    "    plt.xlabel('time to peak [days]')\n",
    "    plt.title(f'Normalized peak hydrograph - River S1')\n",
    "S1_hydrograph_mean3 = hydrograph_mean / count\n",
    "plt.plot(x, S1_hydrograph_mean3, 'r')\n",
    "print(f'Peaks = {count}')"
   ]
  },
  {
   "cell_type": "code",
   "execution_count": null,
   "metadata": {},
   "outputs": [],
   "source": [
    "x = np.arange(len(hydrograph))\n",
    "\n",
    "ind = np.random.choice(New_AM1.index[(New_AM1.Q_S1 >= 7423) & (New_AM1.Q_S1 < 10103)], size=100, replace=False)\n",
    "plt.figure(figsize=(8, 5))\n",
    "count = 0\n",
    "hydrograph_mean = np.zeros(31)\n",
    "for i in ind: #AM1.index, ind\n",
    "    count += 1\n",
    "    peak_v = AM1.loc[i]['Q_S1']\n",
    "    hydrograph = TS_C68.loc[i-15:i+15]['Q_S1'] / peak_v\n",
    "    hydrograph_mean = hydrograph_mean + hydrograph.values\n",
    "    plt.plot(x, hydrograph, 'grey')\n",
    "    plt.ylabel('normalized discharge [-]')\n",
    "    plt.xlabel('time to peak [days]')\n",
    "    plt.title(f'Normalized peak hydrograph - River S1')\n",
    "S1_hydrograph_4 = hydrograph_mean / count\n",
    "plt.plot(x, S1_hydrograph_4, 'r')\n",
    "print(f'Peaks = {count}')"
   ]
  },
  {
   "cell_type": "code",
   "execution_count": null,
   "metadata": {},
   "outputs": [],
   "source": [
    "x = np.arange(len(hydrograph))\n",
    "ind = New_AM1[(New_AM1.Q_S1 >= 7423) & (New_AM1.Q_S1 < 10103)]\n",
    "plt.figure(figsize=(8, 5))\n",
    "count = 0\n",
    "hydrograph_mean = np.zeros(31)\n",
    "for i in ind.index: #AM1.index, ind\n",
    "    count += 1\n",
    "    peak_v = AM1.loc[i]['Q_S1']\n",
    "    hydrograph = TS_C68.loc[i-15:i+15]['Q_S1'] / peak_v\n",
    "    hydrograph_mean = hydrograph_mean + hydrograph.values\n",
    "    plt.plot(x, hydrograph, 'grey')\n",
    "    plt.ylabel('normalized discharge [-]')\n",
    "    plt.xlabel('time to peak [days]')\n",
    "    plt.title(f'Normalized peak hydrograph - River S1')\n",
    "S1_hydrograph_mean4 = hydrograph_mean / count\n",
    "plt.plot(x, S1_hydrograph_mean4, 'r')\n",
    "print(f'Peaks = {count}')"
   ]
  },
  {
   "cell_type": "code",
   "execution_count": null,
   "metadata": {},
   "outputs": [],
   "source": [
    "x = np.arange(len(hydrograph))\n",
    "ind = New_AM1[(New_AM1.Q_S1 >= 10103)]\n",
    "plt.figure(figsize=(8, 5))\n",
    "count = 0\n",
    "hydrograph_mean = np.zeros(31)\n",
    "for i in ind.index: #AM1.index, ind\n",
    "    count += 1\n",
    "    peak_v = AM1.loc[i]['Q_S1']\n",
    "    hydrograph = TS_C68.loc[i-15:i+15]['Q_S1'] / peak_v\n",
    "    hydrograph_mean = hydrograph_mean + hydrograph.values\n",
    "    plt.plot(x, hydrograph, 'grey')\n",
    "    plt.ylabel('normalized discharge [-]')\n",
    "    plt.xlabel('time to peak [days]')\n",
    "    plt.title(f'Normalized peak hydrograph - River S1')\n",
    "S1_hydrograph_mean5 = hydrograph_mean / count\n",
    "plt.plot(x, S1_hydrograph_mean5, 'r')\n",
    "print(f'Peaks = {count}')"
   ]
  },
  {
   "cell_type": "code",
   "execution_count": null,
   "metadata": {},
   "outputs": [],
   "source": [
    "plt.figure(figsize=(8, 5))\n",
    "# plt.plot(x, S1_hydrograph_0, 'k--', label='PeakSample')\n",
    "# plt.plot(x, S1_hydrograph_mean0, 'k', label='Peak')\n",
    "# plt.plot(x, S1_hydrograph_1, 'b--', label='PeakSample<2064')\n",
    "plt.plot(x, S1_hydrograph_mean1, 'b', label='Peak<2064')\n",
    "# plt.plot(x, S1_hydrograph_2, 'g--', label='2064<=PeakSample<4743')\n",
    "plt.plot(x, S1_hydrograph_mean2, 'g', label='2064<=Peak<4743')\n",
    "# plt.plot(x, S1_hydrograph_3, 'y--', label='4743<=PeakSample<7423')\n",
    "plt.plot(x, S1_hydrograph_mean3, 'y', label='4743<=Peak<7423')\n",
    "# plt.plot(x, S1_hydrograph_4, 'm--', label='7423<=PeakSample<10103')\n",
    "plt.plot(x, S1_hydrograph_mean4, 'm', label='7423<=Peak<10103')\n",
    "plt.plot(x, S1_hydrograph_mean5, 'r', label='10103<=Peak')\n",
    "# plt.plot(x, S1_hydrograph_4, 'm--', label='7423<=PeakSample<9500')\n",
    "# plt.plot(x, S1_hydrograph_mean4, 'm', label='7423<=Peak<9500')\n",
    "# plt.plot(x, S1_hydrograph_mean5, 'r', label='9500<=Peak')\n",
    "plt.ylabel('normalized discharge [-]', fontsize=18)\n",
    "plt.xlabel('time to peak [days]',fontsize=18)\n",
    "plt.title(f'Normalized peak hydrograph - Rhine River (at Main)',fontsize=20)\n",
    "plt.xticks(fontsize=12, rotation=90)\n",
    "plt.yticks(fontsize=12)\n",
    "plt.legend(fontsize=14, bbox_to_anchor=(1,1), loc=\"upper left\")"
   ]
  },
  {
   "cell_type": "markdown",
   "metadata": {},
   "source": [
    "Tributary stream - Main River"
   ]
  },
  {
   "cell_type": "code",
   "execution_count": null,
   "metadata": {},
   "outputs": [],
   "source": [
    "New_AM2 = AM2.sort_values('Q_S2', ascending=True)\n",
    "New_AM2 = New_AM2[['Q_S2']]\n",
    "New_AM2[(New_AM2.Q_S2 > 1000) & (New_AM2.Q_S2 < 2000)]"
   ]
  },
  {
   "cell_type": "code",
   "execution_count": null,
   "metadata": {},
   "outputs": [],
   "source": [
    "#Full data\n",
    "x = np.arange(31)\n",
    "\n",
    "ind = np.random.choice(New_AM2.index, size=100, replace=False)\n",
    "plt.figure(figsize=(8, 5))\n",
    "count = 0\n",
    "hydrograph_mean = np.zeros(31)\n",
    "for i in ind: #AM1.index, ind\n",
    "    count += 1\n",
    "    peak_v = AM2.loc[i]['Q_S2']\n",
    "    hydrograph = TS_C68.loc[i-15:i+15]['Q_S2'] / peak_v\n",
    "    hydrograph_mean = hydrograph_mean + hydrograph.values\n",
    "    plt.plot(x, hydrograph, 'grey')\n",
    "    plt.ylabel('normalized discharge [-]')\n",
    "    plt.xlabel('time to peak [days]')\n",
    "    plt.title(f'Normalized peak hydrograph - River S2')\n",
    "S2_hydrograph_0 = hydrograph_mean / count\n",
    "plt.plot(x, S2_hydrograph_0, 'r')\n",
    "print(f'Peaks = {count}')"
   ]
  },
  {
   "cell_type": "code",
   "execution_count": null,
   "metadata": {},
   "outputs": [],
   "source": [
    "x = np.arange(len(hydrograph))\n",
    "ind = New_AM2[:]\n",
    "plt.figure(figsize=(8, 5))\n",
    "count = 0\n",
    "hydrograph_mean = np.zeros(31)\n",
    "for i in ind.index: #AM2.index, ind\n",
    "    count += 1\n",
    "    peak_v = AM2.loc[i]['Q_S2']\n",
    "    hydrograph = TS_C68.loc[i-15:i+15]['Q_S2'] / peak_v\n",
    "    hydrograph_mean = hydrograph_mean + hydrograph.values\n",
    "    plt.plot(x, hydrograph, 'grey')\n",
    "    plt.ylabel('normalized discharge [-]')\n",
    "    plt.xlabel('time to peak [days]')\n",
    "    plt.title(f'Normalized peak hydrograph - River S2')\n",
    "S2_hydrograph_mean0 = hydrograph_mean / count\n",
    "plt.plot(x, S2_hydrograph_mean0, 'r')\n",
    "print(f'Peaks = {count}')"
   ]
  },
  {
   "cell_type": "code",
   "execution_count": null,
   "metadata": {},
   "outputs": [],
   "source": [
    "#Ranges"
   ]
  },
  {
   "cell_type": "code",
   "execution_count": null,
   "metadata": {},
   "outputs": [],
   "source": [
    "x = np.arange(len(hydrograph))\n",
    "\n",
    "ind = np.random.choice(New_AM2.index[(New_AM2.Q_S2 < 573)], size=100, replace=False)\n",
    "plt.figure(figsize=(8, 5))\n",
    "count = 0\n",
    "hydrograph_mean = np.zeros(31)\n",
    "for i in ind: #AM1.index, ind\n",
    "    count += 1\n",
    "    peak_v = AM2.loc[i]['Q_S2']\n",
    "    hydrograph = TS_C68.loc[i-15:i+15]['Q_S2'] / peak_v\n",
    "    hydrograph_mean = hydrograph_mean + hydrograph.values\n",
    "    plt.plot(x, hydrograph, 'grey')\n",
    "    plt.ylabel('normalized discharge [-]')\n",
    "    plt.xlabel('time to peak [days]')\n",
    "    plt.title(f'Normalized peak hydrograph - River S2')\n",
    "S2_hydrograph_1 = hydrograph_mean / count\n",
    "plt.plot(x, S2_hydrograph_1, 'r')\n",
    "print(f'Peaks = {count}')"
   ]
  },
  {
   "cell_type": "code",
   "execution_count": null,
   "metadata": {},
   "outputs": [],
   "source": [
    "x = np.arange(len(hydrograph))\n",
    "ind = New_AM2[(New_AM2.Q_S2 < 573)]\n",
    "plt.figure(figsize=(8, 5))\n",
    "count = 0\n",
    "hydrograph_mean = np.zeros(31)\n",
    "for i in ind.index: #AM2.index, ind\n",
    "    count += 1\n",
    "    peak_v = AM2.loc[i]['Q_S2']\n",
    "    hydrograph = TS_C68.loc[i-15:i+15]['Q_S2'] / peak_v\n",
    "    hydrograph_mean = hydrograph_mean + hydrograph.values\n",
    "    plt.plot(x, hydrograph, 'grey')\n",
    "    plt.ylabel('normalized discharge [-]')\n",
    "    plt.xlabel('time to peak [days]')\n",
    "    plt.title(f'Normalized peak hydrograph - River S2')\n",
    "S2_hydrograph_mean1 = hydrograph_mean / count\n",
    "plt.plot(x, S2_hydrograph_mean1, 'r')\n",
    "print(f'Peaks = {count}')"
   ]
  },
  {
   "cell_type": "code",
   "execution_count": null,
   "metadata": {},
   "outputs": [],
   "source": [
    "x = np.arange(len(hydrograph))\n",
    "\n",
    "ind = np.random.choice(New_AM2.index[(New_AM2.Q_S2 >= 573) & (New_AM2.Q_S2 < 1666)], size=100, replace=False)\n",
    "plt.figure(figsize=(8, 5))\n",
    "count = 0\n",
    "hydrograph_mean = np.zeros(31)\n",
    "for i in ind: #AM1.index, ind\n",
    "    count += 1\n",
    "    peak_v = AM2.loc[i]['Q_S2']\n",
    "    hydrograph = TS_C68.loc[i-15:i+15]['Q_S2'] / peak_v\n",
    "    hydrograph_mean = hydrograph_mean + hydrograph.values\n",
    "    plt.plot(x, hydrograph, 'grey')\n",
    "    plt.ylabel('normalized discharge [-]')\n",
    "    plt.xlabel('time to peak [days]')\n",
    "    plt.title(f'Normalized peak hydrograph - River S2')\n",
    "S2_hydrograph_2 = hydrograph_mean / count\n",
    "plt.plot(x, S2_hydrograph_2, 'r')\n",
    "print(f'Peaks = {count}')"
   ]
  },
  {
   "cell_type": "code",
   "execution_count": null,
   "metadata": {},
   "outputs": [],
   "source": [
    "x = np.arange(len(hydrograph))\n",
    "ind = New_AM2[(New_AM2.Q_S2 >= 573) & (New_AM2.Q_S2 < 1666)]\n",
    "plt.figure(figsize=(8, 5))\n",
    "count = 0\n",
    "hydrograph_mean = np.zeros(31)\n",
    "for i in ind.index: #AM1.index, ind\n",
    "    count += 1\n",
    "    peak_v = AM2.loc[i]['Q_S2']\n",
    "    hydrograph = TS_C68.loc[i-15:i+15]['Q_S2'] / peak_v\n",
    "    for b in np.arange(i-15, i+15):\n",
    "        if hydrograph[b] < 0:\n",
    "            print(i, b)\n",
    "    hydrograph_mean = hydrograph_mean + hydrograph.values\n",
    "    plt.plot(x, hydrograph, 'grey')\n",
    "    plt.ylabel('normalized discharge [-]')\n",
    "    plt.xlabel('time to peak [days]')\n",
    "    plt.title(f'Normalized peak hydrograph - River S2')\n",
    "S2_hydrograph_mean2 = hydrograph_mean / count\n",
    "plt.plot(x, S2_hydrograph_mean2, 'r')\n",
    "print(f'Peaks = {count}')"
   ]
  },
  {
   "cell_type": "code",
   "execution_count": null,
   "metadata": {},
   "outputs": [],
   "source": [
    "x = np.arange(len(hydrograph))\n",
    "\n",
    "ind = np.random.choice(New_AM2.index[(New_AM2.Q_S2 >= 1666) & (New_AM2.Q_S2 < 2758)], size=100, replace=False)\n",
    "plt.figure(figsize=(8, 5))\n",
    "count = 0\n",
    "hydrograph_mean = np.zeros(31)\n",
    "for i in ind: #AM1.index, ind\n",
    "    count += 1\n",
    "    peak_v = AM2.loc[i]['Q_S2']\n",
    "    hydrograph = TS_C68.loc[i-15:i+15]['Q_S2'] / peak_v\n",
    "    hydrograph_mean = hydrograph_mean + hydrograph.values\n",
    "    plt.plot(x, hydrograph, 'grey')\n",
    "    plt.ylabel('normalized discharge [-]')\n",
    "    plt.xlabel('time to peak [days]')\n",
    "    plt.title(f'Normalized peak hydrograph - River S2')\n",
    "S2_hydrograph_3 = hydrograph_mean / count\n",
    "plt.plot(x, S2_hydrograph_3, 'r')\n",
    "print(f'Peaks = {count}')"
   ]
  },
  {
   "cell_type": "code",
   "execution_count": null,
   "metadata": {},
   "outputs": [],
   "source": [
    "x = np.arange(len(hydrograph))\n",
    "ind = New_AM2[(New_AM2.Q_S2 >= 1666) & (New_AM2.Q_S2 < 2758)]\n",
    "plt.figure(figsize=(8, 5))\n",
    "count = 0\n",
    "hydrograph_mean = np.zeros(31)\n",
    "for i in ind.index: #AM1.index, ind\n",
    "    count += 1\n",
    "    peak_v = AM2.loc[i]['Q_S2']\n",
    "    hydrograph = TS_C68.loc[i-15:i+15]['Q_S2'] / peak_v\n",
    "    hydrograph_mean = hydrograph_mean + hydrograph.values\n",
    "    plt.plot(x, hydrograph, 'grey')\n",
    "    plt.ylabel('normalized discharge [-]')\n",
    "    plt.xlabel('time to peak [days]')\n",
    "    plt.title(f'Normalized peak hydrograph - River S2')\n",
    "S2_hydrograph_mean3 = hydrograph_mean / count\n",
    "plt.plot(x, S2_hydrograph_mean3, 'r')\n",
    "print(f'Peaks = {count}')"
   ]
  },
  {
   "cell_type": "code",
   "execution_count": null,
   "metadata": {},
   "outputs": [],
   "source": [
    "x = np.arange(len(hydrograph))\n",
    "\n",
    "ind = np.random.choice(New_AM2.index[(New_AM2.Q_S2 >= 2758) & (New_AM2.Q_S2 < 3851)], size=100, replace=False)\n",
    "plt.figure(figsize=(8, 5))\n",
    "count = 0\n",
    "hydrograph_mean = np.zeros(31)\n",
    "for i in ind: #AM1.index, ind\n",
    "    count += 1\n",
    "    peak_v = AM2.loc[i]['Q_S2']\n",
    "    hydrograph = TS_C68.loc[i-15:i+15]['Q_S2'] / peak_v\n",
    "    hydrograph_mean = hydrograph_mean + hydrograph.values\n",
    "    plt.plot(x, hydrograph, 'grey')\n",
    "    plt.ylabel('normalized discharge [-]')\n",
    "    plt.xlabel('time to peak [days]')\n",
    "    plt.title(f'Normalized peak hydrograph - River S2')\n",
    "S2_hydrograph_4 = hydrograph_mean / count\n",
    "plt.plot(x, S2_hydrograph_4, 'r')\n",
    "print(f'Peaks = {count}')"
   ]
  },
  {
   "cell_type": "code",
   "execution_count": null,
   "metadata": {},
   "outputs": [],
   "source": [
    "x = np.arange(len(hydrograph))\n",
    "ind = New_AM2[(New_AM2.Q_S2 >= 2758) & (New_AM2.Q_S2 < 3851)]\n",
    "plt.figure(figsize=(8, 5))\n",
    "count = 0\n",
    "hydrograph_mean = np.zeros(31)\n",
    "for i in ind.index: #AM1.index, ind\n",
    "    count += 1\n",
    "    peak_v = AM2.loc[i]['Q_S2']\n",
    "    hydrograph = TS_C68.loc[i-15:i+15]['Q_S2'] / peak_v\n",
    "    hydrograph_mean = hydrograph_mean + hydrograph.values\n",
    "    plt.plot(x, hydrograph, 'grey')\n",
    "    plt.ylabel('normalized discharge [-]')\n",
    "    plt.xlabel('time to peak [days]')\n",
    "    plt.title(f'Normalized peak hydrograph - River S2')\n",
    "S2_hydrograph_mean4 = hydrograph_mean / count\n",
    "plt.plot(x, S2_hydrograph_mean4, 'r')\n",
    "print(f'Peaks = {count}')"
   ]
  },
  {
   "cell_type": "code",
   "execution_count": null,
   "metadata": {},
   "outputs": [],
   "source": [
    "x = np.arange(len(hydrograph))\n",
    "ind = New_AM2[(New_AM2.Q_S2 >= 3600)]\n",
    "plt.figure(figsize=(8, 5))\n",
    "count = 0\n",
    "hydrograph_mean = np.zeros(31)\n",
    "for i in ind.index: #AM1.index, ind\n",
    "    count += 1\n",
    "    peak_v = AM2.loc[i]['Q_S2']\n",
    "    hydrograph = TS_C68.loc[i-15:i+15]['Q_S2'] / peak_v\n",
    "    hydrograph_mean = hydrograph_mean + hydrograph.values\n",
    "    plt.plot(x, hydrograph, 'grey')\n",
    "    plt.ylabel('normalized discharge [-]')\n",
    "    plt.xlabel('time to peak [days]')\n",
    "    plt.title(f'Normalized peak hydrograph - River S2')\n",
    "S2_hydrograph_mean5 = hydrograph_mean / count\n",
    "plt.plot(x, S2_hydrograph_mean5, 'r')\n",
    "print(f'Peaks = {count}')"
   ]
  },
  {
   "cell_type": "code",
   "execution_count": null,
   "metadata": {},
   "outputs": [],
   "source": [
    "plt.figure(figsize=(8, 5))\n",
    "# plt.plot(x, S2_hydrograph_0, 'k--', label='PeakSample')\n",
    "# plt.plot(x, S2_hydrograph_mean0, 'k', label='Peak')\n",
    "# plt.plot(x, S2_hydrograph_1, 'b--', label='PeakSample<573')\n",
    "plt.plot(x, S2_hydrograph_mean1, 'b', label='Peak<573')\n",
    "# plt.plot(x, S2_hydrograph_2, 'g--', label='573<=PeakSample<1666')\n",
    "plt.plot(x, S2_hydrograph_mean2, 'g', label='573<=Peak<1666')\n",
    "# plt.plot(x, S2_hydrograph_3, 'y--', label='1666<=PeakSample<2758')\n",
    "plt.plot(x, S2_hydrograph_mean3, 'y', label='1666<=Peak<2758')\n",
    "# plt.plot(x, S2_hydrograph_4, 'm--', label='2758<=PeakSample<3851')\n",
    "plt.plot(x, S2_hydrograph_mean4, 'm', label='2758<=Peak<3851')\n",
    "plt.plot(x, S2_hydrograph_mean5, 'r', label='3851<=Peak')\n",
    "# plt.plot(x, S2_hydrograph_4, 'm--', label='2758<=PeakSample<3600')\n",
    "# plt.plot(x, S2_hydrograph_mean4, 'm', label='2758<=Peak<3600')\n",
    "# plt.plot(x, S2_hydrograph_mean5, 'r', label='3600<=Peak')\n",
    "plt.ylabel('normalized discharge [-]', fontsize=18)\n",
    "plt.xlabel('time to peak [days]',fontsize=18)\n",
    "plt.title(f'Normalized peak hydrograph - Main River',fontsize=20)\n",
    "plt.xticks(fontsize=12, rotation=90)\n",
    "plt.yticks(fontsize=12)\n",
    "plt.legend(fontsize=14, bbox_to_anchor=(1,1), loc=\"upper left\")"
   ]
  },
  {
   "cell_type": "code",
   "execution_count": null,
   "metadata": {},
   "outputs": [],
   "source": [
    "plt.figure(figsize=(7, 5)) \n",
    "plt.hist(New_AM1['Q_S1'], bins=5, color='blue')\n",
    "ticks = [0, 3000, 5000, 7000, 9000, 12000]\n",
    "plt.xticks(ticks=ticks, fontsize = 12)\n",
    "plt.yticks(fontsize = 12)\n",
    "plt.title(f'Peak magnitude \\n Stream 1', fontsize = 20) \n",
    "plt.xlabel('Discharge (m3/s)', fontsize = 18)\n",
    "plt.ylabel('Number of peaks', fontsize = 18) \n",
    "\n",
    "plt.figure(figsize=(7, 5)) \n",
    "plt.hist(New_AM2['Q_S2'], bins=5, color='green')\n",
    "ticks = [0, 960, 1820, 2680, 3540, 4400]\n",
    "plt.xticks(ticks=ticks, fontsize = 12)\n",
    "plt.yticks(fontsize = 12)\n",
    "plt.title(f'Peak magnitude \\n Stream 2', fontsize = 20) \n",
    "plt.xlabel('Discharge (m3/s)', fontsize = 18)\n",
    "plt.ylabel('Number of peaks', fontsize = 18) "
   ]
  },
  {
   "cell_type": "markdown",
   "metadata": {},
   "source": [
    "Normalized save full data"
   ]
  },
  {
   "cell_type": "code",
   "execution_count": null,
   "metadata": {},
   "outputs": [],
   "source": [
    "fn = r'C:\\Users\\Fonse_ma\\OneDrive - Stichting Deltares\\Desktop\\Maria\\Notebooks\\RQ3\\data\\TS\\TS_UnitH.csv'\n",
    "uh = pd.read_csv(fn, index_col='date', parse_dates=True)"
   ]
  },
  {
   "cell_type": "code",
   "execution_count": null,
   "metadata": {},
   "outputs": [],
   "source": [
    "uh['1'] = hydrograph_mean0\n",
    "uh['2'] = S2_hydrograph_mean0"
   ]
  },
  {
   "cell_type": "code",
   "execution_count": null,
   "metadata": {},
   "outputs": [],
   "source": [
    "fn = r'C:\\Users\\Fonse_ma\\OneDrive - Stichting Deltares\\Desktop\\Maria\\Notebooks\\RQ3\\data\\NormHyd'\n",
    "sv = r'\\S1_0_UnitH.csv'\n",
    "pd.DataFrame(S1_hydrograph_mean0).to_csv(fn+sv, sep=',')\n",
    "sv = r'\\S1_1_UnitH.csv'\n",
    "pd.DataFrame(S1_hydrograph_mean1).to_csv(fn+sv, sep=',')\n",
    "sv = r'\\S1_2_UnitH.csv'\n",
    "pd.DataFrame(S1_hydrograph_mean2).to_csv(fn+sv, sep=',')\n",
    "sv = r'\\S1_3_UnitH.csv'\n",
    "pd.DataFrame(S1_hydrograph_mean3).to_csv(fn+sv, sep=',')\n",
    "sv = r'\\S1_4_UnitH.csv'\n",
    "pd.DataFrame(S1_hydrograph_mean4).to_csv(fn+sv, sep=',')\n",
    "sv = r'\\S1_5_UnitH.csv'\n",
    "pd.DataFrame(S1_hydrograph_mean5).to_csv(fn+sv, sep=',')\n"
   ]
  },
  {
   "cell_type": "code",
   "execution_count": null,
   "metadata": {},
   "outputs": [],
   "source": [
    "sv = r'\\S2_0_UnitH.csv'\n",
    "pd.DataFrame(S2_hydrograph_mean0).to_csv(fn+sv, sep=',')\n",
    "sv = r'\\S2_1_UnitH.csv'\n",
    "pd.DataFrame(S2_hydrograph_mean1).to_csv(fn+sv, sep=',')\n",
    "sv = r'\\S2_2_UnitH.csv'\n",
    "pd.DataFrame(S2_hydrograph_mean2).to_csv(fn+sv, sep=',')\n",
    "sv = r'\\S2_3_UnitH.csv'\n",
    "pd.DataFrame(S2_hydrograph_mean3).to_csv(fn+sv, sep=',')\n",
    "sv = r'\\S2_4_UnitH.csv'\n",
    "pd.DataFrame(S2_hydrograph_mean4).to_csv(fn+sv, sep=',')\n",
    "sv = r'\\S2_5_UnitH.csv'\n",
    "pd.DataFrame(S2_hydrograph_mean5).to_csv(fn+sv, sep=',')"
   ]
  }
 ],
 "metadata": {
  "interpreter": {
   "hash": "f8ba6ae7d4330b9d9ebc798522c4c448c2c2629cb08cc9d246b990170d5c89fd"
  },
  "kernelspec": {
   "display_name": "Python 3.10.4 ('hydromt')",
   "language": "python",
   "name": "python3"
  },
  "language_info": {
   "codemirror_mode": {
    "name": "ipython",
    "version": 3
   },
   "file_extension": ".py",
   "mimetype": "text/x-python",
   "name": "python",
   "nbconvert_exporter": "python",
   "pygments_lexer": "ipython3",
   "version": "3.10.4"
  },
  "orig_nbformat": 4
 },
 "nbformat": 4,
 "nbformat_minor": 2
}
