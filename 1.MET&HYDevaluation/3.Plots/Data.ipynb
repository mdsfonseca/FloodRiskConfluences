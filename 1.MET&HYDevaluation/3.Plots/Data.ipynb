{
 "cells": [
  {
   "cell_type": "code",
   "execution_count": null,
   "metadata": {},
   "outputs": [],
   "source": [
    "%matplotlib inline\n",
    "import numpy as np\n",
    "import matplotlib.pyplot as plt\n",
    "import pandas as pd\n",
    "\n",
    "from scipy.stats import spearmanr\n",
    "from scipy.stats import norm\n",
    "\n",
    "import statsmodels.api as sm\n",
    "from datetime import datetime\n",
    "from bisect import bisect_left, bisect_right"
   ]
  },
  {
   "cell_type": "markdown",
   "metadata": {},
   "source": [
    "Meteorological and Hydrological time series and Annual maxima sets"
   ]
  },
  {
   "cell_type": "code",
   "execution_count": null,
   "metadata": {},
   "outputs": [],
   "source": [
    "conf = pd.read_csv(r\"C:\\Users\\Fonse_ma\\OneDrive - Stichting Deltares\\Desktop\\Maria\\Notebooks\\HBV\\Confluences_ok2.csv\", delimiter=';')"
   ]
  },
  {
   "cell_type": "markdown",
   "metadata": {},
   "source": [
    "Meteorological"
   ]
  },
  {
   "cell_type": "code",
   "execution_count": null,
   "metadata": {},
   "outputs": [],
   "source": [
    "#File j    25       50000/25 = 2000 years /file\n",
    "j = 5\n",
    "path1 = r\"F:\\MET\\TimeSeries\\ds%d\" %j\n",
    "#Ensemble   20       2000/20 = 100 years/ensemble\n",
    "i = 0\n",
    "path2 = r\"_%draina.npy\" %i\n",
    "path = path1 + path2\n",
    "ds_rain = np.load(path, allow_pickle=True).item()\n",
    "# ds_rain"
   ]
  },
  {
   "cell_type": "code",
   "execution_count": null,
   "metadata": {},
   "outputs": [],
   "source": [
    "MS = 'C67'\n",
    "TS = 'C66'\n",
    "w = 5\n",
    "df_rain = pd.DataFrame(columns=['P_S1', 'P_S2'])\n",
    "df_rain['P_S1'] = ds_rain[MS]  #mm/day\n",
    "df_rain['P_S2'] = ds_rain[TS]  #mm/day\n",
    "df_rain['P_S1 m3/sec'] = df_rain['P_S1'] * 0.000001 * 1000000000 / 864000\n",
    "df_rain['P_S2 m3/sec'] = df_rain['P_S2'] * 0.000001 * 1000000000 / 864000\n",
    "df_rain"
   ]
  },
  {
   "cell_type": "code",
   "execution_count": null,
   "metadata": {},
   "outputs": [],
   "source": [
    "start = 500 \n",
    "end = 1000\n",
    "plt.figure(figsize=(20, 5))\n",
    "plt.plot(df_rain['P_S1 m3/sec'][start:end], 'g', label='1 day')\n",
    "# plt.plot(df_rain['P_S1'][start:end], 'g', label='1 day')\n",
    "# plt.plot(df_rain['P_S1rol m3/sec'][start:end], 'g', label='5 days')\n",
    "\n",
    "plt.title(f'Mainstream (MS) \\nPrecipitation', fontsize=22) #Runoff\n",
    "plt.xlabel('Day', fontsize=14)\n",
    "plt.ylabel('Precipitation (m3/sec)', fontsize=14) # Q m3/s\n",
    "plt.xticks(fontsize=12)\n",
    "plt.yticks(fontsize=12)\n",
    "plt.ylim(0, 3600)\n",
    "# plt.legend(fontsize=12, bbox_to_anchor=(1,1), loc=\"upper left\")\n",
    "plt.grid()"
   ]
  },
  {
   "cell_type": "code",
   "execution_count": null,
   "metadata": {},
   "outputs": [],
   "source": [
    "start = 500 \n",
    "end = 1000\n",
    "plt.figure(figsize=(20, 5))\n",
    "# plt.plot(df_rain['P_S2'][start:end], 'g', label='1 day')\n",
    "plt.plot(df_rain['P_S2 m3/sec'][start:end], 'g', label='1 day')\n",
    "# plt.plot(df_rain['P_S1rol m3/sec'][start:end], 'g', label='5 days')\n",
    "\n",
    "plt.title(f'Tributary stream (TS) \\nPrecipitation', fontsize=22) #Runoff\n",
    "plt.xlabel('Day', fontsize=14)\n",
    "plt.ylabel('Precipitation (m3/sec)', fontsize=14) # Q m3/s\n",
    "plt.xticks(fontsize=12)\n",
    "plt.yticks(fontsize=12)\n",
    "plt.ylim(0, 3600)\n",
    "# plt.legend(fontsize=12, bbox_to_anchor=(1,1), loc=\"upper left\")\n",
    "plt.grid()"
   ]
  },
  {
   "cell_type": "code",
   "execution_count": null,
   "metadata": {},
   "outputs": [],
   "source": [
    "desc = 'rain'\n",
    "\n",
    "# op = r\"P:\\11206883-006-dar-cloud-computing\\RhineFiles\\MET\\AMmet\\C%d_\" %Cnum[c] + desc + r\"_\" \n",
    "op = r\"P:\\11206883-006-dar-cloud-computing\\RhineFiles\\MET\\AMmet\\C67_\" + desc + r\"_\" \n",
    "AM1 = pd.read_pickle(op + \"AM1.pkl\")\n",
    "AM2 = pd.read_pickle(op + \"AM2.pkl\")\n",
    "AM3 = pd.read_pickle(op + \"AM3.pkl\")"
   ]
  },
  {
   "cell_type": "code",
   "execution_count": null,
   "metadata": {},
   "outputs": [],
   "source": [
    "\n",
    "unit = 'm3/sec'\n",
    "desc = 'disc1d'\n",
    "c = 67\n",
    "peaks = 50\n",
    "color = 'g'\n",
    "\n",
    "AM1['ind'] = np.arange(len(AM1))\n",
    "AM2['ind'] = np.arange(len(AM2))\n",
    "AM3['ind'] = np.arange(len(AM3))\n",
    "rho1, Sp1 = spearmanr(AM1['P_S1rol'], AM1['P_S2rol'])\n",
    "rho2, Sp2 = spearmanr(AM2['P_S1rol'], AM2['P_S2rol'])\n",
    "rho3, Sp3 = spearmanr(AM3['P_S1rol'], AM3['P_S2rol'])\n",
    "\n",
    "randomindex1 = np.random.choice(AM1.ind, size=peaks, replace=False)\n",
    "set1 = pd.DataFrame()\n",
    "set2 = pd.DataFrame()\n",
    "set3 = pd.DataFrame()\n",
    "for i in range(peaks):\n",
    "    set1 = set1.append(AM1.loc[AM1.ind == randomindex1[i]])\n",
    "    set2 = set2.append(AM2.loc[AM2.ind == randomindex1[i]])\n",
    "    set3 = set3.append(AM3.loc[AM3.ind == randomindex1[i]])\n",
    "\n",
    "a =  0.000001 * 1000000000 / 864000\n",
    "plt.figure(figsize=(7, 7))\n",
    "plt.plot(set1['P_S1'] * a , set1['P_S2']* a , 'o', color='none', markeredgecolor=color,markersize=10, label=f'Set 1: S1max-S2conc \\n rho={rho1:.4f}')\n",
    "# plt.plot(set2['P_S1'], set2['P_S2'], 'x', color=color, markersize=9, label=f'Set 2: S2max-S1conc \\n rho={rho2:.4f}')\n",
    "# plt.plot(set3['P_S1'], set3['P_S2'], '.', color=color, markersize=10, label=f'Set 3: Cmax (C=S1+S2) \\n rho={rho3:.4f}')\n",
    "plt.title(f'Precipitation \\nAnnual Maxima Peaks', fontsize=20, y=1.05)\n",
    "plt.xlabel(f'Mainstream (MS) \\n (m3/sec)', fontsize=18)\n",
    "plt.ylabel(f'Tributary stream (TS) \\n (m3/sec)', fontsize=18)\n",
    "# plt.xlim(left=0, right=16000)\n",
    "# plt.ylim(ymin = 0, ymax =4000)\n",
    "plt.xticks(fontsize=12, rotation=90)\n",
    "plt.yticks(fontsize=12)\n",
    "# plt.legend(fontsize=18, bbox_to_anchor=(1,1), loc=\"upper left\")\n",
    "\n",
    "plt.grid()"
   ]
  },
  {
   "cell_type": "code",
   "execution_count": null,
   "metadata": {},
   "outputs": [],
   "source": []
  },
  {
   "cell_type": "markdown",
   "metadata": {},
   "source": [
    "Hydrological"
   ]
  },
  {
   "cell_type": "code",
   "execution_count": null,
   "metadata": {},
   "outputs": [],
   "source": [
    "c = 'C68'\n",
    "op = r\"P:\\11206883-006-dar-cloud-computing\\GRADE_export\\HIDnew\\01_TSonefile\\TS_\" + c + \".csv\" \n",
    "TS_C68 = pd.read_csv(op, delimiter=';')\n",
    "\n",
    "TS_C68 = TS_C68[~(TS_C68['Q_S1'] < 0)]\n",
    "TS_C68 = TS_C68[~(TS_C68['Q_S2'] < 0)]\n",
    "TS_C68 = TS_C68[~(TS_C68['Q_S2'] == 999)]\n",
    "# TS_C68   "
   ]
  },
  {
   "cell_type": "code",
   "execution_count": null,
   "metadata": {},
   "outputs": [],
   "source": [
    "TS_C68"
   ]
  },
  {
   "cell_type": "code",
   "execution_count": null,
   "metadata": {},
   "outputs": [],
   "source": [
    "start=500\n",
    "end=1000\n",
    "\n",
    "columns = ['Q_S1']\n",
    "data = TS_C68.loc[start:end, columns]\n",
    "\n",
    "plt.figure(figsize=(20, 5))\n",
    "plt.plot(TS_C68.Q_S1.loc[start:end], 'b', label='1 day')\n",
    "\n",
    "plt.title(f'Mainstream (MS) \\nDischarge', fontsize=22) #Runoff\n",
    "plt.ylim(0, 4000)\n",
    "plt.xlabel('Day', fontsize=14)\n",
    "plt.ylabel('Discharge (m3/sec)', fontsize=14) # Q m3/s\n",
    "plt.xticks(fontsize=12)\n",
    "plt.yticks(fontsize=12)\n",
    "# plt.legend(fontsize=12, bbox_to_anchor=(1,1), loc=\"upper left\")\n",
    "plt.grid()"
   ]
  },
  {
   "cell_type": "code",
   "execution_count": null,
   "metadata": {},
   "outputs": [],
   "source": [
    "start=500\n",
    "end=1000\n",
    "\n",
    "columns = ['Q_S2']\n",
    "data = TS_C68.loc[start:end, columns]\n",
    "\n",
    "plt.figure(figsize=(20, 5))\n",
    "plt.plot(TS_C68.Q_S2.loc[start:end], 'b', label='1 day')\n",
    "\n",
    "plt.title(f'Tributary stream (TS)\\nDischarge', fontsize=22) #Runoff\n",
    "plt.xlabel('Day', fontsize=14)\n",
    "plt.ylabel('Discharge (m3/sec)', fontsize=14) # Q m3/s\n",
    "plt.ylim(0, 4000)\n",
    "plt.xticks(fontsize=12)\n",
    "plt.yticks(fontsize=12)\n",
    "# plt.legend(fontsize=12, bbox_to_anchor=(1,1), loc=\"upper left\")\n",
    "plt.grid()"
   ]
  },
  {
   "cell_type": "code",
   "execution_count": null,
   "metadata": {},
   "outputs": [],
   "source": [
    "c = 68\n",
    "op = r\"P:\\11206883-006-dar-cloud-computing\\GRADE_export\\HIDnew\\05_HYDzoom\" + r\"\\C%d_\" %c + r\"disc1d_\"\n",
    "    \n",
    "AM1 = pd.read_pickle(op + \"AM1.pkl\")\n",
    "AM2 = pd.read_pickle(op + \"AM2.pkl\")\n",
    "AM3 = pd.read_pickle(op + \"AM3.pkl\")"
   ]
  },
  {
   "cell_type": "code",
   "execution_count": null,
   "metadata": {},
   "outputs": [],
   "source": [
    "td = 'HYD | Discharge 1d'\n",
    "unit = 'm3/sec'\n",
    "desc = 'disc1d'\n",
    "c = 67\n",
    "peaks = 50\n",
    "color = 'b'\n",
    "\n",
    "AM1['ind'] = np.arange(len(AM1))\n",
    "AM2['ind'] = np.arange(len(AM2))\n",
    "AM3['ind'] = np.arange(len(AM3))\n",
    "rho1, Sp1 = spearmanr(AM1['Q_S1'], AM1['Q_S2'])\n",
    "rho2, Sp2 = spearmanr(AM2['Q_S1'], AM2['Q_S2'])\n",
    "rho3, Sp3 = spearmanr(AM3['Q_S1'], AM3['Q_S2'])\n",
    "\n",
    "randomindex1 = np.random.choice(AM1.ind, size=peaks, replace=False)\n",
    "set1 = pd.DataFrame()\n",
    "set2 = pd.DataFrame()\n",
    "set3 = pd.DataFrame()\n",
    "for i in range(peaks):\n",
    "    set1 = set1.append(AM1.loc[AM1.ind == randomindex1[i]])\n",
    "    set2 = set2.append(AM2.loc[AM2.ind == randomindex1[i]])\n",
    "    set3 = set3.append(AM3.loc[AM3.ind == randomindex1[i]])\n",
    "\n",
    "\n",
    "plt.figure(figsize=(7, 7))\n",
    "plt.plot(set1['Q_S1'], set1['Q_S2'], 'o', color='none', markeredgecolor=color,markersize=10, label=f'Set 1: S1max-S2conc \\n rho={rho1:.4f}')\n",
    "# plt.plot(set2['Q_S1'], set2['Q_S2'], 'x', color=color, markersize=9, label=f'Set 2: S2max-S1conc \\n rho={rho2:.4f}')\n",
    "# plt.plot(set3['Q_S1'], set3['Q_S2'], '.', color=color, markersize=10, label=f'Set 3: Cmax (C=S1+S2) \\n rho={rho3:.4f}')\n",
    "plt.title(f'Discharge \\nAnnual Maxima Peaks', fontsize=20, y=1.05)\n",
    "plt.xlabel(f'Mainstream (MS) \\n (m3/sec)', fontsize=18)\n",
    "plt.ylabel(f'Tributary stream (TS) \\n (m3/sec)', fontsize=18)\n",
    "# plt.xlim(left=0, right=16000)\n",
    "# plt.ylim(ymin = 0, ymax =4000)\n",
    "plt.xticks(fontsize=12, rotation=90)\n",
    "plt.yticks(fontsize=12)\n",
    "# plt.legend(fontsize=18, bbox_to_anchor=(1,1), loc=\"upper left\")\n",
    "\n",
    "plt.grid()"
   ]
  },
  {
   "cell_type": "code",
   "execution_count": null,
   "metadata": {},
   "outputs": [],
   "source": []
  }
 ],
 "metadata": {
  "kernelspec": {
   "display_name": "Python 3.9.7 ('dar-cloud')",
   "language": "python",
   "name": "python3"
  },
  "language_info": {
   "codemirror_mode": {
    "name": "ipython",
    "version": 3
   },
   "file_extension": ".py",
   "mimetype": "text/x-python",
   "name": "python",
   "nbconvert_exporter": "python",
   "pygments_lexer": "ipython3",
   "version": "3.9.7"
  },
  "orig_nbformat": 4,
  "vscode": {
   "interpreter": {
    "hash": "dba0fec6c0a5dc3650c48ce5794cc777babb314a0f31f50d55fe76ea6fe6645b"
   }
  }
 },
 "nbformat": 4,
 "nbformat_minor": 2
}
