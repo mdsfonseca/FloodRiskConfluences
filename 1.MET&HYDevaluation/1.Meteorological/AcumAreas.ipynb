{
 "cells": [
  {
   "cell_type": "code",
   "execution_count": 1,
   "id": "ff7f3401",
   "metadata": {},
   "outputs": [],
   "source": [
    "import os\n",
    "import xarray as xr\n",
    "import numpy as np\n",
    "import glob\n",
    "\n",
    "%matplotlib inline\n",
    "import matplotlib.pyplot as plt\n",
    "import pandas as pd\n",
    "\n",
    "import lmom as lmom\n",
    "from scipy.stats import spearmanr\n",
    "from scipy.stats import norm\n"
   ]
  },
  {
   "cell_type": "markdown",
   "id": "40bb884f",
   "metadata": {},
   "source": [
    "Calculate the accumulated area of each confluence according to the topology of the catchment and the area of each sub-basin:\n",
    "\n",
    "*1 - Open the catchment configuration file*\n",
    "\n",
    "*2 - Open the data set that contains the information about the Area*\n",
    "\n",
    "*3 - Extract the names of the sub-basins (stations) and their areas; Create a data set that links the sub-basins and their areas*\n",
    "\n",
    "*4 - Add the areas to the catchment configuration dataframe*\n",
    "\n",
    "*5 - Save/open the data set of the areas*"
   ]
  },
  {
   "cell_type": "code",
   "execution_count": 2,
   "id": "7ac38aa1",
   "metadata": {},
   "outputs": [],
   "source": [
    "conf = pd.read_csv('Confluences_wnames.csv', delimiter=';')"
   ]
  },
  {
   "cell_type": "code",
   "execution_count": null,
   "id": "e61ca26d",
   "metadata": {},
   "outputs": [],
   "source": [
    "path = r\"P:\\11206883-006-dar-cloud-computing\\RhineFiles\\ds_files\\ds_0_ordered.nc\"\n",
    "ds_ = xr.open_dataset(path, chunks={}, decode_times=False)"
   ]
  },
  {
   "cell_type": "code",
   "execution_count": 3,
   "id": "f34d8149",
   "metadata": {},
   "outputs": [],
   "source": [
    "stations = ds_.stations.values\n",
    "areas = ds_.station_area[0, :].values\n",
    "\n",
    "ds_area = {f\"S{n}\": int(ds_.station_area[1, n].values) for n in range(len(stations))}\n"
   ]
  },
  {
   "cell_type": "code",
   "execution_count": 10,
   "id": "cb8d2425",
   "metadata": {},
   "outputs": [],
   "source": [
    "for n in range(len(conf)):\n",
    "    ds_area[conf.Confluence[n]] = ds_area[conf.Stream1[n]] + ds_area[conf.Stream2[n]]"
   ]
  },
  {
   "cell_type": "code",
   "execution_count": 4,
   "id": "6177eb2a",
   "metadata": {},
   "outputs": [],
   "source": [
    "conf['Area_accum'] = ''\n",
    "\n",
    "for i in range(len(conf)):\n",
    "    conf['Area_accum'][i] = ds_area[conf.Confluence[i]]"
   ]
  },
  {
   "cell_type": "code",
   "execution_count": 5,
   "id": "40ee5590",
   "metadata": {},
   "outputs": [],
   "source": [
    "conf['Area_accum'] = ds_area[conf.Confluence]"
   ]
  },
  {
   "cell_type": "code",
   "execution_count": 6,
   "id": "f1b70f4d",
   "metadata": {},
   "outputs": [],
   "source": [
    "np.save(r\"ds_ACareas\", ds_area)"
   ]
  },
  {
   "cell_type": "code",
   "execution_count": 7,
   "id": "31336a56",
   "metadata": {},
   "outputs": [],
   "source": [
    "ds_areas = np.load(r\"ds_ACareas.npy\", allow_pickle=True).item()"
   ]
  }
 ],
 "metadata": {
  "kernelspec": {
   "display_name": "Python 3.9.7 ('dar-cloud')",
   "language": "python",
   "name": "python3"
  },
  "language_info": {
   "codemirror_mode": {
    "name": "ipython",
    "version": 3
   },
   "file_extension": ".py",
   "mimetype": "text/x-python",
   "name": "python",
   "nbconvert_exporter": "python",
   "pygments_lexer": "ipython3",
   "version": "3.9.7"
  },
  "vscode": {
   "interpreter": {
    "hash": "dba0fec6c0a5dc3650c48ce5794cc777babb314a0f31f50d55fe76ea6fe6645b"
   }
  }
 },
 "nbformat": 4,
 "nbformat_minor": 5
}
