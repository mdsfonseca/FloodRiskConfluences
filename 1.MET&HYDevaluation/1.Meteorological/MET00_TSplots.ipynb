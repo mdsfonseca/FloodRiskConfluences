{
 "cells": [
  {
   "cell_type": "code",
   "execution_count": null,
   "id": "30908a1d",
   "metadata": {},
   "outputs": [],
   "source": [
    "%matplotlib inline\n",
    "import numpy as np\n",
    "import matplotlib.pyplot as plt\n",
    "import pandas as pd"
   ]
  },
  {
   "cell_type": "markdown",
   "id": "8fdcff20",
   "metadata": {},
   "source": [
    "## Plots:\n",
    "- Time series -  differences between the sets that are used (rain5d, rain1d, snow)\n",
    "- Peaks - the selection according the the AM-condition     (TS and scatter)"
   ]
  },
  {
   "cell_type": "markdown",
   "id": "72661cfd",
   "metadata": {},
   "source": [
    "Meteorological data exploration"
   ]
  },
  {
   "cell_type": "code",
   "execution_count": null,
   "id": "646ae229",
   "metadata": {},
   "outputs": [],
   "source": [
    "#FUNCTION FROM ...Dar\\Functions210901\n",
    "def plotQ(b1, b2):\n",
    "    \"\"\"\n",
    "    FILES TO BE USED: 50000 TIME SERIES   1 ENSEMBLE\n",
    "    Creates a Discharge graph of TWO points\n",
    "    b1, b2: Locations ('Q_#Point1', 'Q_#Point2')\n",
    "    Returns: plot\n",
    "    \"\"\"\n",
    "    s1, s2 = self.read2(self.b1, self.b2)\n",
    "    plt.figure(figsize=(20, 5))\n",
    "    plt.plot(s1.time, s1[self.b1], 'b', label=self.b1)\n",
    "    plt.plot(s2.time, s2[self.b2], 'g', label=self.b2)\n",
    "    plt.title('Confluence') #Runoff\n",
    "    plt.xlabel('Date')\n",
    "    plt.ylabel('Discharge (m3/sec)') # Q m3/s\n",
    "    plt.legend()\n",
    "    plt.grid()\n",
    "    return\n",
    "\n",
    "def plotAM(b1, b2):\n",
    "    \"\"\"\n",
    "    FILES TO BE USED: 50000 PEAKS | MAYBE 1 ENSEMBE (TIME SERIES) AND THEN FROM THERE CALCULATE THE PEAKS\n",
    "    Creates two graphs: \n",
    "        Annual maximas and concurrent flows of the TWO sets\n",
    "        Discharge of TWO points with their annual maxima and concurrent flow\n",
    "    b1, b2: Locations ('Q_#Point1', 'Q_#Point2')\n",
    "    Returns: plot\n",
    "    \"\"\"\n",
    "    self.b1 = b1\n",
    "    self.b2 = b2\n",
    "    s1, s2, am1, am2 = self.AnnualMax(self.b1, self.b2)\n",
    "    plt.figure(figsize=(15, 5))\n",
    "    plt.plot(am1['Year'], am1[self.b1], 'b-o', label=f'{self.b1} Maximun')\n",
    "    plt.plot(am2['Year'], am2[self.b1], 'b--o', label=f'{self.b1}  Concurrent')\n",
    "    plt.plot(am2['Year'], am2[self.b2], 'g-o', label=f'{self.b2} Maximun')\n",
    "    plt.plot(am1['Year'], am1[self.b2], 'g--o', label=f'{self.b2} Concurrent')\n",
    "    plt.title('Annual Maxima')\n",
    "    plt.xlabel('Date')\n",
    "    plt.ylabel('Discharge (m3/sec)') \n",
    "    plt.legend()\n",
    "    plt.grid()\n",
    "    self.plotQ(self.b1, self.b2)   \n",
    "    plt.plot(am1['time'], am1[self.b1], color='midnightblue', marker='o', ls='', label=f'{b1} Maximun')\n",
    "    plt.plot(am2['time'], am2[self.b1], color='midnightblue', marker='x', ls='', label=f'{b1}  Concurrent')\n",
    "    plt.plot(am2['time'], am2[self.b2], color='darkolivegreen', marker='o', ls='', label=f'{b2} Maximun')\n",
    "    plt.plot(am1['time'], am1[self.b2], color='darkolivegreen', marker='x', ls='', label=f'{b2} Concurrent')\n",
    "    plt.title('Annual Maxima')\n",
    "    plt.xlabel('Date')\n",
    "    plt.ylabel('Discharge (m3/sec)') \n",
    "    plt.legend()\n",
    "    return\n",
    "\n",
    "def plotSAM(self, b1, b2):\n",
    "    \"\"\"\n",
    "    FILES TO BE USED: SAME AS plotAM\n",
    "    Creates a scatter graph of the Annual maximas and concurrent flows of the TWO sets\n",
    "    b1, b2: Locations ('Q_#Point1', 'Q_#Point2')\n",
    "    Returns: plot\n",
    "    \"\"\"\n",
    "    self.b1 = b1\n",
    "    self.b2 = b2\n",
    "    s1, s2, am1, am2 = self.AnnualMax(self.b1, self.b2)\n",
    "    plt.figure(figsize=(5, 5))\n",
    "    plt.plot(am1[self.b1], am1[self.b2], 'bo', label=f'{b1} Maximun | {b2} Concurrent')\n",
    "    plt.plot(am2[self.b1], am2[self.b2], 'go', label=f'{b2} Maximun | {b1} Concurrent')\n",
    "    plt.title('Annual Maxima') #runoff\n",
    "    plt.xlabel(f'{b1} (m3/sec)')\n",
    "    plt.ylabel(f'{b2} (m3/sec)') #Q m3/s\n",
    "    plt.legend()\n",
    "    plt.grid()\n",
    "    return\n",
    "\n"
   ]
  },
  {
   "cell_type": "code",
   "execution_count": null,
   "id": "7cf6e88a",
   "metadata": {},
   "outputs": [],
   "source": [
    "def plotTS(s1):\n",
    "    plt.figure(figsize=(20, 5))\n",
    "    plt.plot(s1.time, s1[self.b1], 'b', label=self.b1)\n",
    "    plt.plot(s2.time, s2[self.b2], 'g', label=self.b2)\n",
    "    plt.title('Confluence') #Runoff\n",
    "    plt.xlabel('Date')\n",
    "    plt.ylabel('Discharge (m3/sec)') # Q m3/s\n",
    "    plt.legend()\n",
    "    plt.grid()\n",
    "    return"
   ]
  },
  {
   "cell_type": "code",
   "execution_count": null,
   "id": "c629b5dc",
   "metadata": {},
   "outputs": [],
   "source": [
    "#open the data\n",
    "conf = pd.read_csv(r\"C:\\Users\\Fonse_ma\\OneDrive - Stichting Deltares\\Desktop\\Maria\\Notebooks\\HBV\\Confluences_wnames.csv\", delimiter=';')"
   ]
  },
  {
   "cell_type": "code",
   "execution_count": null,
   "id": "9028ef02",
   "metadata": {},
   "outputs": [],
   "source": [
    "#File j    25       50000/25 = 2000 years /file\n",
    "j = 5\n",
    "path1 = r\"F:\\MET\\TimeSeries\\ds%d\" %j\n",
    "#Ensemble   20       2000/20 = 100 years/ensemble\n",
    "i = 0\n",
    "path2 = r\"_%draina.npy\" %i\n",
    "path = path1 + path2\n",
    "ds_rain = np.load(path, allow_pickle=True).item()\n",
    "ds_rain"
   ]
  },
  {
   "cell_type": "code",
   "execution_count": null,
   "id": "4659a806",
   "metadata": {},
   "outputs": [],
   "source": [
    "stream = 'S98'\n",
    "w = 5\n",
    "df_rain = pd.DataFrame(columns=['P_S1', 'P_S1rol'])\n",
    "df_rain['P_S1'] = ds_rain[stream]\n",
    "df_rain['P_S1rol'] = df_rain['P_S1'].rolling(window=w).sum()\n",
    "df_rain['P_S1 m3/sec'] = df_rain['P_S1'] * 0.001 * 1000000 / 86400\n",
    "df_rain['P_S1rol m3/sec'] = df_rain['P_S1rol'] * 0.001 * 1000000 / 86400\n",
    "df_rain"
   ]
  },
  {
   "cell_type": "code",
   "execution_count": null,
   "id": "751965f8",
   "metadata": {},
   "outputs": [],
   "source": [
    "stream = 'S98'\n",
    "start = 500 \n",
    "end = 1000\n",
    "plt.figure(figsize=(20, 5))\n",
    "plt.plot(df_rain['P_S1 m3/sec'][start:end], 'b', label='1 day')\n",
    "plt.plot(df_rain['P_S1rol m3/sec'][start:end], 'g', label='5 days')\n",
    "\n",
    "plt.title(f'Precipitation', fontsize=22) #Runoff\n",
    "plt.xlabel('Day', fontsize=14)\n",
    "plt.ylabel('Precipitation (m3/sec)', fontsize=14) # Q m3/s\n",
    "plt.xticks(fontsize=12)\n",
    "plt.yticks(fontsize=12)\n",
    "plt.legend(fontsize=12, bbox_to_anchor=(1,1), loc=\"upper left\")\n",
    "plt.grid()"
   ]
  },
  {
   "cell_type": "code",
   "execution_count": null,
   "id": "848a01ec",
   "metadata": {},
   "outputs": [],
   "source": [
    "stream = 'S98'\n",
    "start = 500 \n",
    "end = 1000\n",
    "plt.figure(figsize=(20, 5))\n",
    "plt.plot(df_rain['P_S1 m3/sec'][start:end], 'b', label='1day')\n",
    "plt.plot(df_rain['P_S1rol m3/sec'][start:end], 'g', label='5days')\n",
    "plt.title(f'{stream} Precipitation') #Runoff\n",
    "plt.xlabel('Date')\n",
    "plt.ylabel('Precipitation (m3/s)') # Q  mm km/day\n",
    "plt.legend()\n",
    "plt.grid()"
   ]
  },
  {
   "cell_type": "code",
   "execution_count": null,
   "id": "ee816e98",
   "metadata": {},
   "outputs": [],
   "source": [
    "#File j \n",
    "j = 5\n",
    "path1 = r\"F:\\MET\\TimeSeries\\ds%d\" %j\n",
    "#Ensemble\n",
    "i = 0\n",
    "path2 = r\"_%dsnow.npy\" %i\n",
    "path = path1 + path2\n",
    "ds_snow = np.load(path, allow_pickle=True).item()\n",
    "ds_snow"
   ]
  },
  {
   "cell_type": "code",
   "execution_count": null,
   "id": "cab6d63b",
   "metadata": {},
   "outputs": [],
   "source": [
    "stream = 'S98'\n",
    "w = 5\n",
    "df_snow = pd.DataFrame(columns=['P_S1', 'P_S1rol'])\n",
    "df_snow['P_S1'] = ds_snow[stream]\n",
    "df_snow['P_S1rol'] = df_snow['P_S1'].rolling(window=w).sum()\n",
    "df_snow['P_S1 m3/sec'] = df_snow['P_S1'] * 0.001 * 1000000 / 86400\n",
    "df_snow['P_S1rol m3/sec'] = df_snow['P_S1rol'] * 0.001 * 1000000 / 86400\n",
    "df_snow"
   ]
  },
  {
   "cell_type": "code",
   "execution_count": null,
   "id": "b94d67f7",
   "metadata": {},
   "outputs": [],
   "source": [
    "stream = 'S98'\n",
    "start = 500 \n",
    "end = 1000\n",
    "plt.figure(figsize=(20, 5))\n",
    "plt.plot(df_rain['P_S1 m3/sec'][start:end], 'gray')#, label='1day')\n",
    "plt.plot(df_rain['P_S1rol m3/sec'][start:end], 'gray')#, label='5days')\n",
    "plt.plot(df_snow['P_S1 m3/sec'][start:end], 'b', label='1day')\n",
    "plt.plot(df_snow['P_S1rol m3/sec'][start:end], 'g', label='5days')\n",
    "plt.title(f'{stream} Precipitation-Snow') #Runoff\n",
    "plt.xlabel('Date')\n",
    "plt.ylabel('Precipitation (m3/s)') # Q mm-km2/day\n",
    "plt.legend()\n",
    "plt.grid()"
   ]
  },
  {
   "cell_type": "markdown",
   "id": "fce3f1be",
   "metadata": {},
   "source": [
    "Hydrological data exploration"
   ]
  },
  {
   "cell_type": "code",
   "execution_count": null,
   "id": "0384bf65",
   "metadata": {},
   "outputs": [],
   "source": [
    "def OpenCVS(path):\n",
    "    df = pd.read_csv(path,  delim_whitespace=True, skiprows=[0,1])\n",
    "    df.columns = ['YEAR','MONTH','DAY','MIN','HOUR','I-RN-0001', 'I-RN-0002', 'I-RN-0003', 'I-RN-0004', 'I-RN-0005', \n",
    "                  'I-RN-0006', 'I-RN-0007', 'I-RN-0008', 'I-RN-0009', 'I-RN-0010', 'I-RN-0011', 'I-RN-0012', 'I-RN-0013', \n",
    "                  'I-RN-0014', 'I-RN-0015', 'I-RN-0016', 'I-RN-0017', 'I-RN-0018', 'I-RN-0019', 'I-RN-0020', 'I-RN-0021', \n",
    "                  'I-RN-0022', 'I-RN-0023', 'I-RN-0024', 'I-RN-0025', 'I-RN-0026', 'I-RN-0027', 'I-RN-0028', 'I-RN-0029', \n",
    "                  'I-RN-0030', 'I-RN-0031', 'I-RN-0032', 'I-RN-0033', 'I-RN-0034', 'I-RN-0035', 'I-RN-0036', 'I-RN-0037', \n",
    "                  'I-RN-0038', 'I-RN-0039', 'I-RN-0040', 'I-RN-0041', 'I-RN-0042', 'I-RN-0043', 'I-RN-0044', 'I-RN-0045', \n",
    "                  'I-RN-0046', 'I-RN-0047', 'I-RN-0048', 'I-RN-0049', 'I-RN-0050', 'I-RN-0051', 'I-RN-0052', 'I-RN-0053', \n",
    "                  'I-RN-0054', 'I-RN-0055', 'I-RN-0056', 'I-RN-0057', 'I-RN-0058', 'I-RN-0059', 'I-RN-0060', 'I-RN-0061', \n",
    "                  'I-RN-0062', 'I-RN-0063', 'I-RN-0064', 'I-RN-0065', 'I-RN-0066', 'I-RN-0067', 'I-RN-0068', 'I-RN-0069', \n",
    "                  'I-RN-0070', 'I-RN-0071', 'I-RN-0072', 'I-RN-0073', 'I-RN-0074', 'I-RN-0075', 'I-RN-0076', 'I-RN-0077', \n",
    "                  'I-RN-0078', 'I-RN-0079', 'I-RN-0080', 'I-RN-0081', 'I-RN-0082', 'I-RN-0083', 'I-RN-0084', 'I-RN-0085', \n",
    "                  'I-RN-0086', 'I-RN-0087', 'I-RN-0088', 'I-RN-0089', 'I-RN-0090', 'I-RN-0091', 'I-RN-0092', 'I-RN-0093', \n",
    "                  'I-RN-0094', 'I-RN-0095', 'I-RN-0096', 'I-RN-0097', 'I-RN-0098', 'I-RN-0099', 'I-RN-0100', 'I-RN-0101', \n",
    "                  'I-RN-0102', 'I-RN-0103', 'I-RN-0104', 'I-RN-0105', 'I-RN-0106', 'I-RN-0107', 'I-RN-0108', 'I-RN-0109', \n",
    "                  'I-RN-0110', 'I-RN-0111', 'I-RN-0112', 'I-RN-0113', 'I-RN-0114', 'I-RN-0115', 'I-RN-0116', 'I-RN-0117', \n",
    "                  'I-RN-0118', 'I-RN-0119', 'I-RN-0120a', 'I-RN-0120b', 'I-RN-0120c', 'I-RN-0120d', 'I-RN-0121', 'I-RN-0122', \n",
    "                  'I-RN-0123', 'I-RN-0124', 'I-RN-0125a', 'I-RN-0125b', 'I-RN-0125c', 'I-RN-0125d', 'I-RN-0125e', 'I-RN-0125f', \n",
    "                  'I-RN-0126', 'I-RN-0127a', 'I-RN-0127b', 'I-RN-0127c', 'I-RN-0127d', 'I-RN-0128', 'I-RN-0129a', 'I-RN-0129b', \n",
    "                  'I-RN-0129c', 'I-RN-0129d', 'I-RN-0130', 'I-RN-0131', 'I-RN-0132', 'I-RN-0133', 'I-RN-0134']\n",
    "    return df"
   ]
  },
  {
   "cell_type": "code",
   "execution_count": null,
   "id": "d5d31eda",
   "metadata": {},
   "outputs": [],
   "source": [
    "#File  25       50000/25 = 2000 years /file\n",
    "j = 5\n",
    "path = r\"P:\\11206883-006-dar-cloud-computing\\GRADE_export\\Files\\%d\" %j + r\"_HBV_RHINE.csv\"\n",
    "# path = r\"N:\\Deltabox\\Postbox\\Fonseca Cerda, Maria\\fromHessel\\sample_output\\440001231_HBV_RHINE.csv\"\n",
    "df2 = OpenCVS(path)\n",
    "df2"
   ]
  },
  {
   "cell_type": "code",
   "execution_count": null,
   "id": "14c4fec2",
   "metadata": {},
   "outputs": [],
   "source": [
    "#File  25       50000/25 = 2000 years /file\n",
    "j = 5\n",
    "# path = r\"P:\\11206883-006-dar-cloud-computing\\GRADE_export\\Files\\%d\" %j + r\"_HBV_RHINE.csv\"\n",
    "path = r\"N:\\Deltabox\\Postbox\\Fonseca Cerda, Maria\\fromHessel\\all_outputs\\440001231_HBV_RHINE.csv\"\n",
    "df1 = OpenCVS(path)\n",
    "path = r\"N:\\Deltabox\\Postbox\\Fonseca Cerda, Maria\\fromHessel\\all_outputs\\460001231_HBV_RHINE.csv\"\n",
    "df2 = OpenCVS(path)\n",
    "path = r\"N:\\Deltabox\\Postbox\\Fonseca Cerda, Maria\\fromHessel\\all_outputs\\480001231_HBV_RHINE.csv\"\n",
    "df3 = OpenCVS(path)\n",
    "path = r\"N:\\Deltabox\\Postbox\\Fonseca Cerda, Maria\\fromHessel\\all_outputs\\500001231_HBV_RHINE.csv\"\n",
    "df4 = OpenCVS(path)\n",
    "path = r\"N:\\Deltabox\\Postbox\\Fonseca Cerda, Maria\\fromHessel\\all_outputs\\520001231_HBV_RHINE.csv\"\n",
    "df5 = OpenCVS(path)\n"
   ]
  },
  {
   "cell_type": "code",
   "execution_count": null,
   "id": "9416c38e",
   "metadata": {},
   "outputs": [],
   "source": [
    "path = r\"P:\\11206883-006-dar-cloud-computing\\GRADE_export\\Files\\4_HBV_RHINE.csv\"\n",
    "df6 = OpenCVS(path)"
   ]
  },
  {
   "cell_type": "code",
   "execution_count": null,
   "id": "90f93281",
   "metadata": {},
   "outputs": [],
   "source": [
    "def HYDTS(df, start, end):\n",
    "    plt.figure(figsize=(20, 10))\n",
    "    plt.plot(df['I-RN-0122'][start:end], label='Alpine')\n",
    "    plt.plot(df['I-RN-0134'][start:end], label='High')\n",
    "    plt.plot(df['I-RN-0084'][start:end], label='Upper')\n",
    "    plt.plot(df['I-RN-0088'][start:end], label='Middle')\n",
    "    plt.plot(df['I-RN-0099'][start:end], label='Lower')\n",
    "    # plt.plot(df['I-RN-0100'][start:end], label='Delta')\n",
    "    plt.title(f'Discharge') #Runoff\n",
    "    plt.xlabel('Date')\n",
    "    plt.ylabel('(m3/s)') # Q  mm km/day\n",
    "    plt.legend()\n",
    "    plt.grid()\n",
    "\n",
    "\n",
    "\n",
    "    start = 0 \n",
    "    end = len(df)\n",
    "\n",
    "    plt.figure(figsize=(20, 10))\n",
    "\n",
    "    # plt.plot(df['I-RN-0100'][start:end], label='Delta')\n",
    "    plt.plot(df['I-RN-0099'][start:end], label='Lower')\n",
    "    plt.plot(df['I-RN-0088'][start:end], label='Middle')\n",
    "    plt.plot(df['I-RN-0084'][start:end], label='Upper')\n",
    "    plt.plot(df['I-RN-0134'][start:end], label='High')\n",
    "    plt.plot(df['I-RN-0122'][start:end], label='Alpine')\n",
    "\n",
    "    plt.title(f'Discharge') #Runoff\n",
    "    plt.xlabel('Date')\n",
    "    plt.ylabel('(m3/s)') # Q  mm km/day\n",
    "    plt.legend()\n",
    "    plt.grid()\n",
    "    return"
   ]
  },
  {
   "cell_type": "code",
   "execution_count": null,
   "id": "352d9c8d",
   "metadata": {},
   "outputs": [],
   "source": []
  },
  {
   "cell_type": "code",
   "execution_count": null,
   "id": "f67f9f40",
   "metadata": {},
   "outputs": [],
   "source": [
    "start = 2000 \n",
    "end = 3000\n",
    "HYDTS(df1, start, end)"
   ]
  },
  {
   "cell_type": "code",
   "execution_count": null,
   "id": "605d8989",
   "metadata": {},
   "outputs": [],
   "source": [
    "start = 2000 \n",
    "end = 3000\n",
    "HYDTS(df2, start, end)"
   ]
  },
  {
   "cell_type": "code",
   "execution_count": null,
   "id": "d96788d2",
   "metadata": {},
   "outputs": [],
   "source": [
    "start = 2000 \n",
    "end = 3000\n",
    "HYDTS(df3, start, end)"
   ]
  },
  {
   "cell_type": "code",
   "execution_count": null,
   "id": "fe2b8dd0",
   "metadata": {},
   "outputs": [],
   "source": [
    "start = 2000 \n",
    "end = 3000\n",
    "HYDTS(df4, start, end)"
   ]
  },
  {
   "cell_type": "code",
   "execution_count": null,
   "id": "8e4ebd74",
   "metadata": {},
   "outputs": [],
   "source": [
    "start = 2000 \n",
    "end = 3000\n",
    "HYDTS(df5, start, end)"
   ]
  },
  {
   "cell_type": "code",
   "execution_count": null,
   "id": "4bea593d",
   "metadata": {},
   "outputs": [],
   "source": [
    "stream = 'I-RN-0099'\n",
    "\n",
    "# w = 5\n",
    "df_disc = pd.DataFrame(columns=['P_S1', 'P_S1rol'])\n",
    "df_disc['P_S1'] = df[stream]\n",
    "df_disc['P_S1rol'] = df_disc['P_S1'].rolling(window=w).sum()\n",
    "df_disc"
   ]
  },
  {
   "cell_type": "code",
   "execution_count": null,
   "id": "71de662f",
   "metadata": {},
   "outputs": [],
   "source": [
    "stream = 'S98'\n",
    "start = 500 \n",
    "end = 1000\n",
    "plt.figure(figsize=(20, 5))\n",
    "plt.plot(df_rain['P_S1 m3/sec'][start:end], 'gray', label='1day')\n",
    "plt.plot(df_rain['P_S1rol m3/sec'][start:end], ls='--', color='gray', label='5days')\n",
    "plt.plot(df_snow['P_S1 m3/sec'][start:end], 'g', label='1day')\n",
    "plt.plot(df_snow['P_S1rol m3/sec'][start:end], '--g', label='5days')\n",
    "plt.plot(df_disc['P_S1'][start:end], 'b', label='1days')\n",
    "plt.plot(df_disc['P_S1rol'][start:end], '--b', label='5days')\n",
    "plt.title(f'{stream} Precipitation') #Runoff\n",
    "plt.xlabel('Date')\n",
    "plt.ylabel('(m3/s)') # Q  mm km/day\n",
    "plt.legend()\n",
    "plt.grid()"
   ]
  },
  {
   "cell_type": "code",
   "execution_count": null,
   "id": "cb907fd0",
   "metadata": {},
   "outputs": [],
   "source": [
    "stream = 'S98'\n",
    "start = 1000 \n",
    "end = 1500\n",
    "plt.figure(figsize=(20, 5))\n",
    "plt.plot(df_rain['P_S1 m3/sec'][start:end], 'gray', label='1day')\n",
    "plt.plot(df_rain['P_S1rol m3/sec'][start:end], ls='--', color='gray', label='5days')\n",
    "plt.plot(df_snow['P_S1 m3/sec'][start:end], 'g', label='1day')\n",
    "plt.plot(df_snow['P_S1rol m3/sec'][start:end], '--g', label='5days')\n",
    "plt.plot(df_disc['P_S1'][start:end], 'b', label='1days')\n",
    "plt.plot(df_disc['P_S1rol'][start:end], '--b', label='5days')\n",
    "plt.title(f'{stream} Precipitation') #Runoff\n",
    "plt.xlabel('Date')\n",
    "plt.ylabel('(m3/s)') # Q  mm km/day\n",
    "plt.legend()\n",
    "plt.grid()"
   ]
  },
  {
   "cell_type": "code",
   "execution_count": null,
   "id": "8a90b8ad",
   "metadata": {},
   "outputs": [],
   "source": [
    "conf.loc[55]"
   ]
  },
  {
   "cell_type": "code",
   "execution_count": null,
   "id": "84aaa624",
   "metadata": {},
   "outputs": [],
   "source": [
    "def HYDTSconf(df, c, conf, start, end):\n",
    "    plt.figure(figsize=(20, 10))\n",
    "    plt.plot(df[conf.loc[(c, 'HVB_Q1')]][start:end], label=conf.loc[(c, 'HVB_Q1')])\n",
    "    plt.plot(df[conf.loc[(c, 'HVB_Q2')]][start:end], label=conf.loc[(c, 'HVB_Q2')])\n",
    "    plt.title(f'Discharge C{c}') #Runoff\n",
    "    plt.xlabel('Date')\n",
    "    plt.ylabel('(m3/s)') # Q  mm km/day\n",
    "    plt.legend()\n",
    "    plt.grid()\n",
    "\n",
    "\n",
    "\n",
    "#     start = 0 \n",
    "#     end = len(df)\n",
    "\n",
    "#     plt.figure(figsize=(20, 10))\n",
    "\n",
    "#     # plt.plot(df['I-RN-0100'][start:end], label='Delta')\n",
    "#     plt.plot(df['I-RN-0099'][start:end], label='Lower')\n",
    "#     plt.plot(df['I-RN-0088'][start:end], label='Middle')\n",
    "#     plt.plot(df['I-RN-0084'][start:end], label='Upper')\n",
    "#     plt.plot(df['I-RN-0134'][start:end], label='High')\n",
    "#     plt.plot(df['I-RN-0122'][start:end], label='Alpine')\n",
    "\n",
    "#     plt.title(f'Discharge') #Runoff\n",
    "#     plt.xlabel('Date')\n",
    "#     plt.ylabel('(m3/s)') # Q  mm km/day\n",
    "#     plt.legend()\n",
    "#     plt.grid()\n",
    "    return\n",
    "\n",
    "def HYDTSstream1(df, c, conf, start, end):\n",
    "    plt.figure(figsize=(20, 10))\n",
    "    plt.plot(df[conf.loc[(c, 'HVB_Q1')]][start:end], label=conf.loc[(c, 'HVB_Q1')])\n",
    "#     plt.plot(df[conf.loc[(c, 'HVB_Q2')]][start:end], label=conf.loc[(c, 'HVB_Q2')])\n",
    "    plt.title(f'Discharge C{c}') #Runoff\n",
    "    plt.xlabel('Date')\n",
    "    plt.ylabel('(m3/s)') # Q  mm km/day\n",
    "    plt.legend()\n",
    "    plt.grid()\n",
    "    return\n",
    "\n",
    "def HYDTSstream2(df, c, conf, start, end):\n",
    "    plt.figure(figsize=(20, 10))\n",
    "#     plt.plot(df[conf.loc[(c, 'HVB_Q1')]][start:end], label=conf.loc[(c, 'HVB_Q1')])\n",
    "    plt.plot(df[conf.loc[(c, 'HVB_Q2')]][start:end], label=conf.loc[(c, 'HVB_Q2')])\n",
    "    plt.title(f'Discharge C{c}') #Runoff\n",
    "    plt.xlabel('Date')\n",
    "    plt.ylabel('(m3/s)') # Q  mm km/day\n",
    "    plt.legend()\n",
    "    plt.grid()\n",
    "    return"
   ]
  },
  {
   "cell_type": "code",
   "execution_count": null,
   "id": "dae66424",
   "metadata": {},
   "outputs": [],
   "source": [
    "start = 0 \n",
    "end = len(df5)\n",
    "c = 55\n",
    "HYDTSconf(df5, c, conf, start, end)\n",
    "HYDTSstream1(df5, c, conf, start, end)\n",
    "HYDTSstream2(df5, c, conf, start, end)"
   ]
  },
  {
   "cell_type": "code",
   "execution_count": null,
   "id": "34d9ad19",
   "metadata": {},
   "outputs": [],
   "source": [
    "start = len(df6)-14600-1000\n",
    "end = len(df6)\n",
    "c = 7\n",
    "HYDTSconf(df6, c, conf, start, end)\n",
    "HYDTSstream1(df6, c, conf, start, end)\n",
    "HYDTSstream2(df6, c, conf, start, end)"
   ]
  },
  {
   "cell_type": "code",
   "execution_count": null,
   "id": "e79f715c",
   "metadata": {},
   "outputs": [],
   "source": [
    "start = len(df6)-14600-1000\n",
    "end = len(df6)\n",
    "for c in range(0, 10):\n",
    "    HYDTSconf(df6, c, conf, start, end)"
   ]
  },
  {
   "cell_type": "code",
   "execution_count": null,
   "id": "f4d22e5d",
   "metadata": {},
   "outputs": [],
   "source": [
    "start = len(df6)-14600-1000\n",
    "end = len(df6)\n",
    "for c in range(10, 20):\n",
    "    HYDTSconf(df6, c, conf, start, end)"
   ]
  },
  {
   "cell_type": "code",
   "execution_count": null,
   "id": "287e0f9d",
   "metadata": {},
   "outputs": [],
   "source": [
    "start = len(df6)-14600-1000\n",
    "end = len(df6)\n",
    "for c in range(20, 30):\n",
    "    HYDTSconf(df6, c, conf, start, end)"
   ]
  },
  {
   "cell_type": "code",
   "execution_count": null,
   "id": "90ca679c",
   "metadata": {},
   "outputs": [],
   "source": [
    "start = len(df6)-14600-1000\n",
    "end = len(df6)\n",
    "for c in range(30, 40):\n",
    "    HYDTSconf(df6, c, conf, start, end)"
   ]
  },
  {
   "cell_type": "code",
   "execution_count": null,
   "id": "3153d026",
   "metadata": {},
   "outputs": [],
   "source": [
    "start = len(df6)-14600-1000\n",
    "end = len(df6)\n",
    "for c in range(40, 50):\n",
    "    HYDTSconf(df6, c, conf, start, end)"
   ]
  },
  {
   "cell_type": "code",
   "execution_count": null,
   "id": "46032162",
   "metadata": {},
   "outputs": [],
   "source": [
    "start = len(df6)-14600-1000\n",
    "end = len(df6)\n",
    "for c in range(50, 60):\n",
    "    HYDTSconf(df6, c, conf, start, end)"
   ]
  },
  {
   "cell_type": "code",
   "execution_count": null,
   "id": "220c8db3",
   "metadata": {},
   "outputs": [],
   "source": [
    "start = len(df6)-14600-1000\n",
    "end = len(df6)\n",
    "for c in range(60, 70):\n",
    "    HYDTSconf(df6, c, conf, start, end)"
   ]
  },
  {
   "cell_type": "code",
   "execution_count": null,
   "id": "6a36e69e",
   "metadata": {},
   "outputs": [],
   "source": [
    "start = len(df6)-14600-1000\n",
    "end = len(df6)\n",
    "for c in range(70, 80):\n",
    "    HYDTSconf(df6, c, conf, start, end)"
   ]
  },
  {
   "cell_type": "code",
   "execution_count": null,
   "id": "a5dac86f",
   "metadata": {},
   "outputs": [],
   "source": [
    "start = len(df6)-14600-500\n",
    "end = len(df6)\n",
    "for c in range(80, 90):\n",
    "    HYDTSconf(df6, c, conf, start, end)"
   ]
  },
  {
   "cell_type": "code",
   "execution_count": null,
   "id": "efec7838",
   "metadata": {},
   "outputs": [],
   "source": [
    "start = len(df6)-14600-1000\n",
    "end = len(df6)\n",
    "for c in range(90, 100):\n",
    "    HYDTSconf(df6, c, conf, start, end)"
   ]
  },
  {
   "cell_type": "code",
   "execution_count": null,
   "id": "c4f91f19",
   "metadata": {},
   "outputs": [],
   "source": [
    "start = len(df6)-14600-1000\n",
    "end = len(df6)\n",
    "for c in range(100, 110):\n",
    "    HYDTSconf(df6, c, conf, start, end)"
   ]
  },
  {
   "cell_type": "code",
   "execution_count": null,
   "id": "6bd3dee9",
   "metadata": {},
   "outputs": [],
   "source": [
    "start = len(df6)-14600-1000\n",
    "end = len(df6)\n",
    "for c in range(110, 120):\n",
    "    HYDTSconf(df6, c, conf, start, end)"
   ]
  },
  {
   "cell_type": "code",
   "execution_count": null,
   "id": "99a6dbdc",
   "metadata": {},
   "outputs": [],
   "source": [
    "start = len(df6)-14600-1000\n",
    "end = len(df6)\n",
    "for c in range(120, 133):\n",
    "    HYDTSconf(df6, c, conf, start, end)"
   ]
  },
  {
   "cell_type": "code",
   "execution_count": null,
   "id": "fb32d4ac",
   "metadata": {},
   "outputs": [],
   "source": []
  }
 ],
 "metadata": {
  "interpreter": {
   "hash": "dba0fec6c0a5dc3650c48ce5794cc777babb314a0f31f50d55fe76ea6fe6645b"
  },
  "kernelspec": {
   "display_name": "Python 3.9.7 ('dar-cloud')",
   "language": "python",
   "name": "python3"
  },
  "language_info": {
   "codemirror_mode": {
    "name": "ipython",
    "version": 3
   },
   "file_extension": ".py",
   "mimetype": "text/x-python",
   "name": "python",
   "nbconvert_exporter": "python",
   "pygments_lexer": "ipython3",
   "version": "3.9.7"
  }
 },
 "nbformat": 4,
 "nbformat_minor": 5
}
