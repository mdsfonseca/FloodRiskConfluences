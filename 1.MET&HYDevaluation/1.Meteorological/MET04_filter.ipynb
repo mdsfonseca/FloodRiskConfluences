{
 "cells": [
  {
   "cell_type": "code",
   "execution_count": null,
   "id": "c05f4e79",
   "metadata": {},
   "outputs": [],
   "source": [
    "import os\n",
    "import xarray as xr\n",
    "import numpy as np\n",
    "import glob\n",
    "import geopandas as gpd\n",
    "\n",
    "%matplotlib inline\n",
    "import matplotlib.pyplot as plt\n",
    "import matplotlib.colors as mcol\n",
    "\n",
    "import pandas as pd\n",
    "from mpl_toolkits.axes_grid1 import make_axes_locatable "
   ]
  },
  {
   "cell_type": "markdown",
   "id": "605a37fb",
   "metadata": {},
   "source": [
    "Results filter: from 134 to 74 sub-basins "
   ]
  },
  {
   "cell_type": "markdown",
   "id": "0b80d6a5",
   "metadata": {},
   "source": [
    "## Open the NEW conf file"
   ]
  },
  {
   "cell_type": "code",
   "execution_count": null,
   "id": "5e20e57a",
   "metadata": {},
   "outputs": [],
   "source": [
    "conf = pd.read_csv(r\"C:\\Users\\Fonse_ma\\OneDrive - Stichting Deltares\\Desktop\\Maria\\Notebooks\\HBV\\Confluences_ok2.csv\", delimiter=';')\n",
    "conf.index = conf.Conf"
   ]
  },
  {
   "cell_type": "markdown",
   "id": "df8553e7",
   "metadata": {},
   "source": [
    "## Open the MET data"
   ]
  },
  {
   "cell_type": "code",
   "execution_count": null,
   "id": "ca360f9a",
   "metadata": {},
   "outputs": [],
   "source": [
    "#MET\n",
    "# Open ALL the dataframes\n",
    "domain = 'MET'\n",
    "desc = 'rain5d' #OPEN 'rain1d', 'snow', 'rain5d', (ONLY N=1000)'r50'\n",
    "extra = 'r5d' #RUN 'r1d', 's5d', 'r5d', (ONLY N=1000)'r50'\n",
    "for A in (1, 2, 3):\n",
    "#     n = 1000\n",
    "    for n in (20, 50): #5000, 10000, 25000, 100, 500, 1000, 50000\n",
    "        op = r\"P:\\11206883-006-dar-cloud-computing\\RhineFiles\\MET\\METmetrics2\\N%d\" %n + r\"_AM%d_\" %A + desc + r\".pkl\"\n",
    "        globals()[f'{domain}_N{n}_AM{A}_{extra}'] = pd.read_pickle(op)"
   ]
  },
  {
   "cell_type": "markdown",
   "id": "a9501982",
   "metadata": {},
   "source": [
    "## Create the NEW MET data"
   ]
  },
  {
   "cell_type": "code",
   "execution_count": null,
   "id": "5cae1f98",
   "metadata": {},
   "outputs": [],
   "source": [
    "# \n",
    "domain = 'MET'\n",
    "extra = 'r5d'\n",
    "n = 20\n",
    "\n",
    "for A in (1, 2, 3):\n",
    "    globals()[f'{domain}_N{n}_AM{A}_{extra}'].index = globals()[f'{domain}_N{n}_AM{A}_{extra}'].Confluence\n",
    "    \n",
    "    globals()[f'{domain}_N{n}_AM{A}_{extra}new'] = globals()[f'{domain}_N{n}_AM{A}_{extra}']\n",
    "    globals()[f'{domain}_N{n}_AM{A}_{extra}new'].index = globals()[f'{domain}_N{n}_AM{A}_{extra}new'].Confluence\n",
    "    globals()[f'{domain}_N{n}_AM{A}_{extra}new'] = globals()[f'{domain}_N{n}_AM{A}_{extra}new'].loc[conf.Conf[:]]\n",
    "    globals()[f'{domain}_N{n}_AM{A}_{extra}new']['S1name'] = conf['HBV_S1name']\n",
    "    globals()[f'{domain}_N{n}_AM{A}_{extra}new']['S2name'] = conf['HBV_S2name']\n",
    "    globals()[f'{domain}_N{n}_AM{A}_{extra}new']['Area'] = conf['Area']\n",
    "    globals()[f'{domain}_N{n}_AM{A}_{extra}new']['A1'] = conf['A1']\n",
    "    globals()[f'{domain}_N{n}_AM{A}_{extra}new']['A2'] = conf['A2']\n",
    "    globals()[f'{domain}_N{n}_AM{A}_{extra}new']['A1/A2'] = globals()[f'{domain}_N{n}_AM{A}_{extra}new']['A1']/globals()[f'{domain}_N{n}_AM{A}_{extra}new']['A2']\n",
    "\n",
    "\n",
    "#Confluences to change\n",
    "change = ['C6', 'C14', 'C69',  'C85']\n",
    "for c in change:\n",
    "    globals()[f'{domain}_N{n}_AM1_{extra}new'].rho_mean[c] = globals()[f'{domain}_N{n}_AM2_{extra}'].rho_mean[c]\n",
    "    globals()[f'{domain}_N{n}_AM1_{extra}new'].rho_std[c] = globals()[f'{domain}_N{n}_AM2_{extra}'].rho_std[c]\n",
    "    globals()[f'{domain}_N{n}_AM1_{extra}new'].S1avg_mean[c] = globals()[f'{domain}_N{n}_AM2_{extra}'].S1avg_mean[c]\n",
    "    globals()[f'{domain}_N{n}_AM1_{extra}new'].S1avg_std[c] = globals()[f'{domain}_N{n}_AM2_{extra}'].S1avg_std[c]\n",
    "    globals()[f'{domain}_N{n}_AM1_{extra}new'].S1std_mean[c] = globals()[f'{domain}_N{n}_AM2_{extra}'].S1std_mean[c] \n",
    "    globals()[f'{domain}_N{n}_AM1_{extra}new'].S1std_std[c] = globals()[f'{domain}_N{n}_AM2_{extra}'].S1std_std[c]   \n",
    "    globals()[f'{domain}_N{n}_AM1_{extra}new'].S2avg_mean[c] = globals()[f'{domain}_N{n}_AM2_{extra}'].S2avg_mean[c]     \n",
    "    globals()[f'{domain}_N{n}_AM1_{extra}new'].S2avg_std[c] = globals()[f'{domain}_N{n}_AM2_{extra}'].S2avg_std[c]      \n",
    "    globals()[f'{domain}_N{n}_AM1_{extra}new'].S2std_mean[c] = globals()[f'{domain}_N{n}_AM2_{extra}'].S2std_mean[c]    \n",
    "    globals()[f'{domain}_N{n}_AM1_{extra}new'].S2std_std[c] = globals()[f'{domain}_N{n}_AM2_{extra}'].S2std_std[c] \n",
    "\n",
    "    globals()[f'{domain}_N{n}_AM2_{extra}new'].rho_mean[c] = globals()[f'{domain}_N{n}_AM1_{extra}'].rho_mean[c]\n",
    "    globals()[f'{domain}_N{n}_AM2_{extra}new'].rho_std[c] = globals()[f'{domain}_N{n}_AM1_{extra}'].rho_std[c]\n",
    "    globals()[f'{domain}_N{n}_AM2_{extra}new'].S1avg_mean[c] = globals()[f'{domain}_N{n}_AM1_{extra}'].S1avg_mean[c]\n",
    "    globals()[f'{domain}_N{n}_AM2_{extra}new'].S1avg_std[c] = globals()[f'{domain}_N{n}_AM1_{extra}'].S1avg_std[c]\n",
    "    globals()[f'{domain}_N{n}_AM2_{extra}new'].S1std_mean[c] = globals()[f'{domain}_N{n}_AM1_{extra}'].S1std_mean[c] \n",
    "    globals()[f'{domain}_N{n}_AM2_{extra}new'].S1std_std[c] = globals()[f'{domain}_N{n}_AM1_{extra}'].S1std_std[c]   \n",
    "    globals()[f'{domain}_N{n}_AM2_{extra}new'].S2avg_mean[c] = globals()[f'{domain}_N{n}_AM1_{extra}'].S2avg_mean[c]     \n",
    "    globals()[f'{domain}_N{n}_AM2_{extra}new'].S2avg_std[c] = globals()[f'{domain}_N{n}_AM1_{extra}'].S2avg_std[c]      \n",
    "    globals()[f'{domain}_N{n}_AM2_{extra}new'].S2std_mean[c] = globals()[f'{domain}_N{n}_AM1_{extra}'].S2std_mean[c]    \n",
    "    globals()[f'{domain}_N{n}_AM2_{extra}new'].S2std_std[c] = globals()[f'{domain}_N{n}_AM1_{extra}'].S2std_std[c]\n",
    "\n",
    "\n",
    "for A in (1, 2, 3):\n",
    "    globals()[f'{domain}_N{n}_AM{A}_{extra}new']['CV'] = globals()[f'{domain}_N{n}_AM{A}_{extra}new']['rho_mean']/globals()[f'{domain}_N{n}_AM{A}_{extra}new']['rho_std']\n",
    "    globals()[f'{domain}_N{n}_AM{A}_{extra}new']['rho/area'] = globals()[f'{domain}_N{n}_AM{A}_{extra}new']['rho_mean']/globals()[f'{domain}_N{n}_AM{A}_{extra}new']['Area']\n",
    "    \n",
    "   "
   ]
  },
  {
   "cell_type": "code",
   "execution_count": null,
   "id": "53c6923f",
   "metadata": {},
   "outputs": [],
   "source": [
    "# Save 1 dataframe\n",
    "domain = 'MET'\n",
    "desc = 'rain5d' #OPEN 'rain1d', 'snow', 'rain5d', (ONLY N=1000)'r50'\n",
    "extra = 'r5d' #RUN 'r1d', 's5d', 'r5d', (ONLY N=1000)'r50'\n",
    "n = 20\n",
    "for A in (1, 2, 3):\n",
    "#     for n in (100, 500, 1000, 50000): #5000, 10000, 25000, \n",
    "    sv = r\"P:\\11206883-006-dar-cloud-computing\\RhineFiles\\MET\\04_METmetrics\\N%d\" %n + r\"_AM%d_\" %A + desc + r\".pkl\"\n",
    "    globals()[f'{domain}_N{n}_AM{A}_{extra}new'].to_pickle(sv)"
   ]
  }
 ],
 "metadata": {
  "kernelspec": {
   "display_name": "Python 3.9.7 ('dar-cloud')",
   "language": "python",
   "name": "python3"
  },
  "language_info": {
   "codemirror_mode": {
    "name": "ipython",
    "version": 3
   },
   "file_extension": ".py",
   "mimetype": "text/x-python",
   "name": "python",
   "nbconvert_exporter": "python",
   "pygments_lexer": "ipython3",
   "version": "3.9.7"
  },
  "vscode": {
   "interpreter": {
    "hash": "dba0fec6c0a5dc3650c48ce5794cc777babb314a0f31f50d55fe76ea6fe6645b"
   }
  }
 },
 "nbformat": 4,
 "nbformat_minor": 5
}
