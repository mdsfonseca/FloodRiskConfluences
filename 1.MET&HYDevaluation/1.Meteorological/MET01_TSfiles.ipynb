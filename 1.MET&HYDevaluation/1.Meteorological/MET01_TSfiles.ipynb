{
 "cells": [
  {
   "cell_type": "code",
   "execution_count": null,
   "id": "a7b18c9c",
   "metadata": {},
   "outputs": [],
   "source": [
    "import os\n",
    "import xarray as xr\n",
    "import numpy as np\n",
    "import glob\n",
    "\n",
    "%matplotlib inline\n",
    "import matplotlib.pyplot as plt\n",
    "import pandas as pd\n",
    "\n",
    "import lmom as lmom\n",
    "import MetFunctions as mf\n",
    "from scipy.stats import spearmanr\n",
    "from scipy.stats import norm"
   ]
  },
  {
   "cell_type": "markdown",
   "id": "cf878c76",
   "metadata": {},
   "source": [
    "Extract the time series from the compressed files and stores them"
   ]
  },
  {
   "cell_type": "code",
   "execution_count": null,
   "id": "538af6ef",
   "metadata": {},
   "outputs": [],
   "source": [
    "#Accumulate rainfall\n",
    "def TSdictCONF(path, conf):\n",
    "    \"\"\"\n",
    "    \n",
    "    \"\"\"\n",
    "    \n",
    "#Rainfall \n",
    "    ds_rain = np.load(path, allow_pickle=True).item()\n",
    "\n",
    "#Calculate (accumulate) the rain for the confluences..  \n",
    "    for n in range(len(conf)):\n",
    "        ds_rain[conf.Confluence[n]] = ds_rain[conf.Stream1[n]] + ds_rain[conf.Stream2[n]]\n",
    "    \n",
    "    return ds_rain"
   ]
  },
  {
   "cell_type": "code",
   "execution_count": null,
   "id": "bdd210b5",
   "metadata": {},
   "outputs": [],
   "source": [
    "path = r\"P:\\11206883-006-dar-cloud-computing\\RhineFiles\\ds_files\\ds_0_ordered.nc\"\n",
    "conf = pd.read_csv('Confluences_wnames.csv', delimiter=';') \n",
    "\n",
    "for i in range(15, 20): #20 ensaembles \n",
    "    ens = i\n",
    "    ds0_rain, ds0_snow, ds0_temp = mf.TSdict(path, ens, conf)\n",
    "    np.save(r\"C:\\Users\\Fonse_ma\\OneDrive - Stichting Deltares\\Desktop\\Maria\\Notebooks\\Grade\\TimeSeries\\ds0_%drain\" %i, ds0_rain)\n",
    "    np.save(r\"C:\\Users\\Fonse_ma\\OneDrive - Stichting Deltares\\Desktop\\Maria\\Notebooks\\Grade\\TimeSeries\\ds0_%dsnow\" %i, ds0_snow)\n",
    "    np.save(r\"C:\\Users\\Fonse_ma\\OneDrive - Stichting Deltares\\Desktop\\Maria\\Notebooks\\Grade\\TimeSeries\\ds0_%dtemp\" %i, ds0_temp)\n"
   ]
  },
  {
   "cell_type": "code",
   "execution_count": null,
   "id": "854a2e23",
   "metadata": {},
   "outputs": [],
   "source": [
    "conf = pd.read_csv('Confluences_wnames.csv', delimiter=';')\n",
    "\n",
    "for i in range(0, 20): #20 ensaembles \n",
    "    ens = i\n",
    "    path = r\"D:\\TimeSeries\\ds0_%drain.npy\" %i\n",
    "    ds_raina = TSdictCONF(path, conf)\n",
    "    np.save(r\"D:\\TimeSeries\\ds0_%draina\" %i, ds_raina)"
   ]
  },
  {
   "cell_type": "code",
   "execution_count": null,
   "id": "7e4e9233",
   "metadata": {},
   "outputs": [],
   "source": [
    "path = r\"P:\\11206883-006-dar-cloud-computing\\RhineFiles\\ds_files\\ds_1_ordered.nc\"\n",
    "conf = pd.read_csv('Confluences_wnames.csv', delimiter=';')\n",
    "\n",
    "for i in range(15, 20): #20 ensaembles \n",
    "    ens = i\n",
    "    ds_rain, ds_snow, ds_temp = mf.TSdict(path, ens, conf)\n",
    "    np.save(r\"C:\\Users\\Fonse_ma\\OneDrive - Stichting Deltares\\Desktop\\Maria\\Notebooks\\Grade\\TimeSeries\\ds1_%drain\" %i, ds_rain)\n",
    "    np.save(r\"C:\\Users\\Fonse_ma\\OneDrive - Stichting Deltares\\Desktop\\Maria\\Notebooks\\Grade\\TimeSeries\\ds1_%dsnow\" %i, ds_snow)\n",
    "    np.save(r\"C:\\Users\\Fonse_ma\\OneDrive - Stichting Deltares\\Desktop\\Maria\\Notebooks\\Grade\\TimeSeries\\ds1_%dtemp\" %i, ds_temp)\n"
   ]
  },
  {
   "cell_type": "code",
   "execution_count": null,
   "id": "72321ad3",
   "metadata": {},
   "outputs": [],
   "source": [
    "conf = pd.read_csv('Confluences_wnames.csv', delimiter=';')\n",
    "\n",
    "for i in range(0, 20): #20 ensaembles \n",
    "    ens = i\n",
    "    path = r\"D:\\TimeSeries\\ds1_%drain.npy\" %i\n",
    "    ds_raina = TSdictCONF(path, conf)\n",
    "    np.save(r\"D:\\TimeSeries\\ds1_%draina\" %i, ds_raina)"
   ]
  },
  {
   "cell_type": "code",
   "execution_count": null,
   "id": "6a0b9a8b",
   "metadata": {},
   "outputs": [],
   "source": [
    "path = r\"P:\\11206883-006-dar-cloud-computing\\RhineFiles\\ds_files\\ds_2_ordered.nc\"\n",
    "conf = pd.read_csv('Confluences_wnames.csv', delimiter=';')\n",
    "\n",
    "for i in range(15, 20): #20 ensaembles \n",
    "    ens = i\n",
    "    ds_rain, ds_snow, ds_temp = mf.TSdict(path, ens, conf)\n",
    "    np.save(r\"C:\\Users\\Fonse_ma\\OneDrive - Stichting Deltares\\Desktop\\Maria\\Notebooks\\Grade\\TimeSeries\\ds2_%drain\" %i, ds_rain)\n",
    "    np.save(r\"C:\\Users\\Fonse_ma\\OneDrive - Stichting Deltares\\Desktop\\Maria\\Notebooks\\Grade\\TimeSeries\\ds2_%dsnow\" %i, ds_snow)\n",
    "    np.save(r\"C:\\Users\\Fonse_ma\\OneDrive - Stichting Deltares\\Desktop\\Maria\\Notebooks\\Grade\\TimeSeries\\ds2_%dtemp\" %i, ds_temp)"
   ]
  },
  {
   "cell_type": "code",
   "execution_count": null,
   "id": "95ecf108",
   "metadata": {},
   "outputs": [],
   "source": [
    "conf = pd.read_csv('Confluences_wnames.csv', delimiter=';')\n",
    "\n",
    "for i in range(0, 20): #20 ensaembles \n",
    "    ens = i\n",
    "    path = r\"D:\\TimeSeries\\ds2_%drain.npy\" %i\n",
    "    ds_raina = TSdictCONF(path, conf)\n",
    "    np.save(r\"D:\\TimeSeries\\ds2_%draina\" %i, ds_raina)"
   ]
  },
  {
   "cell_type": "code",
   "execution_count": null,
   "id": "df6d5c62",
   "metadata": {},
   "outputs": [],
   "source": [
    "path = r\"P:\\11206883-006-dar-cloud-computing\\RhineFiles\\ds_files\\ds_3_ordered.nc\"\n",
    "conf = pd.read_csv('Confluences_wnames.csv', delimiter=';')\n",
    "\n",
    "for i in range(10, 20): #20 ensaembles \n",
    "    ens = i\n",
    "    ds_rain, ds_snow, ds_temp = mf.TSdict(path, ens, conf)\n",
    "    np.save(r\"C:\\Users\\Fonse_ma\\OneDrive - Stichting Deltares\\Desktop\\Maria\\Notebooks\\Grade\\TimeSeries\\ds3_%drain\" %i, ds_rain)\n",
    "    np.save(r\"C:\\Users\\Fonse_ma\\OneDrive - Stichting Deltares\\Desktop\\Maria\\Notebooks\\Grade\\TimeSeries\\ds3_%dsnow\" %i, ds_snow)\n",
    "    np.save(r\"C:\\Users\\Fonse_ma\\OneDrive - Stichting Deltares\\Desktop\\Maria\\Notebooks\\Grade\\TimeSeries\\ds3_%dtemp\" %i, ds_temp)"
   ]
  },
  {
   "cell_type": "code",
   "execution_count": null,
   "id": "0704dabe",
   "metadata": {},
   "outputs": [],
   "source": [
    "conf = pd.read_csv('Confluences_wnames.csv', delimiter=';')\n",
    "\n",
    "for i in range(0, 20): #20 ensaembles \n",
    "    ens = i\n",
    "    path = r\"D:\\TimeSeries\\ds3_%drain.npy\" %i\n",
    "    ds_raina = TSdictCONF(path, conf)\n",
    "    np.save(r\"D:\\TimeSeries\\ds3_%draina\" %i, ds_raina)"
   ]
  },
  {
   "cell_type": "code",
   "execution_count": null,
   "id": "be8b73c3",
   "metadata": {},
   "outputs": [],
   "source": [
    "path = r\"P:\\11206883-006-dar-cloud-computing\\RhineFiles\\ds_files\\ds_4_ordered.nc\"\n",
    "conf = pd.read_csv('Confluences_wnames.csv', delimiter=';')\n",
    "\n",
    "for i in range(5, 20): #20 ensaembles \n",
    "    ens = i\n",
    "    ds_rain, ds_snow, ds_temp = mf.TSdict(path, ens, conf)\n",
    "    np.save(r\"C:\\Users\\Fonse_ma\\OneDrive - Stichting Deltares\\Desktop\\Maria\\Notebooks\\Grade\\TimeSeries\\ds4_%drain\" %i, ds_rain)\n",
    "    np.save(r\"C:\\Users\\Fonse_ma\\OneDrive - Stichting Deltares\\Desktop\\Maria\\Notebooks\\Grade\\TimeSeries\\ds4_%dsnow\" %i, ds_snow)\n",
    "    np.save(r\"C:\\Users\\Fonse_ma\\OneDrive - Stichting Deltares\\Desktop\\Maria\\Notebooks\\Grade\\TimeSeries\\ds4_%dtemp\" %i, ds_temp)"
   ]
  },
  {
   "cell_type": "code",
   "execution_count": null,
   "id": "38845c6d",
   "metadata": {},
   "outputs": [],
   "source": [
    "conf = pd.read_csv('Confluences_wnames.csv', delimiter=';')\n",
    "\n",
    "for i in range(0, 20): #20 ensaembles \n",
    "    ens = i\n",
    "    path = r\"D:\\TimeSeries\\ds4_%drain.npy\" %i\n",
    "    ds_raina = TSdictCONF(path, conf)\n",
    "    np.save(r\"D:\\TimeSeries\\ds4_%draina\" %i, ds_raina)"
   ]
  },
  {
   "cell_type": "code",
   "execution_count": null,
   "id": "2791a81a",
   "metadata": {},
   "outputs": [],
   "source": [
    "path = r\"P:\\11206883-006-dar-cloud-computing\\RhineFiles\\ds_files\\ds_5_ordered.nc\"\n",
    "conf = pd.read_csv('Confluences_wnames.csv', delimiter=';')\n",
    "\n",
    "for i in range(0, 20): #20 ensaembles \n",
    "    ens = i\n",
    "    ds_rain, ds_snow, ds_temp = mf.TSdict(path, ens, conf)\n",
    "    np.save(r\"C:\\Users\\Fonse_ma\\OneDrive - Stichting Deltares\\Desktop\\Maria\\Notebooks\\Grade\\TimeSeries\\ds5_%drain\" %i, ds_rain)\n",
    "    np.save(r\"C:\\Users\\Fonse_ma\\OneDrive - Stichting Deltares\\Desktop\\Maria\\Notebooks\\Grade\\TimeSeries\\ds5_%dsnow\" %i, ds_snow)\n",
    "    np.save(r\"C:\\Users\\Fonse_ma\\OneDrive - Stichting Deltares\\Desktop\\Maria\\Notebooks\\Grade\\TimeSeries\\ds5_%dtemp\" %i, ds_temp)"
   ]
  },
  {
   "cell_type": "code",
   "execution_count": null,
   "id": "91f81770",
   "metadata": {},
   "outputs": [],
   "source": [
    "conf = pd.read_csv('Confluences_wnames.csv', delimiter=';')\n",
    "\n",
    "for i in range(0, 20): #20 ensaembles \n",
    "    ens = i\n",
    "    path = r\"D:\\TimeSeries\\ds5_%drain.npy\" %i\n",
    "    ds_raina = TSdictCONF(path, conf)\n",
    "    np.save(r\"D:\\TimeSeries\\ds5_%draina\" %i, ds_raina)"
   ]
  },
  {
   "cell_type": "code",
   "execution_count": null,
   "id": "6b4cf4dd",
   "metadata": {},
   "outputs": [],
   "source": [
    "path = r\"P:\\11206883-006-dar-cloud-computing\\RhineFiles\\ds_files\\ds_6_ordered.nc\"\n",
    "conf = pd.read_csv('Confluences_wnames.csv', delimiter=';')\n",
    "\n",
    "for i in range(0, 20): #20 ensaembles \n",
    "    ens = i\n",
    "    ds_rain, ds_snow, ds_temp = mf.TSdict(path, ens, conf)\n",
    "    np.save(r\"C:\\Users\\Fonse_ma\\OneDrive - Stichting Deltares\\Desktop\\Maria\\Notebooks\\Grade\\TimeSeries\\ds6_%drain\" %i, ds_rain)\n",
    "    np.save(r\"C:\\Users\\Fonse_ma\\OneDrive - Stichting Deltares\\Desktop\\Maria\\Notebooks\\Grade\\TimeSeries\\ds6_%dsnow\" %i, ds_snow)\n",
    "    np.save(r\"C:\\Users\\Fonse_ma\\OneDrive - Stichting Deltares\\Desktop\\Maria\\Notebooks\\Grade\\TimeSeries\\ds6_%dtemp\" %i, ds_temp)"
   ]
  },
  {
   "cell_type": "code",
   "execution_count": null,
   "id": "490566d0",
   "metadata": {},
   "outputs": [],
   "source": [
    "conf = pd.read_csv('Confluences_wnames.csv', delimiter=';')\n",
    "\n",
    "for i in range(0, 20): #20 ensaembles \n",
    "    ens = i\n",
    "    path = r\"D:\\TimeSeries\\ds6_%drain.npy\" %i\n",
    "    ds_raina = TSdictCONF(path, conf)\n",
    "    np.save(r\"D:\\TimeSeries\\ds6_%draina\" %i, ds_raina)"
   ]
  },
  {
   "cell_type": "code",
   "execution_count": null,
   "id": "a19eccc2",
   "metadata": {},
   "outputs": [],
   "source": [
    "path = r\"P:\\11206883-006-dar-cloud-computing\\RhineFiles\\ds_files\\ds_7_ordered.nc\"\n",
    "conf = pd.read_csv('Confluences_wnames.csv', delimiter=';')\n",
    "\n",
    "for i in range(0, 20): #20 ensaembles \n",
    "    ens = i\n",
    "    ds_rain, ds_snow, ds_temp = mf.TSdict(path, ens, conf)\n",
    "    np.save(r\"C:\\Users\\Fonse_ma\\OneDrive - Stichting Deltares\\Desktop\\Maria\\Notebooks\\Grade\\TimeSeries\\ds7_%drain\" %i, ds_rain)\n",
    "    np.save(r\"C:\\Users\\Fonse_ma\\OneDrive - Stichting Deltares\\Desktop\\Maria\\Notebooks\\Grade\\TimeSeries\\ds7_%dsnow\" %i, ds_snow)\n",
    "    np.save(r\"C:\\Users\\Fonse_ma\\OneDrive - Stichting Deltares\\Desktop\\Maria\\Notebooks\\Grade\\TimeSeries\\ds7_%dtemp\" %i, ds_temp)"
   ]
  },
  {
   "cell_type": "code",
   "execution_count": null,
   "id": "63ad35d3",
   "metadata": {},
   "outputs": [],
   "source": [
    "conf = pd.read_csv('Confluences_wnames.csv', delimiter=';')\n",
    "\n",
    "for i in range(0, 20): #20 ensaembles \n",
    "    ens = i\n",
    "    path = r\"D:\\TimeSeries\\ds7_%drain.npy\" %i\n",
    "    ds_raina = TSdictCONF(path, conf)\n",
    "    np.save(r\"D:\\TimeSeries\\ds7_%draina\" %i, ds_raina)"
   ]
  },
  {
   "cell_type": "code",
   "execution_count": null,
   "id": "57b71d61",
   "metadata": {},
   "outputs": [],
   "source": [
    "path = r\"P:\\11206883-006-dar-cloud-computing\\RhineFiles\\ds_files\\ds_8_ordered.nc\"\n",
    "conf = pd.read_csv('Confluences_wnames.csv', delimiter=';')\n",
    "\n",
    "for i in range(0, 20): #20 ensaembles \n",
    "    ens = i\n",
    "    ds_rain, ds_snow, ds_temp = mf.TSdict(path, ens, conf)\n",
    "    np.save(r\"C:\\Users\\Fonse_ma\\OneDrive - Stichting Deltares\\Desktop\\Maria\\Notebooks\\Grade\\TimeSeries\\ds8_%drain\" %i, ds_rain)\n",
    "    np.save(r\"C:\\Users\\Fonse_ma\\OneDrive - Stichting Deltares\\Desktop\\Maria\\Notebooks\\Grade\\TimeSeries\\ds8_%dsnow\" %i, ds_snow)\n",
    "    np.save(r\"C:\\Users\\Fonse_ma\\OneDrive - Stichting Deltares\\Desktop\\Maria\\Notebooks\\Grade\\TimeSeries\\ds8_%dtemp\" %i, ds_temp)"
   ]
  },
  {
   "cell_type": "code",
   "execution_count": null,
   "id": "90b50937",
   "metadata": {},
   "outputs": [],
   "source": [
    "conf = pd.read_csv('Confluences_wnames.csv', delimiter=';')\n",
    "\n",
    "for i in range(0, 20): #20 ensaembles \n",
    "    ens = i\n",
    "    path = r\"D:\\TimeSeries\\ds8_%drain.npy\" %i\n",
    "    ds_raina = TSdictCONF(path, conf)\n",
    "    np.save(r\"D:\\TimeSeries\\ds8_%draina\" %i, ds_raina)"
   ]
  },
  {
   "cell_type": "code",
   "execution_count": null,
   "id": "6373a25c",
   "metadata": {},
   "outputs": [],
   "source": [
    "path = r\"P:\\11206883-006-dar-cloud-computing\\RhineFiles\\ds_files\\ds_9_ordered.nc\"\n",
    "conf = pd.read_csv('Confluences_wnames.csv', delimiter=';')\n",
    "\n",
    "for i in range(0, 20): #20 ensaembles \n",
    "    ens = i\n",
    "    ds_rain, ds_snow, ds_temp = mf.TSdict(path, ens, conf)\n",
    "    np.save(r\"C:\\Users\\Fonse_ma\\OneDrive - Stichting Deltares\\Desktop\\Maria\\Notebooks\\Grade\\TimeSeries\\ds9_%drain\" %i, ds_rain)\n",
    "    np.save(r\"C:\\Users\\Fonse_ma\\OneDrive - Stichting Deltares\\Desktop\\Maria\\Notebooks\\Grade\\TimeSeries\\ds9_%dsnow\" %i, ds_snow)\n",
    "    np.save(r\"C:\\Users\\Fonse_ma\\OneDrive - Stichting Deltares\\Desktop\\Maria\\Notebooks\\Grade\\TimeSeries\\ds9_%dtemp\" %i, ds_temp)"
   ]
  },
  {
   "cell_type": "code",
   "execution_count": null,
   "id": "8f8c9cea",
   "metadata": {},
   "outputs": [],
   "source": [
    "conf = pd.read_csv('Confluences_wnames.csv', delimiter=';')\n",
    "\n",
    "for i in range(0, 20): #20 ensaembles \n",
    "    ens = i\n",
    "    path = r\"D:\\TimeSeries\\ds9_%drain.npy\" %i\n",
    "    ds_raina = TSdictCONF(path, conf)\n",
    "    np.save(r\"D:\\TimeSeries\\ds9_%draina\" %i, ds_raina)"
   ]
  },
  {
   "cell_type": "code",
   "execution_count": null,
   "id": "b0a5395f",
   "metadata": {},
   "outputs": [],
   "source": [
    "path = r\"P:\\11206883-006-dar-cloud-computing\\RhineFiles\\ds_files\\ds_10_ordered.nc\"\n",
    "conf = pd.read_csv('Confluences_wnames.csv', delimiter=';') \n",
    "\n",
    "for i in range(0, 20): #20 ensaembles \n",
    "    ens = i\n",
    "    ds_rain, ds_snow, ds_temp = mf.TSdict(path, ens, conf)\n",
    "    np.save(r\"C:\\Users\\Fonse_ma\\OneDrive - Stichting Deltares\\Desktop\\Maria\\Notebooks\\Grade\\TimeSeries\\ds10_%drain\" %i, ds_rain)\n",
    "    np.save(r\"C:\\Users\\Fonse_ma\\OneDrive - Stichting Deltares\\Desktop\\Maria\\Notebooks\\Grade\\TimeSeries\\ds10_%dsnow\" %i, ds_snow)\n",
    "    np.save(r\"C:\\Users\\Fonse_ma\\OneDrive - Stichting Deltares\\Desktop\\Maria\\Notebooks\\Grade\\TimeSeries\\ds10_%dtemp\" %i, ds_temp)\n"
   ]
  },
  {
   "cell_type": "code",
   "execution_count": null,
   "id": "db62dba7",
   "metadata": {},
   "outputs": [],
   "source": [
    "conf = pd.read_csv('Confluences_wnames.csv', delimiter=';')\n",
    "\n",
    "for i in range(0, 20): #20 ensaembles \n",
    "    ens = i\n",
    "    path = r\"D:\\TimeSeries\\ds10_%drain.npy\" %i\n",
    "    ds_raina = TSdictCONF(path, conf)\n",
    "    np.save(r\"D:\\TimeSeries\\ds10_%draina\" %i, ds_raina)"
   ]
  },
  {
   "cell_type": "code",
   "execution_count": null,
   "id": "86436078",
   "metadata": {},
   "outputs": [],
   "source": [
    "path = r\"P:\\11206883-006-dar-cloud-computing\\RhineFiles\\ds_files\\ds_11_ordered.nc\"\n",
    "conf = pd.read_csv('Confluences_wnames.csv', delimiter=';')\n",
    "\n",
    "for i in range(0, 20): #20 ensaembles \n",
    "    ens = i\n",
    "    ds_rain, ds_snow, ds_temp = mf.TSdict(path, ens, conf)\n",
    "    np.save(r\"C:\\Users\\Fonse_ma\\OneDrive - Stichting Deltares\\Desktop\\Maria\\Notebooks\\Grade\\TimeSeries\\ds11_%drain\" %i, ds_rain)\n",
    "    np.save(r\"C:\\Users\\Fonse_ma\\OneDrive - Stichting Deltares\\Desktop\\Maria\\Notebooks\\Grade\\TimeSeries\\ds11_%dsnow\" %i, ds_snow)\n",
    "    np.save(r\"C:\\Users\\Fonse_ma\\OneDrive - Stichting Deltares\\Desktop\\Maria\\Notebooks\\Grade\\TimeSeries\\ds11_%dtemp\" %i, ds_temp)\n"
   ]
  },
  {
   "cell_type": "code",
   "execution_count": null,
   "id": "836e8732",
   "metadata": {},
   "outputs": [],
   "source": [
    "conf = pd.read_csv('Confluences_wnames.csv', delimiter=';')\n",
    "\n",
    "for i in range(0, 20): #20 ensaembles \n",
    "    ens = i\n",
    "    path = r\"D:\\TimeSeries\\ds11_%drain.npy\" %i\n",
    "    ds_raina = TSdictCONF(path, conf)\n",
    "    np.save(r\"D:\\TimeSeries\\ds11_%draina\" %i, ds_raina)"
   ]
  },
  {
   "cell_type": "code",
   "execution_count": null,
   "id": "b62fa707",
   "metadata": {},
   "outputs": [],
   "source": [
    "path = r\"P:\\11206883-006-dar-cloud-computing\\RhineFiles\\ds_files\\ds_12_ordered.nc\"\n",
    "conf = pd.read_csv('Confluences_wnames.csv', delimiter=';')\n",
    "\n",
    "for i in range(0, 20): #20 ensaembles \n",
    "    ens = i\n",
    "    ds_rain, ds_snow, ds_temp = mf.TSdict(path, ens, conf)\n",
    "    np.save(r\"C:\\Users\\Fonse_ma\\OneDrive - Stichting Deltares\\Desktop\\Maria\\Notebooks\\Grade\\TimeSeries\\ds12_%drain\" %i, ds_rain)\n",
    "    np.save(r\"C:\\Users\\Fonse_ma\\OneDrive - Stichting Deltares\\Desktop\\Maria\\Notebooks\\Grade\\TimeSeries\\ds12_%dsnow\" %i, ds_snow)\n",
    "    np.save(r\"C:\\Users\\Fonse_ma\\OneDrive - Stichting Deltares\\Desktop\\Maria\\Notebooks\\Grade\\TimeSeries\\ds12_%dtemp\" %i, ds_temp)"
   ]
  },
  {
   "cell_type": "code",
   "execution_count": null,
   "id": "d5d9a1c1",
   "metadata": {},
   "outputs": [],
   "source": [
    "conf = pd.read_csv('Confluences_wnames.csv', delimiter=';')\n",
    "\n",
    "for i in range(0, 20): #20 ensaembles \n",
    "    ens = i\n",
    "    path = r\"D:\\TimeSeries\\ds12_%drain.npy\" %i\n",
    "    ds_raina = TSdictCONF(path, conf)\n",
    "    np.save(r\"D:\\TimeSeries\\ds12_%draina\" %i, ds_raina)"
   ]
  },
  {
   "cell_type": "code",
   "execution_count": null,
   "id": "8c0a90b5",
   "metadata": {},
   "outputs": [],
   "source": [
    "path = r\"P:\\11206883-006-dar-cloud-computing\\RhineFiles\\ds_files\\ds_13_ordered.nc\"\n",
    "conf = pd.read_csv('Confluences_wnames.csv', delimiter=';')\n",
    "\n",
    "for i in range(0, 20): #20 ensaembles \n",
    "    ens = i\n",
    "    ds_rain, ds_snow, ds_temp = mf.TSdict(path, ens, conf)\n",
    "    np.save(r\"C:\\Users\\Fonse_ma\\OneDrive - Stichting Deltares\\Desktop\\Maria\\Notebooks\\Grade\\TimeSeries\\ds13_%drain\" %i, ds_rain)\n",
    "    np.save(r\"C:\\Users\\Fonse_ma\\OneDrive - Stichting Deltares\\Desktop\\Maria\\Notebooks\\Grade\\TimeSeries\\ds13_%dsnow\" %i, ds_snow)\n",
    "    np.save(r\"C:\\Users\\Fonse_ma\\OneDrive - Stichting Deltares\\Desktop\\Maria\\Notebooks\\Grade\\TimeSeries\\ds13_%dtemp\" %i, ds_temp)"
   ]
  },
  {
   "cell_type": "code",
   "execution_count": null,
   "id": "44fa07f2",
   "metadata": {},
   "outputs": [],
   "source": [
    "conf = pd.read_csv('Confluences_wnames.csv', delimiter=';')\n",
    "\n",
    "for i in range(0, 20): #20 ensaembles \n",
    "    ens = i\n",
    "    path = r\"D:\\TimeSeries\\ds13_%drain.npy\" %i\n",
    "    ds_raina = TSdictCONF(path, conf)\n",
    "    np.save(r\"D:\\TimeSeries\\ds13_%draina\" %i, ds_raina)"
   ]
  },
  {
   "cell_type": "code",
   "execution_count": null,
   "id": "10d5689a",
   "metadata": {},
   "outputs": [],
   "source": [
    "path = r\"P:\\11206883-006-dar-cloud-computing\\RhineFiles\\ds_files\\ds_14_ordered.nc\"\n",
    "conf = pd.read_csv('Confluences_wnames.csv', delimiter=';')\n",
    "\n",
    "for i in range(0, 20): #20 ensaembles \n",
    "    ens = i\n",
    "    ds_rain, ds_snow, ds_temp = mf.TSdict(path, ens, conf)\n",
    "    np.save(r\"C:\\Users\\Fonse_ma\\OneDrive - Stichting Deltares\\Desktop\\Maria\\Notebooks\\Grade\\TimeSeries\\ds14_%drain\" %i, ds_rain)\n",
    "    np.save(r\"C:\\Users\\Fonse_ma\\OneDrive - Stichting Deltares\\Desktop\\Maria\\Notebooks\\Grade\\TimeSeries\\ds14_%dsnow\" %i, ds_snow)\n",
    "    np.save(r\"C:\\Users\\Fonse_ma\\OneDrive - Stichting Deltares\\Desktop\\Maria\\Notebooks\\Grade\\TimeSeries\\ds14_%dtemp\" %i, ds_temp)"
   ]
  },
  {
   "cell_type": "code",
   "execution_count": null,
   "id": "b2efd094",
   "metadata": {},
   "outputs": [],
   "source": [
    "conf = pd.read_csv('Confluences_wnames.csv', delimiter=';')\n",
    "\n",
    "for i in range(0, 20): #20 ensaembles \n",
    "    ens = i\n",
    "    path = r\"D:\\TimeSeries\\ds14_%drain.npy\" %i\n",
    "    ds_raina = TSdictCONF(path, conf)\n",
    "    np.save(r\"D:\\TimeSeries\\ds14_%draina\" %i, ds_raina)"
   ]
  },
  {
   "cell_type": "code",
   "execution_count": null,
   "id": "bbb900ab",
   "metadata": {},
   "outputs": [],
   "source": [
    "path = r\"P:\\11206883-006-dar-cloud-computing\\RhineFiles\\ds_files\\ds_15_ordered.nc\"\n",
    "conf = pd.read_csv('Confluences_wnames.csv', delimiter=';')\n",
    "\n",
    "for i in range(0, 20): #20 ensaembles \n",
    "    ens = i\n",
    "    ds_rain, ds_snow, ds_temp = mf.TSdict(path, ens, conf)\n",
    "    np.save(r\"C:\\Users\\Fonse_ma\\OneDrive - Stichting Deltares\\Desktop\\Maria\\Notebooks\\Grade\\TimeSeries\\ds15_%drain\" %i, ds_rain)\n",
    "    np.save(r\"C:\\Users\\Fonse_ma\\OneDrive - Stichting Deltares\\Desktop\\Maria\\Notebooks\\Grade\\TimeSeries\\ds15_%dsnow\" %i, ds_snow)\n",
    "    np.save(r\"C:\\Users\\Fonse_ma\\OneDrive - Stichting Deltares\\Desktop\\Maria\\Notebooks\\Grade\\TimeSeries\\ds15_%dtemp\" %i, ds_temp)"
   ]
  },
  {
   "cell_type": "code",
   "execution_count": null,
   "id": "bfc00b95",
   "metadata": {},
   "outputs": [],
   "source": [
    "conf = pd.read_csv('Confluences_wnames.csv', delimiter=';')\n",
    "\n",
    "for i in range(0, 20): #20 ensaembles \n",
    "    ens = i\n",
    "    path = r\"D:\\TimeSeries\\ds15_%drain.npy\" %i\n",
    "    ds_raina = TSdictCONF(path, conf)\n",
    "    np.save(r\"D:\\TimeSeries\\ds15_%draina\" %i, ds_raina)"
   ]
  },
  {
   "cell_type": "code",
   "execution_count": null,
   "id": "ad6f234c",
   "metadata": {},
   "outputs": [],
   "source": [
    "path = r\"P:\\11206883-006-dar-cloud-computing\\RhineFiles\\ds_files\\ds_16_ordered.nc\"\n",
    "conf = pd.read_csv('Confluences_wnames.csv', delimiter=';')\n",
    "\n",
    "for i in range(0, 20): #20 ensaembles \n",
    "    ens = i\n",
    "    ds_rain, ds_snow, ds_temp = mf.TSdict(path, ens, conf)\n",
    "    np.save(r\"C:\\Users\\Fonse_ma\\OneDrive - Stichting Deltares\\Desktop\\Maria\\Notebooks\\Grade\\TimeSeries\\ds16_%drain\" %i, ds_rain)\n",
    "    np.save(r\"C:\\Users\\Fonse_ma\\OneDrive - Stichting Deltares\\Desktop\\Maria\\Notebooks\\Grade\\TimeSeries\\ds16_%dsnow\" %i, ds_snow)\n",
    "    np.save(r\"C:\\Users\\Fonse_ma\\OneDrive - Stichting Deltares\\Desktop\\Maria\\Notebooks\\Grade\\TimeSeries\\ds16_%dtemp\" %i, ds_temp)"
   ]
  },
  {
   "cell_type": "code",
   "execution_count": null,
   "id": "7c809e2f",
   "metadata": {},
   "outputs": [],
   "source": [
    "conf = pd.read_csv('Confluences_wnames.csv', delimiter=';')\n",
    "\n",
    "for i in range(0, 20): #20 ensaembles \n",
    "    ens = i\n",
    "    path = r\"D:\\TimeSeries\\ds16_%drain.npy\" %i\n",
    "    ds_raina = TSdictCONF(path, conf)\n",
    "    np.save(r\"D:\\TimeSeries\\ds16_%draina\" %i, ds_raina)"
   ]
  },
  {
   "cell_type": "code",
   "execution_count": null,
   "id": "5f31397c",
   "metadata": {},
   "outputs": [],
   "source": [
    "path = r\"P:\\11206883-006-dar-cloud-computing\\RhineFiles\\ds_files\\ds_17_ordered.nc\"\n",
    "conf = pd.read_csv('Confluences_wnames.csv', delimiter=';')\n",
    "\n",
    "for i in range(0, 20): #20 ensaembles \n",
    "    ens = i\n",
    "    ds_rain, ds_snow, ds_temp = mf.TSdict(path, ens, conf)\n",
    "    np.save(r\"C:\\Users\\Fonse_ma\\OneDrive - Stichting Deltares\\Desktop\\Maria\\Notebooks\\Grade\\TimeSeries\\ds17_%drain\" %i, ds_rain)\n",
    "    np.save(r\"C:\\Users\\Fonse_ma\\OneDrive - Stichting Deltares\\Desktop\\Maria\\Notebooks\\Grade\\TimeSeries\\ds17_%dsnow\" %i, ds_snow)\n",
    "    np.save(r\"C:\\Users\\Fonse_ma\\OneDrive - Stichting Deltares\\Desktop\\Maria\\Notebooks\\Grade\\TimeSeries\\ds17_%dtemp\" %i, ds_temp)"
   ]
  },
  {
   "cell_type": "code",
   "execution_count": null,
   "id": "aad8084c",
   "metadata": {},
   "outputs": [],
   "source": [
    "conf = pd.read_csv('Confluences_wnames.csv', delimiter=';')\n",
    "\n",
    "for i in range(0, 20): #20 ensaembles \n",
    "    ens = i\n",
    "    path = r\"D:\\TimeSeries\\ds17_%drain.npy\" %i\n",
    "    ds_raina = TSdictCONF(path, conf)\n",
    "    np.save(r\"D:\\TimeSeries\\ds17_%draina\" %i, ds_raina)"
   ]
  },
  {
   "cell_type": "code",
   "execution_count": null,
   "id": "c1df53e7",
   "metadata": {},
   "outputs": [],
   "source": [
    "path = r\"P:\\11206883-006-dar-cloud-computing\\RhineFiles\\ds_files\\ds_18_ordered.nc\"\n",
    "conf = pd.read_csv('Confluences_wnames.csv', delimiter=';')\n",
    "\n",
    "for i in range(0, 20): #20 ensaembles \n",
    "    ens = i\n",
    "    ds_rain, ds_snow, ds_temp = mf.TSdict(path, ens, conf)\n",
    "    np.save(r\"C:\\Users\\Fonse_ma\\OneDrive - Stichting Deltares\\Desktop\\Maria\\Notebooks\\Grade\\TimeSeries\\ds18_%drain\" %i, ds_rain)\n",
    "    np.save(r\"C:\\Users\\Fonse_ma\\OneDrive - Stichting Deltares\\Desktop\\Maria\\Notebooks\\Grade\\TimeSeries\\ds18_%dsnow\" %i, ds_snow)\n",
    "    np.save(r\"C:\\Users\\Fonse_ma\\OneDrive - Stichting Deltares\\Desktop\\Maria\\Notebooks\\Grade\\TimeSeries\\ds18_%dtemp\" %i, ds_temp)"
   ]
  },
  {
   "cell_type": "code",
   "execution_count": null,
   "id": "0ead2b3b",
   "metadata": {},
   "outputs": [],
   "source": [
    "conf = pd.read_csv('Confluences_wnames.csv', delimiter=';')\n",
    "\n",
    "for i in range(0, 20): #20 ensaembles \n",
    "    ens = i\n",
    "    path = r\"D:\\TimeSeries\\ds18_%drain.npy\" %i\n",
    "    ds_raina = TSdictCONF(path, conf)\n",
    "    np.save(r\"D:\\TimeSeries\\ds18_%draina\" %i, ds_raina)"
   ]
  },
  {
   "cell_type": "code",
   "execution_count": null,
   "id": "8ac71d48",
   "metadata": {},
   "outputs": [],
   "source": [
    "path = r\"P:\\11206883-006-dar-cloud-computing\\RhineFiles\\ds_files\\ds_19_ordered.nc\"\n",
    "conf = pd.read_csv('Confluences_wnames.csv', delimiter=';')\n",
    "\n",
    "for i in range(0, 20): #20 ensaembles \n",
    "    ens = i\n",
    "    ds_rain, ds_snow, ds_temp = mf.TSdict(path, ens, conf)\n",
    "    np.save(r\"C:\\Users\\Fonse_ma\\OneDrive - Stichting Deltares\\Desktop\\Maria\\Notebooks\\Grade\\TimeSeries\\ds19_%drain\" %i, ds_rain)\n",
    "    np.save(r\"C:\\Users\\Fonse_ma\\OneDrive - Stichting Deltares\\Desktop\\Maria\\Notebooks\\Grade\\TimeSeries\\ds19_%dsnow\" %i, ds_snow)\n",
    "    np.save(r\"C:\\Users\\Fonse_ma\\OneDrive - Stichting Deltares\\Desktop\\Maria\\Notebooks\\Grade\\TimeSeries\\ds19_%dtemp\" %i, ds_temp)"
   ]
  },
  {
   "cell_type": "code",
   "execution_count": null,
   "id": "7da31ac4",
   "metadata": {},
   "outputs": [],
   "source": [
    "conf = pd.read_csv('Confluences_wnames.csv', delimiter=';')\n",
    "\n",
    "for i in range(0, 20): #20 ensaembles \n",
    "    ens = i\n",
    "    path = r\"D:\\TimeSeries\\ds19_%drain.npy\" %i\n",
    "    ds_raina = TSdictCONF(path, conf)\n",
    "    np.save(r\"D:\\TimeSeries\\ds19_%draina\" %i, ds_raina)"
   ]
  },
  {
   "cell_type": "code",
   "execution_count": null,
   "id": "5514e492",
   "metadata": {},
   "outputs": [],
   "source": [
    "path = r\"P:\\11206883-006-dar-cloud-computing\\RhineFiles\\ds_files\\ds_20_ordered.nc\"\n",
    "conf = pd.read_csv('Confluences_wnames.csv', delimiter=';')\n",
    "\n",
    "for i in range(0, 20): #20 ensaembles \n",
    "    ens = i\n",
    "    ds_rain, ds_snow, ds_temp = mf.TSdict(path, ens, conf)\n",
    "    np.save(r\"C:\\Users\\Fonse_ma\\OneDrive - Stichting Deltares\\Desktop\\Maria\\Notebooks\\Grade\\TimeSeries\\ds20_%drain\" %i, ds_rain)\n",
    "    np.save(r\"C:\\Users\\Fonse_ma\\OneDrive - Stichting Deltares\\Desktop\\Maria\\Notebooks\\Grade\\TimeSeries\\ds20_%dsnow\" %i, ds_snow)\n",
    "    np.save(r\"C:\\Users\\Fonse_ma\\OneDrive - Stichting Deltares\\Desktop\\Maria\\Notebooks\\Grade\\TimeSeries\\ds20_%dtemp\" %i, ds_temp)\n"
   ]
  },
  {
   "cell_type": "code",
   "execution_count": null,
   "id": "2866012c",
   "metadata": {},
   "outputs": [],
   "source": [
    "conf = pd.read_csv('Confluences_wnames.csv', delimiter=';')\n",
    "\n",
    "for i in range(5, 20): #20 ensaembles \n",
    "    ens = i\n",
    "    path = r\"C:\\Users\\Fonse_ma\\OneDrive - Stichting Deltares\\Desktop\\Maria\\Notebooks\\Grade\\TimeSeries\\ds20_%drain.npy\" %i\n",
    "    ds_raina = TSdictCONF(path, conf)\n",
    "    np.save(r\"C:\\Users\\Fonse_ma\\OneDrive - Stichting Deltares\\Desktop\\Maria\\Notebooks\\Grade\\TimeSeries\\ds20_%draina\" %i, ds_raina)"
   ]
  },
  {
   "cell_type": "code",
   "execution_count": null,
   "id": "7ddde6d8",
   "metadata": {},
   "outputs": [],
   "source": [
    "conf = pd.read_csv('Confluences_wnames.csv', delimiter=';')\n",
    "\n",
    "for i in range(0, 20): #20 ensaembles \n",
    "    ens = i\n",
    "    path = r\"D:\\TimeSeries\\ds20_%drain.npy\" %i\n",
    "    ds_raina = TSdictCONF(path, conf)\n",
    "    np.save(r\"D:\\TimeSeries\\ds20_%draina\" %i, ds_raina)"
   ]
  },
  {
   "cell_type": "code",
   "execution_count": null,
   "id": "63941f8c",
   "metadata": {},
   "outputs": [],
   "source": [
    "path = r\"P:\\11206883-006-dar-cloud-computing\\RhineFiles\\ds_files\\ds_21_ordered.nc\"\n",
    "conf = pd.read_csv('Confluences_wnames.csv', delimiter=';')\n",
    "\n",
    "for i in range(0, 20): #20 ensaembles \n",
    "    ens = i\n",
    "    ds_rain, ds_snow, ds_temp = mf.TSdict(path, ens, conf)\n",
    "    np.save(r\"C:\\Users\\Fonse_ma\\OneDrive - Stichting Deltares\\Desktop\\Maria\\Notebooks\\Grade\\TimeSeries\\ds21_%drain\" %i, ds_rain)\n",
    "    np.save(r\"C:\\Users\\Fonse_ma\\OneDrive - Stichting Deltares\\Desktop\\Maria\\Notebooks\\Grade\\TimeSeries\\ds21_%dsnow\" %i, ds_snow)\n",
    "    np.save(r\"C:\\Users\\Fonse_ma\\OneDrive - Stichting Deltares\\Desktop\\Maria\\Notebooks\\Grade\\TimeSeries\\ds21_%dtemp\" %i, ds_temp)\n"
   ]
  },
  {
   "cell_type": "code",
   "execution_count": null,
   "id": "c755b8b2",
   "metadata": {},
   "outputs": [],
   "source": [
    "conf = pd.read_csv('Confluences_wnames.csv', delimiter=';')\n",
    "\n",
    "for i in range(0, 20): #20 ensaembles \n",
    "    ens = i\n",
    "    path = r\"C:\\Users\\Fonse_ma\\OneDrive - Stichting Deltares\\Desktop\\Maria\\Notebooks\\Grade\\TimeSeries\\ds21_%drain.npy\" %i\n",
    "    ds_raina = TSdictCONF(path, conf)\n",
    "    np.save(r\"C:\\Users\\Fonse_ma\\OneDrive - Stichting Deltares\\Desktop\\Maria\\Notebooks\\Grade\\TimeSeries\\ds21_%draina\" %i, ds_raina)"
   ]
  },
  {
   "cell_type": "code",
   "execution_count": null,
   "id": "f3fca435",
   "metadata": {},
   "outputs": [],
   "source": [
    "path = r\"P:\\11206883-006-dar-cloud-computing\\RhineFiles\\ds_files\\ds_22_ordered.nc\"\n",
    "conf = pd.read_csv('Confluences_wnames.csv', delimiter=';')\n",
    "\n",
    "for i in range(0, 20): #20 ensaembles \n",
    "    ens = i\n",
    "    ds_rain, ds_snow, ds_temp = mf.TSdict(path, ens, conf)\n",
    "    np.save(r\"P:\\11206883-006-dar-cloud-computing\\RhineFiles\\ds_files\\TimeSeries\\ds22_%drain\" %i, ds_rain)\n",
    "    np.save(r\"P:\\11206883-006-dar-cloud-computing\\RhineFiles\\ds_files\\TimeSeries\\ds22_%dsnow\" %i, ds_snow)\n",
    "    np.save(r\"P:\\11206883-006-dar-cloud-computing\\RhineFiles\\ds_files\\TimeSeries\\ds22_%dtemp\" %i, ds_temp)"
   ]
  },
  {
   "cell_type": "code",
   "execution_count": null,
   "id": "0251a4d7",
   "metadata": {},
   "outputs": [],
   "source": [
    "conf = pd.read_csv('Confluences_wnames.csv', delimiter=';')\n",
    "\n",
    "for i in range(0, 20): #20 ensaembles \n",
    "    ens = i\n",
    "    path = r\"C:\\Users\\Fonse_ma\\OneDrive - Stichting Deltares\\Desktop\\Maria\\Notebooks\\Grade\\TimeSeries\\ds22_%drain.npy\" %i\n",
    "    ds_raina = TSdictCONF(path, conf)\n",
    "    np.save(r\"C:\\Users\\Fonse_ma\\OneDrive - Stichting Deltares\\Desktop\\Maria\\Notebooks\\Grade\\TimeSeries\\ds22_%draina\" %i, ds_raina)"
   ]
  },
  {
   "cell_type": "code",
   "execution_count": null,
   "id": "36cc137a",
   "metadata": {},
   "outputs": [],
   "source": [
    "path = r\"P:\\11206883-006-dar-cloud-computing\\RhineFiles\\ds_files\\ds_23_ordered.nc\"\n",
    "conf = pd.read_csv('Confluences_wnames.csv', delimiter=';')\n",
    "\n",
    "for i in range(0, 20): #20 ensaembles \n",
    "    ens = i\n",
    "    ds_rain, ds_snow, ds_temp = mf.TSdict(path, ens, conf)\n",
    "    np.save(r\"P:\\11206883-006-dar-cloud-computing\\RhineFiles\\ds_files\\TimeSeries\\ds23_%drain\" %i, ds_rain)\n",
    "    np.save(r\"P:\\11206883-006-dar-cloud-computing\\RhineFiles\\ds_files\\TimeSeries\\ds23_%dsnow\" %i, ds_snow)\n",
    "    np.save(r\"P:\\11206883-006-dar-cloud-computing\\RhineFiles\\ds_files\\TimeSeries\\ds23_%dtemp\" %i, ds_temp)"
   ]
  },
  {
   "cell_type": "code",
   "execution_count": null,
   "id": "9143e33d",
   "metadata": {},
   "outputs": [],
   "source": [
    "conf = pd.read_csv('Confluences_wnames.csv', delimiter=';')\n",
    "\n",
    "for i in range(0, 20): #20 ensaembles \n",
    "    ens = i\n",
    "    path = r\"C:\\Users\\Fonse_ma\\OneDrive - Stichting Deltares\\Desktop\\Maria\\Notebooks\\Grade\\TimeSeries\\ds23_%drain.npy\" %i\n",
    "    ds_raina = TSdictCONF(path, conf)\n",
    "    np.save(r\"C:\\Users\\Fonse_ma\\OneDrive - Stichting Deltares\\Desktop\\Maria\\Notebooks\\Grade\\TimeSeries\\ds23_%draina\" %i, ds_raina)"
   ]
  },
  {
   "cell_type": "code",
   "execution_count": null,
   "id": "0d921802",
   "metadata": {},
   "outputs": [],
   "source": [
    "path = r\"P:\\11206883-006-dar-cloud-computing\\RhineFiles\\ds_files\\ds_24_ordered.nc\"\n",
    "conf = pd.read_csv('Confluences_wnames.csv', delimiter=';')\n",
    "\n",
    "for i in range(0, 20): #20 ensaembles \n",
    "    ens = i\n",
    "    ds_rain, ds_snow, ds_temp = mf.TSdict(path, ens, conf)\n",
    "    np.save(r\"P:\\11206883-006-dar-cloud-computing\\RhineFiles\\ds_files\\TimeSeries\\ds24_%drain\" %i, ds_rain)\n",
    "    np.save(r\"P:\\11206883-006-dar-cloud-computing\\RhineFiles\\ds_files\\TimeSeries\\ds24_%dsnow\" %i, ds_snow)\n",
    "    np.save(r\"P:\\11206883-006-dar-cloud-computing\\RhineFiles\\ds_files\\TimeSeries\\ds24_%dtemp\" %i, ds_temp)"
   ]
  },
  {
   "cell_type": "code",
   "execution_count": null,
   "id": "4a94f1cf",
   "metadata": {},
   "outputs": [],
   "source": [
    "conf = pd.read_csv('Confluences_wnames.csv', delimiter=';')\n",
    "\n",
    "for i in range(0, 20): #20 ensaembles \n",
    "    ens = i\n",
    "    path = r\"C:\\Users\\Fonse_ma\\OneDrive - Stichting Deltares\\Desktop\\Maria\\Notebooks\\Grade\\TimeSeries\\ds24_%drain.npy\" %i\n",
    "    ds_raina = TSdictCONF(path, conf)\n",
    "    np.save(r\"C:\\Users\\Fonse_ma\\OneDrive - Stichting Deltares\\Desktop\\Maria\\Notebooks\\Grade\\TimeSeries\\ds24_%draina\" %i, ds_raina)"
   ]
  },
  {
   "cell_type": "code",
   "execution_count": null,
   "id": "8945b45e",
   "metadata": {},
   "outputs": [],
   "source": [
    "#how to load the data\n",
    "# ds0_0rain = np.load(r\"C:\\Users\\Fonse_ma\\OneDrive - Stichting Deltares\\Desktop\\Maria\\Notebooks\\Grade\\TimeSeries\\ds0_4rain.npy\", allow_pickle=True).item()\n",
    "# ds0_0rain\n",
    "# ds0_0snow = np.load(r\"C:\\Users\\Fonse_ma\\OneDrive - Stichting Deltares\\Desktop\\Maria\\Notebooks\\Grade\\TimeSeries\\ds0_0snow.npy\", allow_pickle=True).item()\n",
    "# print(ds0_0snow)\n",
    "# ds0_0temp = np.load(r\"C:\\Users\\Fonse_ma\\OneDrive - Stichting Deltares\\Desktop\\Maria\\Notebooks\\Grade\\TimeSeries\\ds0_0temp.npy\", allow_pickle=True).item()\n",
    "# print(ds0_0temp)\n",
    "# ds0_0rain['S0']"
   ]
  }
 ],
 "metadata": {
  "kernelspec": {
   "display_name": "Python 3.9.7 ('dar-cloud')",
   "language": "python",
   "name": "python3"
  },
  "language_info": {
   "codemirror_mode": {
    "name": "ipython",
    "version": 3
   },
   "file_extension": ".py",
   "mimetype": "text/x-python",
   "name": "python",
   "nbconvert_exporter": "python",
   "pygments_lexer": "ipython3",
   "version": "3.9.7"
  },
  "vscode": {
   "interpreter": {
    "hash": "dba0fec6c0a5dc3650c48ce5794cc777babb314a0f31f50d55fe76ea6fe6645b"
   }
  }
 },
 "nbformat": 4,
 "nbformat_minor": 5
}
