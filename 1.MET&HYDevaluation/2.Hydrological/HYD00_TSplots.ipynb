{
 "cells": [
  {
   "cell_type": "code",
   "execution_count": null,
   "id": "ce8c1cc6",
   "metadata": {},
   "outputs": [],
   "source": [
    "%matplotlib inline\n",
    "import numpy as np\n",
    "import matplotlib.pyplot as plt\n",
    "import pandas as pd"
   ]
  },
  {
   "cell_type": "markdown",
   "id": "017a24e9",
   "metadata": {},
   "source": [
    "Hydrological Data exploration"
   ]
  },
  {
   "cell_type": "code",
   "execution_count": null,
   "id": "7f76f575",
   "metadata": {},
   "outputs": [],
   "source": [
    "def OpenCVS(path):\n",
    "    df = pd.read_csv(path,  delim_whitespace=True, skiprows=[0,1])\n",
    "    df.columns = ['YEAR','MONTH','DAY','MIN','HOUR','I-RN-0001', 'I-RN-0002', 'I-RN-0003', 'I-RN-0004', 'I-RN-0005', \n",
    "                  'I-RN-0006', 'I-RN-0007', 'I-RN-0008', 'I-RN-0009', 'I-RN-0010', 'I-RN-0011', 'I-RN-0012', 'I-RN-0013', \n",
    "                  'I-RN-0014', 'I-RN-0015', 'I-RN-0016', 'I-RN-0017', 'I-RN-0018', 'I-RN-0019', 'I-RN-0020', 'I-RN-0021', \n",
    "                  'I-RN-0022', 'I-RN-0023', 'I-RN-0024', 'I-RN-0025', 'I-RN-0026', 'I-RN-0027', 'I-RN-0028', 'I-RN-0029', \n",
    "                  'I-RN-0030', 'I-RN-0031', 'I-RN-0032', 'I-RN-0033', 'I-RN-0034', 'I-RN-0035', 'I-RN-0036', 'I-RN-0037', \n",
    "                  'I-RN-0038', 'I-RN-0039', 'I-RN-0040', 'I-RN-0041', 'I-RN-0042', 'I-RN-0043', 'I-RN-0044', 'I-RN-0045', \n",
    "                  'I-RN-0046', 'I-RN-0047', 'I-RN-0048', 'I-RN-0049', 'I-RN-0050', 'I-RN-0051', 'I-RN-0052', 'I-RN-0053', \n",
    "                  'I-RN-0054', 'I-RN-0055', 'I-RN-0056', 'I-RN-0057', 'I-RN-0058', 'I-RN-0059', 'I-RN-0060', 'I-RN-0061', \n",
    "                  'I-RN-0062', 'I-RN-0063', 'I-RN-0064', 'I-RN-0065', 'I-RN-0066', 'I-RN-0067', 'I-RN-0068', 'I-RN-0069', \n",
    "                  'I-RN-0070', 'I-RN-0071', 'I-RN-0072', 'I-RN-0073', 'I-RN-0074', 'I-RN-0075', 'I-RN-0076', 'I-RN-0077', \n",
    "                  'I-RN-0078', 'I-RN-0079', 'I-RN-0080', 'I-RN-0081', 'I-RN-0082', 'I-RN-0083', 'I-RN-0084', 'I-RN-0085', \n",
    "                  'I-RN-0086', 'I-RN-0087', 'I-RN-0088', 'I-RN-0089', 'I-RN-0090', 'I-RN-0091', 'I-RN-0092', 'I-RN-0093', \n",
    "                  'I-RN-0094', 'I-RN-0095', 'I-RN-0096', 'I-RN-0097', 'I-RN-0098', 'I-RN-0099', 'I-RN-0100', 'I-RN-0101', \n",
    "                  'I-RN-0102', 'I-RN-0103', 'I-RN-0104', 'I-RN-0105', 'I-RN-0106', 'I-RN-0107', 'I-RN-0108', 'I-RN-0109', \n",
    "                  'I-RN-0110', 'I-RN-0111', 'I-RN-0112', 'I-RN-0113', 'I-RN-0114', 'I-RN-0115', 'I-RN-0116', 'I-RN-0117', \n",
    "                  'I-RN-0118', 'I-RN-0119', 'I-RN-0120a', 'I-RN-0120b', 'I-RN-0120c', 'I-RN-0120d', 'I-RN-0121', 'I-RN-0122', \n",
    "                  'I-RN-0123', 'I-RN-0124', 'I-RN-0125a', 'I-RN-0125b', 'I-RN-0125c', 'I-RN-0125d', 'I-RN-0125e', 'I-RN-0125f', \n",
    "                  'I-RN-0126', 'I-RN-0127a', 'I-RN-0127b', 'I-RN-0127c', 'I-RN-0127d', 'I-RN-0128', 'I-RN-0129a', 'I-RN-0129b', \n",
    "                  'I-RN-0129c', 'I-RN-0129d', 'I-RN-0130', 'I-RN-0131', 'I-RN-0132', 'I-RN-0133', 'I-RN-0134']\n",
    "    return df"
   ]
  },
  {
   "cell_type": "code",
   "execution_count": null,
   "id": "fea2c269",
   "metadata": {},
   "outputs": [],
   "source": [
    "def HYDTSconf(df, c, conf, start, end):\n",
    "    plt.figure(figsize=(20, 10))\n",
    "    plt.plot(df[conf.loc[(c, 'HVB_Q1')]][start:end], label=conf.loc[(c, 'HVB_Q1')])\n",
    "    plt.plot(df[conf.loc[(c, 'HVB_Q2')]][start:end], label=conf.loc[(c, 'HVB_Q2')])\n",
    "    plt.title(f'Discharge C{c}') #Runoff\n",
    "    plt.xlabel('Date')\n",
    "    plt.ylabel('(m3/s)') # Q  mm km/day\n",
    "    plt.legend()\n",
    "    plt.grid()\n",
    "\n",
    "\n",
    "\n",
    "#     start = 0 \n",
    "#     end = len(df)\n",
    "\n",
    "#     plt.figure(figsize=(20, 10))\n",
    "\n",
    "#     # plt.plot(df['I-RN-0100'][start:end], label='Delta')\n",
    "#     plt.plot(df['I-RN-0099'][start:end], label='Lower')\n",
    "#     plt.plot(df['I-RN-0088'][start:end], label='Middle')\n",
    "#     plt.plot(df['I-RN-0084'][start:end], label='Upper')\n",
    "#     plt.plot(df['I-RN-0134'][start:end], label='High')\n",
    "#     plt.plot(df['I-RN-0122'][start:end], label='Alpine')\n",
    "\n",
    "#     plt.title(f'Discharge') #Runoff\n",
    "#     plt.xlabel('Date')\n",
    "#     plt.ylabel('(m3/s)') # Q  mm km/day\n",
    "#     plt.legend()\n",
    "#     plt.grid()\n",
    "    return\n",
    "\n",
    "def HYDTSstream1(df, c, conf, start, end):\n",
    "    plt.figure(figsize=(20, 10))\n",
    "    plt.plot(df[conf.loc[(c, 'HVB_Q1')]][start:end], label=conf.loc[(c, 'HVB_Q1')])\n",
    "#     plt.plot(df[conf.loc[(c, 'HVB_Q2')]][start:end], label=conf.loc[(c, 'HVB_Q2')])\n",
    "    plt.title(f'Discharge C{c}') #Runoff\n",
    "    plt.xlabel('Date')\n",
    "    plt.ylabel('(m3/s)') # Q  mm km/day\n",
    "    plt.legend()\n",
    "    plt.grid()\n",
    "    return\n",
    "\n",
    "def HYDTSstream2(df, c, conf, start, end):\n",
    "    plt.figure(figsize=(20, 10))\n",
    "#     plt.plot(df[conf.loc[(c, 'HVB_Q1')]][start:end], label=conf.loc[(c, 'HVB_Q1')])\n",
    "    plt.plot(df[conf.loc[(c, 'HVB_Q2')]][start:end], label=conf.loc[(c, 'HVB_Q2')])\n",
    "    plt.title(f'Discharge C{c}') #Runoff\n",
    "    plt.xlabel('Date')\n",
    "    plt.ylabel('(m3/s)') # Q  mm km/day\n",
    "    plt.legend()\n",
    "    plt.grid()\n",
    "    return"
   ]
  },
  {
   "cell_type": "code",
   "execution_count": null,
   "id": "afe3fb82",
   "metadata": {},
   "outputs": [],
   "source": [
    "j = 6\n",
    "path = r\"P:\\11206883-006-dar-cloud-computing\\GRADE_export\\Files\\%d\" %j + r\"_HBV_RHINE.csv\"\n",
    "# path = r\"N:\\Deltabox\\Postbox\\Fonseca Cerda, Maria\\fromHessel\\all_outputs\\440001231_HBV_RHINE.csv\"\n",
    "df6 = OpenCVS(path)"
   ]
  },
  {
   "cell_type": "code",
   "execution_count": null,
   "id": "032c933e",
   "metadata": {},
   "outputs": [],
   "source": [
    "conf = pd.read_csv(r\"C:\\Users\\Fonse_ma\\OneDrive - Stichting Deltares\\Desktop\\Maria\\Notebooks\\HBV\\Confluences_ok.csv\", delimiter=';')"
   ]
  },
  {
   "cell_type": "code",
   "execution_count": null,
   "id": "fcbfe70b",
   "metadata": {},
   "outputs": [],
   "source": [
    "F6_C68 = pd.DataFrame(columns=['year', 'month', 'day', 'Q_S1', 'Q_S2'])\n",
    "F6_C68['year'] = df6['YEAR']\n",
    "F6_C68['month'] = df6['MONTH']\n",
    "F6_C68['day'] = df6['DAY']\n",
    "F6_C68['Q_S1'] = df6['I-RN-0084'] - df6['I-RN-0029']\n",
    "F6_C68['Q_S2'] = df6['I-RN-0029']\n",
    "F6_C68"
   ]
  },
  {
   "cell_type": "code",
   "execution_count": null,
   "id": "bf1cc2e6",
   "metadata": {},
   "outputs": [],
   "source": [
    "# j = 7\n",
    "for j in range(7, 25):\n",
    "    path = r\"P:\\11206883-006-dar-cloud-computing\\GRADE_export\\Files\\%d\" %j + r\"_HBV_RHINE.csv\"\n",
    "    # path = r\"N:\\Deltabox\\Postbox\\Fonseca Cerda, Maria\\fromHessel\\all_outputs\\440001231_HBV_RHINE.csv\"\n",
    "    df6 = OpenCVS(path)\n",
    "    F6_C68 = pd.DataFrame(columns=['year', 'month', 'day', 'Q_S1', 'Q_S2'])\n",
    "    F6_C68['year'] = df6['YEAR']\n",
    "    F6_C68['month'] = df6['MONTH']\n",
    "    F6_C68['day'] = df6['DAY']\n",
    "    F6_C68['Q_S1'] = df6['I-RN-0084'] - df6['I-RN-0029']\n",
    "    F6_C68['Q_S2'] = df6['I-RN-0029']\n",
    "    F6_C68.to_csv(r\"P:\\11206883-006-dar-cloud-computing\\GRADE_export\\HYDa\\C68\\C68_TS%d.csv\" %j, sep=';')\n",
    "    # display(F6_C68)"
   ]
  },
  {
   "cell_type": "code",
   "execution_count": null,
   "id": "0c2ad1fc",
   "metadata": {},
   "outputs": [],
   "source": [
    "j = 5\n",
    "path = r\"P:\\11206883-006-dar-cloud-computing\\GRADE_export\\HYDa\\C68\\C68_TS%d.csv\" %j\n",
    "path"
   ]
  },
  {
   "cell_type": "code",
   "execution_count": null,
   "id": "e67d476e",
   "metadata": {},
   "outputs": [],
   "source": [
    "F6_C68.to_csv(r'P:\\11206883-006-dar-cloud-computing\\GRADE_export\\HYDa\\C68\\C68_TS6.csv', sep=';')"
   ]
  },
  {
   "cell_type": "code",
   "execution_count": null,
   "id": "bebcda10",
   "metadata": {},
   "outputs": [],
   "source": [
    "op = pd.read_csv(r\"P:\\11206883-006-dar-cloud-computing\\GRADE_export\\HYDa\\C68\\C68_TS6.csv\", delimiter=';')\n",
    "op"
   ]
  },
  {
   "cell_type": "code",
   "execution_count": null,
   "id": "1f09338f",
   "metadata": {},
   "outputs": [],
   "source": [
    "plt.figure(figsize=(20, 10))\n",
    "plt.plot(op['Q_S1'][10500:11000], label='upr4')\n",
    "plt.plot(op['Q_S2'][10500:11000], label='main')\n",
    "plt.legend()\n",
    "plt.grid()\n"
   ]
  },
  {
   "cell_type": "code",
   "execution_count": null,
   "id": "24037ba9",
   "metadata": {},
   "outputs": [],
   "source": [
    "plt.figure(figsize=(20, 10))\n",
    "# plt.plot(midr1[10800:11000], label='midr1', ls='--', color='red')\n",
    "plt.plot(upr4[10800:11000], label='upr4', color='green')\n",
    "plt.plot(up4[10800:11000], label='upr4 - main', color='blue')\n",
    "plt.plot(main[10800:11000], label='main', color='orange')\n",
    "# plt.plot(mid1[10800:11000], label='midr1', ls='-', color='red')\n",
    "plt.legend()\n",
    "plt.grid()\n"
   ]
  },
  {
   "cell_type": "code",
   "execution_count": null,
   "id": "6adb2d8b",
   "metadata": {},
   "outputs": [],
   "source": [
    "plt.figure(figsize=(20, 10))\n",
    "plt.plot(midr1, label='midr1')\n",
    "plt.plot(upr4, label='upr4')\n",
    "plt.plot(main, label='main')\n",
    "plt.legend()\n",
    "plt.grid()\n"
   ]
  },
  {
   "cell_type": "code",
   "execution_count": null,
   "id": "cdb6a93c",
   "metadata": {},
   "outputs": [],
   "source": [
    "start = 0 \n",
    "end = len(df6)\n",
    "c = 67\n",
    "HYDTSconf(df6, c, conf, start, end)\n",
    "# HYDTSstream1(df6, c, conf, start, end)\n",
    "# HYDTSstream2(df6, c, conf, start, end)"
   ]
  },
  {
   "cell_type": "code",
   "execution_count": null,
   "id": "d9ef192b",
   "metadata": {},
   "outputs": [],
   "source": [
    "start = 0 \n",
    "end = len(df6)\n",
    "c = 70\n",
    "HYDTSconf(df6, c, conf, start, end)\n",
    "# HYDTSstream1(df6, c, conf, start, end)\n",
    "# HYDTSstream2(df6, c, conf, start, end)"
   ]
  },
  {
   "cell_type": "code",
   "execution_count": null,
   "id": "45d1ea5c",
   "metadata": {},
   "outputs": [],
   "source": []
  }
 ],
 "metadata": {
  "kernelspec": {
   "display_name": "Python 3.9.7 ('dar-cloud')",
   "language": "python",
   "name": "python3"
  },
  "language_info": {
   "codemirror_mode": {
    "name": "ipython",
    "version": 3
   },
   "file_extension": ".py",
   "mimetype": "text/x-python",
   "name": "python",
   "nbconvert_exporter": "python",
   "pygments_lexer": "ipython3",
   "version": "3.9.7"
  },
  "vscode": {
   "interpreter": {
    "hash": "dba0fec6c0a5dc3650c48ce5794cc777babb314a0f31f50d55fe76ea6fe6645b"
   }
  }
 },
 "nbformat": 4,
 "nbformat_minor": 5
}
