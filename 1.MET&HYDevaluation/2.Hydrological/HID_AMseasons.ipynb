{
 "cells": [
  {
   "cell_type": "code",
   "execution_count": null,
   "id": "224806d9",
   "metadata": {},
   "outputs": [],
   "source": [
    "import os\n",
    "import xarray as xr\n",
    "import numpy as np\n",
    "import glob\n",
    "\n",
    "%matplotlib inline\n",
    "import matplotlib.pyplot as plt\n",
    "# from matplotlib.patches import Patch\n",
    "from matplotlib.lines import Line2D\n",
    "import pandas as pd\n",
    "\n",
    "from datetime import datetime"
   ]
  },
  {
   "cell_type": "markdown",
   "id": "ad878616",
   "metadata": {},
   "source": [
    "Estimate the numeber of peaks per season and select the season with most of the peaks:\n",
    "\n",
    "*1 - Open the catchment configuration file*\n",
    "\n",
    "*2 - Open the Annual Maxima sets alternatives; Create a list with the lists per confluence with the number of peaks per season*\n",
    "\n",
    "*3 - Save/open the seasons files*\n",
    "\n",
    "*4 - Calculate the percentage of peaks per season; add the percentage of the season with most of the peaks to the Confluence's DataFrame*\n",
    "\n",
    "*5 - Save/open the confluences files*"
   ]
  },
  {
   "cell_type": "code",
   "execution_count": null,
   "id": "e457179a",
   "metadata": {},
   "outputs": [],
   "source": [
    "conf = pd.read_csv('Confluences_wnames.csv', delimiter=';')\n"
   ]
  },
  {
   "cell_type": "code",
   "execution_count": null,
   "id": "4fbee0e0",
   "metadata": {},
   "outputs": [],
   "source": [
    "desc = 'disc1d' #OPEN 'disc1d', 'disc5d' / #'rain1d', 'snow', 'rain'\n",
    "seas = []\n",
    "for c in range(0, len(conf)): #len(conf)\n",
    "    print(f'Starting {c} at {str(datetime.now().time())}')\n",
    "    op = r\"P:\\11206883-006-dar-cloud-computing\\GRADE_export\\HIDnew\\03_AMhid\" + r\"\\C%d_\" %c + desc + r\"_\"\n",
    "#     op = r\"P:\\11206883-006-dar-cloud-computing\\RhineFiles\\MET\\AMmet\\C%d_\" %c + desc + r\"_\"\n",
    "    AM1 = pd.read_pickle(op + \"AM1.pkl\")\n",
    "    AM2 = pd.read_pickle(op + \"AM2.pkl\")\n",
    "    AM3 = pd.read_pickle(op + \"AM3.pkl\")\n",
    "    globals()[f'C{c}_seas'] = []\n",
    "    globals()[f'C{c}_seas'].append(AM1.groupby(['season'])['season'].count())\n",
    "    globals()[f'C{c}_seas'].append(AM2.groupby(['season'])['season'].count())\n",
    "    globals()[f'C{c}_seas'].append(AM3.groupby(['season'])['season'].count())\n",
    "    print(f'Done {c} at {str(datetime.now().time())}')\n",
    "    seas.append(globals()[f'C{c}_seas'])"
   ]
  },
  {
   "cell_type": "code",
   "execution_count": null,
   "id": "2e1f9eed",
   "metadata": {},
   "outputs": [],
   "source": [
    "desc = 'disc1d'\n",
    "# sv = r\"P:\\11206883-006-dar-cloud-computing\\RhineFiles\\MET\\AMseasons\\Seasons_\" + desc #+ r\".pkl\"\n",
    "sv = r\"P:\\11206883-006-dar-cloud-computing\\GRADE_export\\HIDnew\\AMseasons\\Seasons_\" + desc #+ r\".pkl\"\n",
    "np.save(sv, seas)"
   ]
  },
  {
   "cell_type": "code",
   "execution_count": null,
   "id": "8ffdc59f",
   "metadata": {},
   "outputs": [],
   "source": [
    "desc = 'disc1d'\n",
    "# op = r\"P:\\11206883-006-dar-cloud-computing\\RhineFiles\\MET\\AMseasons\\Seasons_\" + desc + r\".npy\"\n",
    "op = r\"P:\\11206883-006-dar-cloud-computing\\GRADE_export\\HIDnew\\AMseasons\\Seasons_\" + desc + r\".npy\"\n",
    "globals()[f'Seasons_{desc}'] = np.load(op, allow_pickle=True)#.item()\n",
    "globals()[f'Seasons_{desc}']"
   ]
  },
  {
   "cell_type": "code",
   "execution_count": null,
   "id": "0a3030e5",
   "metadata": {},
   "outputs": [],
   "source": [
    "D1d = Seasons_disc1d / 10000\n",
    "D5d = Seasons_disc5d / 50000"
   ]
  },
  {
   "cell_type": "code",
   "execution_count": null,
   "id": "34382f62",
   "metadata": {},
   "outputs": [],
   "source": [
    "conf_d1d = pd.read_csv('Confluences_wnames.csv', delimiter=';')\n",
    "conf_d1d['AM1_s'] = ''\n",
    "conf_d1d['AM1_season'] = ''\n",
    "conf_d1d['AM1_%'] = ''\n",
    "conf_d1d['AM2_s'] = ''\n",
    "conf_d1d['AM2_season'] = ''\n",
    "conf_d1d['AM2_%'] = ''\n",
    "conf_d1d['AM3_s'] = ''\n",
    "conf_d1d['AM3_season'] = ''\n",
    "conf_d1d['AM3_%'] = ''\n",
    "\n",
    "conf_d5d = pd.read_csv('Confluences_wnames.csv', delimiter=';')\n",
    "conf_d5d['AM1_s'] = ''\n",
    "conf_d5d['AM1_season'] = ''\n",
    "conf_d5d['AM1_%'] = ''\n",
    "conf_d5d['AM2_s'] = ''\n",
    "conf_d5d['AM2_season'] = ''\n",
    "conf_d5d['AM2_%'] = ''\n",
    "conf_d5d['AM3_s'] = ''\n",
    "conf_d5d['AM3_season'] = ''\n",
    "conf_d5d['AM3_%'] = ''"
   ]
  },
  {
   "cell_type": "code",
   "execution_count": null,
   "id": "e74e0ae9",
   "metadata": {},
   "outputs": [],
   "source": [
    "for i in range(len(conf_d1d)):\n",
    "    df = D1d\n",
    "    conf_d1d['AM1_s'][i] = df[i][0].argmax()\n",
    "    conf_d1d['AM1_%'][i] = df[i][0].max()*100\n",
    "    conf_d1d['AM2_s'][i] = df[i][1].argmax()\n",
    "    conf_d1d['AM2_%'][i] = df[i][1].max()*100\n",
    "    conf_d1d['AM3_s'][i] = df[i][2].argmax()\n",
    "    conf_d1d['AM3_%'][i] = df[i][2].max()*100\n",
    "\n",
    "#Seasons' Names\n",
    "conditions = [\n",
    "    (conf_d1d.AM1_s==0),\n",
    "    (conf_d1d.AM1_s==1),\n",
    "    (conf_d1d.AM1_s==2),\n",
    "    (conf_d1d.AM1_s==3)]\n",
    "\n",
    "choices = ['DJF', 'JJA', 'MAM', 'SON']\n",
    "conf_d1d['AM1_season'] = np.select(conditions, choices, default='ERROR')\n",
    "\n",
    "conditions = [\n",
    "    (conf_d1d.AM2_s==0),\n",
    "    (conf_d1d.AM2_s==1),\n",
    "    (conf_d1d.AM2_s==2),\n",
    "    (conf_d1d.AM2_s==3)]\n",
    "\n",
    "choices = ['DJF', 'JJA', 'MAM', 'SON']\n",
    "conf_d1d['AM2_season'] = np.select(conditions, choices, default='ERROR')\n",
    "\n",
    "conditions = [\n",
    "    (conf_d1d.AM3_s==0),\n",
    "    (conf_d1d.AM3_s==1),\n",
    "    (conf_d1d.AM3_s==2),\n",
    "    (conf_d1d.AM3_s==3)]\n",
    "\n",
    "choices = ['DJF', 'JJA', 'MAM', 'SON']\n",
    "conf_d1d['AM3_season'] = np.select(conditions, choices, default='ERROR')\n",
    "conf_d1d"
   ]
  },
  {
   "cell_type": "code",
   "execution_count": null,
   "id": "9bbe491d",
   "metadata": {
    "scrolled": true
   },
   "outputs": [],
   "source": [
    "for i in range(len(conf_d5d)):\n",
    "    df = D5d\n",
    "    conf_d5d['AM1_s'][i] = df[i][0].argmax()\n",
    "    conf_d5d['AM1_%'][i] = df[i][0].max()*100\n",
    "    conf_d5d['AM2_s'][i] = df[i][1].argmax()\n",
    "    conf_d5d['AM2_%'][i] = df[i][1].max()*100\n",
    "    conf_d5d['AM3_s'][i] = df[i][2].argmax()\n",
    "    conf_d5d['AM3_%'][i] = df[i][2].max()*100\n",
    "\n",
    "#Seasons' Names\n",
    "conditions = [\n",
    "    (conf_d5d.AM1_s==0),\n",
    "    (conf_d5d.AM1_s==1),\n",
    "    (conf_d5d.AM1_s==2),\n",
    "    (conf_d5d.AM1_s==3)]\n",
    "\n",
    "choices = ['DJF', 'JJA', 'MAM', 'SON']\n",
    "conf_d5d['AM1_season'] = np.select(conditions, choices, default='ERROR')\n",
    "\n",
    "conditions = [\n",
    "    (conf_d5d.AM2_s==0),\n",
    "    (conf_d5d.AM2_s==1),\n",
    "    (conf_d5d.AM2_s==2),\n",
    "    (conf_d5d.AM2_s==3)]\n",
    "\n",
    "choices = ['DJF', 'JJA', 'MAM', 'SON']\n",
    "conf_d5d['AM2_season'] = np.select(conditions, choices, default='ERROR')\n",
    "\n",
    "conditions = [\n",
    "    (conf_d5d.AM3_s==0),\n",
    "    (conf_d5d.AM3_s==1),\n",
    "    (conf_d5d.AM3_s==2),\n",
    "    (conf_d5d.AM3_s==3)]\n",
    "\n",
    "choices = ['DJF', 'JJA', 'MAM', 'SON']\n",
    "conf_d5d['AM3_season'] = np.select(conditions, choices, default='ERROR')\n",
    "conf_d5d"
   ]
  },
  {
   "cell_type": "code",
   "execution_count": null,
   "id": "24ef8b0a",
   "metadata": {},
   "outputs": [],
   "source": [
    "desc = 'disc1d'\n",
    "sv = r\"P:\\11206883-006-dar-cloud-computing\\GRADE_export\\HIDnew\\AMseasons\\Seasons_\" + desc + r\".csv\"\n",
    "conf_d1d.to_csv(sv, ';')\n",
    "\n",
    "# desc = 'disc5d'\n",
    "# sv = r\"P:\\11206883-006-dar-cloud-computing\\GRADE_export\\HIDnew\\AMseasons\\Seasons_\" + desc + r\".csv\"\n",
    "# conf_d5d.to_csv(sv, ';')"
   ]
  },
  {
   "cell_type": "code",
   "execution_count": null,
   "id": "3dcca863",
   "metadata": {},
   "outputs": [],
   "source": [
    "desc = 'disc1d'\n",
    "sv = r\"P:\\11206883-006-dar-cloud-computing\\GRADE_export\\HID\\AMseasons\\Seasons_\" + desc + r\".csv\"\n",
    "d1d = pd.read_csv(sv, delimiter=';')\n",
    "d1d"
   ]
  }
 ],
 "metadata": {
  "kernelspec": {
   "display_name": "Python 3.9.7 ('dar-cloud')",
   "language": "python",
   "name": "python3"
  },
  "language_info": {
   "codemirror_mode": {
    "name": "ipython",
    "version": 3
   },
   "file_extension": ".py",
   "mimetype": "text/x-python",
   "name": "python",
   "nbconvert_exporter": "python",
   "pygments_lexer": "ipython3",
   "version": "3.9.7"
  },
  "vscode": {
   "interpreter": {
    "hash": "dba0fec6c0a5dc3650c48ce5794cc777babb314a0f31f50d55fe76ea6fe6645b"
   }
  }
 },
 "nbformat": 4,
 "nbformat_minor": 5
}
