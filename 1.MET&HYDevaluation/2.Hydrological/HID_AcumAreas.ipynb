{
 "cells": [
  {
   "cell_type": "code",
   "execution_count": null,
   "id": "ff7f3401",
   "metadata": {},
   "outputs": [],
   "source": [
    "import os\n",
    "import xarray as xr\n",
    "import numpy as np\n",
    "import glob\n",
    "\n",
    "%matplotlib inline\n",
    "import matplotlib.pyplot as plt\n",
    "import pandas as pd\n",
    "\n",
    "import lmom as lmom\n",
    "from scipy.stats import spearmanr\n",
    "from scipy.stats import norm\n"
   ]
  },
  {
   "cell_type": "markdown",
   "id": "7afb20f1",
   "metadata": {},
   "source": [
    "Add the area and CV to the results files"
   ]
  },
  {
   "cell_type": "code",
   "execution_count": null,
   "id": "7ac38aa1",
   "metadata": {},
   "outputs": [],
   "source": [
    "conf = pd.read_csv('Confluences_wnames.csv', delimiter=';')\n",
    "ds_areas = np.load(r\"ds_ACareas.npy\", allow_pickle=True).item()"
   ]
  },
  {
   "cell_type": "code",
   "execution_count": null,
   "id": "7a271697",
   "metadata": {},
   "outputs": [],
   "source": [
    "# globals()[f'N{n}_AM{A}_{extra}'].loc[(i, 'Area')] = ds_areas[globals()[f'N{n}_AM{A}_{extra}'].Confluence[i]]\n",
    "\n",
    "conf['Area'] = ''\n",
    "\n",
    "for i in range(len(conf)):\n",
    "    conf.loc[(i, 'Area')] = ds_areas[conf.Confluence[i]]"
   ]
  },
  {
   "cell_type": "code",
   "execution_count": null,
   "id": "4558d742",
   "metadata": {},
   "outputs": [],
   "source": [
    "conf.to_csv('Confluences_wnames2.csv', sep=';')"
   ]
  },
  {
   "cell_type": "markdown",
   "id": "7c68270e",
   "metadata": {},
   "source": [
    "### Add the Area and CV to the DataFrames\n",
    "\n",
    "CHECK it later, only the 'working' lines work"
   ]
  },
  {
   "cell_type": "code",
   "execution_count": null,
   "id": "a1877daf",
   "metadata": {},
   "outputs": [],
   "source": [
    "# Open ALL the dataframes\n",
    "# desc = 'disc5d' #OPEN 'disc1d', 'disc5d'\n",
    "# extra = '5d' #RUN '1d', '5d'\n",
    "# for A in (1, 2, 3):\n",
    "#     for n in (100, 500, 1000, 5000, 10000, 25000, 50000): #10000, 25000, \n",
    "# #         op = r\"P:\\11206883-006-dar-cloud-computing\\GRADE_export\\HID\\HIDmetrics\\C_AM%d\" %A + r\"_n%d\" %n  + desc + r\".pkl\"\n",
    "#         op = r\"P:\\11206883-006-dar-cloud-computing\\GRADE_export\\HID\\HIDmetrics\\N%d\" %n + r\"_AM%d_\" %A + desc + r\".pkl\"\n",
    "#         globals()[f'N{n}_AM{A}_{extra}'] = pd.read_pickle(op)\n",
    "\n",
    "# Open 1 dataframe\n",
    "desc = 'disc1d' #OPEN 'disc1d', 'disc5d'\n",
    "extra = '1d' #RUN '1d', '5d'\n",
    "n = 10000 #100, 500, 1000, 5000, 10000, 25000, 50000\n",
    "for A in (1, 2, 3):\n",
    "    op = r\"P:\\11206883-006-dar-cloud-computing\\GRADE_export\\HIDnew\\04_HIDmetrics\\N%d\" %n + r\"_AM%d_\" %A + desc + r\".pkl\"\n",
    "    globals()[f'N{n}_AM{A}_{extra}'] = pd.read_pickle(op)"
   ]
  },
  {
   "cell_type": "code",
   "execution_count": null,
   "id": "572deaad",
   "metadata": {},
   "outputs": [],
   "source": [
    "N100_AM3_5d.drop(119,0,inplace=True)\n",
    "# N100_AM1_5d\n",
    "len(N100_AM1_5d)\n",
    "# for i in range(len(N100_AM1_5d)):\n",
    "#     print(N100_AM1_5d.index[i])\n",
    "#     print(N100_AM1_5d.Confluence[i])\n",
    "#     print(N100_AM1_5d.rho_mean[i])"
   ]
  },
  {
   "cell_type": "code",
   "execution_count": null,
   "id": "cb230155",
   "metadata": {},
   "outputs": [],
   "source": [
    "#Add the area & REGIOn to the GeoDataFrames\n",
    "# extra = '5d' #RUN 'r1', 's', 'r5', (ONLY N=1000)'r50'\n",
    "# for A in (1, 2, 3):\n",
    "#     for n in (100, 500, 1000, 5000, 10000, 25000, 50000): # 10000, 25000,\n",
    "#         globals()[f'N{n}_AM{A}_{extra}']['Region'] = ''\n",
    "#         globals()[f'N{n}_AM{A}_{extra}']['MainRiver'] = ''\n",
    "#         globals()[f'N{n}_AM{A}_{extra}']['Area'] = ''\n",
    "#         for i in range(len(globals()[f'N{n}_AM{A}_{extra}'])):\n",
    "#             globals()[f'N{n}_AM{A}_{extra}'].loc[(i, 'Region')] = conf.Region[i]\n",
    "#             globals()[f'N{n}_AM{A}_{extra}'].loc[(i, 'MainRiver')] = conf.MainRiver[i]\n",
    "#             globals()[f'N{n}_AM{A}_{extra}'].loc[(i, 'Area')] = ds_areas[globals()[f'N{n}_AM{A}_{extra}'].Confluence[i]]\n",
    "            \n",
    "#ONLY 1\n",
    "extra = '1d' #RUN 'r1', 's', 'r5', (ONLY N=1000)'r50'\n",
    "n=50000\n",
    "for A in (1, 2, 3):\n",
    "    globals()[f'N{n}_AM{A}_{extra}']['Region'] = ''\n",
    "    globals()[f'N{n}_AM{A}_{extra}']['MainRiver'] = ''\n",
    "    globals()[f'N{n}_AM{A}_{extra}']['Area'] = ''\n",
    "    for i in range(len(globals()[f'N{n}_AM{A}_{extra}'])):\n",
    "        globals()[f'N{n}_AM{A}_{extra}'].loc[(i, 'Region')] = conf.Region[i]\n",
    "        globals()[f'N{n}_AM{A}_{extra}'].loc[(i, 'MainRiver')] = conf.MainRiver[i]\n",
    "        globals()[f'N{n}_AM{A}_{extra}'].loc[(i, 'Area')] = ds_areas[globals()[f'N{n}_AM{A}_{extra}'].Confluence[i]]"
   ]
  },
  {
   "cell_type": "code",
   "execution_count": null,
   "id": "0496af4e",
   "metadata": {},
   "outputs": [],
   "source": [
    "\n",
    "#1 - Add CV & Rho/Area\n",
    "extra = '1d' #RUN 'r1', 's', 'r5', (ONLY N=1000)'r50'\n",
    "n= 10000 #100, 500, 1000, 5000, 10000, 25000, 50000\n",
    "for A in (1, 2, 3):\n",
    "    globals()[f'N{n}_AM{A}_{extra}']['CV'] = 0\n",
    "    globals()[f'N{n}_AM{A}_{extra}']['rho/area'] = 0\n",
    "#     globals()[f'N{n}_AM{A}_{extra}'].loc[(119,'rho_mean')] = 0\n",
    "#     globals()[f'N{n}_AM{A}_{extra}'].loc[(119,'rho_std')] = 0\n",
    "    #globals()[f'N{n}_AM{A}_{extra}']['rho_std'][119] = 0\n",
    "    #globals()[f'N{n}_AM{A}_{extra}']['rho_mean'][119] =0\n",
    "    #globals()[f'N{n}_AM{A}_{extra}']['rho_std'] = globals()[f'N{n}_AM{A}_{extra}']['rho_std'].astype(float)\n",
    "    #globals()[f'N{n}_AM{A}_{extra}']['rho_mean']= globals()[f'N{n}_AM{A}_{extra}']['rho_mean'].astype(float)\n",
    "#     for i in list(range(0, 119)) + list(range(120, len(conf))):\n",
    "    for i in range(0, len(conf)):\n",
    "        globals()[f'N{n}_AM{A}_{extra}'].loc[(i,'CV')] = globals()[f'N{n}_AM{A}_{extra}'].loc[(i,'rho_std')] / globals()[f'N{n}_AM{A}_{extra}'].loc[(i,'rho_mean')]\n",
    "        globals()[f'N{n}_AM{A}_{extra}'].loc[(i,'rho/area')] = (globals()[f'N{n}_AM{A}_{extra}'].loc[(i,'rho_mean')] / globals()[f'N{n}_AM{A}_{extra}'].loc[(i,'Area')]) * 100"
   ]
  },
  {
   "cell_type": "code",
   "execution_count": null,
   "id": "0af9347e",
   "metadata": {},
   "outputs": [],
   "source": []
  },
  {
   "cell_type": "code",
   "execution_count": null,
   "id": "8905f951",
   "metadata": {},
   "outputs": [],
   "source": [
    "# #WORKING\n",
    "#N=50000\n",
    "extra = '5d' #RUN 'r1', 's', 'r5', (ONLY N=1000)'r50'\n",
    "n=50000\n",
    "for A in (1, 2, 3):\n",
    "    globals()[f'N{n}_AM{A}_{extra}'].loc[(119,'rho_mean')] = 0\n",
    "    globals()[f'N{n}_AM{A}_{extra}'].loc[(119,'rho_std')] = 0\n",
    "    globals()[f'N{n}_AM{A}_{extra}']['rho_std'] = 0\n",
    "    globals()[f'N{n}_AM{A}_{extra}']['S1avg_std'] = 0\n",
    "    globals()[f'N{n}_AM{A}_{extra}']['S1std_std'] = 0\n",
    "    globals()[f'N{n}_AM{A}_{extra}']['S2avg_std'] = 0\n",
    "    globals()[f'N{n}_AM{A}_{extra}']['S2std_std'] = 0\n",
    "    globals()[f'N{n}_AM{A}_{extra}']['CV'] = 0\n",
    "    globals()[f'N{n}_AM{A}_{extra}']['rho/area'] = (globals()[f'N{n}_AM{A}_{extra}']['rho_mean'] / globals()[f'N{n}_AM{A}_{extra}']['Area']) * 100\n"
   ]
  },
  {
   "cell_type": "code",
   "execution_count": null,
   "id": "4a84965e",
   "metadata": {},
   "outputs": [],
   "source": [
    "# Save ALL the dataframes\n",
    "# desc = 'disc5d' #SAVE'disc1d', 'disc5d'\n",
    "# extra = '5d' #RUN '1d', '5d'\n",
    "# for A in (1, 2, 3):\n",
    "#     for n in (100, 500, 1000, 5000, 10000, 25000, 50000): #10000, 25000, \n",
    "# #         sv = r\"P:\\11206883-006-dar-cloud-computing\\GRADE_export\\HID\\HIDmetrics\\C_AM%d\" %A + r\"_n%d\" %n  + desc + r\".pkl\"\n",
    "#         sv = r\"P:\\11206883-006-dar-cloud-computing\\GRADE_export\\HID\\HIDmetrics2\\N%d\" %n + r\"_AM%d_\" %A + desc + r\".pkl\"\n",
    "#         globals()[f'N{n}_AM{A}_{extra}'].to_pickle(sv)\n",
    "\n",
    "# Save 1 dataframe\n",
    "desc = 'disc1d' #'rain1d', 'snow', 'rain5d', (ONLY N=1000)'r50'\n",
    "extra = '1d' #RUN 'rain1d', 'snow', 'rain5d', (ONLY N=1000)'r50'\n",
    "n = 10000 #100, 500, 1000, 5000, 10000, 25000, 50000\n",
    "for A in (1, 2, 3):\n",
    "    sv = r\"P:\\11206883-006-dar-cloud-computing\\GRADE_export\\HIDnew\\04_HIDmetrics\\N%d\" %n + r\"_AM%d_\" %A + desc + r\".pkl\"\n",
    "#     sv = r\"P:\\11206883-006-dar-cloud-computing\\GRADE_export\\HID\\HIDmetrics2\\N%d\" %n + r\"_AM%d_\" %A + desc + r\".pkl\"\n",
    "    globals()[f'N{n}_AM{A}_{extra}'].to_pickle(sv)    "
   ]
  },
  {
   "cell_type": "code",
   "execution_count": null,
   "id": "a0f8bf7c",
   "metadata": {},
   "outputs": [],
   "source": [
    "#NEW 220503\n",
    "#1 - Add CV & Rho/Area\n",
    "extra = '1d' #RUN 'r1', 's', 'r5', (ONLY N=1000)'r50'\n",
    "n= 10000 #100, 500, 1000, 5000, 10000, 25000, 50000\n",
    "for A in (1, 2, 3):\n",
    "    globals()[f'N{n}_AM{A}_{extra}']['CV'] = 0\n",
    "    globals()[f'N{n}_AM{A}_{extra}']['rho/area'] = (globals()[f'N{n}_AM{A}_{extra}']['rho_mean'] / globals()[f'N{n}_AM{A}_{extra}']['Area']) * 100"
   ]
  },
  {
   "cell_type": "code",
   "execution_count": null,
   "id": "23b63845",
   "metadata": {},
   "outputs": [],
   "source": [
    "Cconf = pd.read_csv('Confluences_wareas.csv', delimiter=';')"
   ]
  },
  {
   "cell_type": "code",
   "execution_count": null,
   "id": "930127f6",
   "metadata": {},
   "outputs": [],
   "source": [
    "extra = '1d' #RUN 'r1', 's', 'r5', (ONLY N=1000)'r50'\n",
    "n= 10000 #100, 500, 1000, 5000, 10000, 25000, 50000\n",
    "for A in (1, 2, 3):\n",
    "    globals()[f'N{n}_AM{A}_{extra}']['A1'] = Cconf['A1']\n",
    "    globals()[f'N{n}_AM{A}_{extra}']['A2'] = Cconf['A2']\n",
    "    globals()[f'N{n}_AM{A}_{extra}']['A1/A2'] = Cconf['A1/A2']"
   ]
  },
  {
   "cell_type": "code",
   "execution_count": null,
   "id": "a2c136cd",
   "metadata": {},
   "outputs": [],
   "source": [
    "#CHECKING\n",
    "# n=10000\n",
    "# extra = '1d' #RUN 'r1', 's', 'r5', (ONLY N=1000)'r50'\n",
    "\n",
    "# A=1\n",
    "# display(globals()[f'N{n}_AM{A}_{extra}'])\n",
    "\n",
    "# A=2\n",
    "# display(globals()[f'N{n}_AM{A}_{extra}'])\n",
    "\n",
    "# A=3\n",
    "# display(globals()[f'N{n}_AM{A}_{extra}'])"
   ]
  }
 ],
 "metadata": {
  "kernelspec": {
   "display_name": "Python 3.9.7 ('dar-cloud')",
   "language": "python",
   "name": "python3"
  },
  "language_info": {
   "codemirror_mode": {
    "name": "ipython",
    "version": 3
   },
   "file_extension": ".py",
   "mimetype": "text/x-python",
   "name": "python",
   "nbconvert_exporter": "python",
   "pygments_lexer": "ipython3",
   "version": "3.9.7"
  },
  "vscode": {
   "interpreter": {
    "hash": "dba0fec6c0a5dc3650c48ce5794cc777babb314a0f31f50d55fe76ea6fe6645b"
   }
  }
 },
 "nbformat": 4,
 "nbformat_minor": 5
}
