{
 "cells": [
  {
   "cell_type": "code",
   "execution_count": null,
   "id": "a88a44eb",
   "metadata": {},
   "outputs": [],
   "source": [
    "%matplotlib inline\n",
    "import numpy as np\n",
    "import matplotlib.pyplot as plt\n",
    "import pandas as pd\n",
    "\n",
    "from datetime import datetime"
   ]
  },
  {
   "cell_type": "markdown",
   "id": "080fd4a2",
   "metadata": {},
   "source": [
    "Extract the time series and stores them"
   ]
  },
  {
   "cell_type": "code",
   "execution_count": null,
   "id": "3247ffc8",
   "metadata": {},
   "outputs": [],
   "source": [
    "def OpenCVS(path):\n",
    "    df = pd.read_csv(path,  delim_whitespace=True, skiprows=[0,1])\n",
    "    df.columns = ['YEAR','MONTH','DAY','MIN','HOUR','I-RN-0001', 'I-RN-0002', 'I-RN-0003', 'I-RN-0004', 'I-RN-0005', \n",
    "                  'I-RN-0006', 'I-RN-0007', 'I-RN-0008', 'I-RN-0009', 'I-RN-0010', 'I-RN-0011', 'I-RN-0012', 'I-RN-0013', \n",
    "                  'I-RN-0014', 'I-RN-0015', 'I-RN-0016', 'I-RN-0017', 'I-RN-0018', 'I-RN-0019', 'I-RN-0020', 'I-RN-0021', \n",
    "                  'I-RN-0022', 'I-RN-0023', 'I-RN-0024', 'I-RN-0025', 'I-RN-0026', 'I-RN-0027', 'I-RN-0028', 'I-RN-0029', \n",
    "                  'I-RN-0030', 'I-RN-0031', 'I-RN-0032', 'I-RN-0033', 'I-RN-0034', 'I-RN-0035', 'I-RN-0036', 'I-RN-0037', \n",
    "                  'I-RN-0038', 'I-RN-0039', 'I-RN-0040', 'I-RN-0041', 'I-RN-0042', 'I-RN-0043', 'I-RN-0044', 'I-RN-0045', \n",
    "                  'I-RN-0046', 'I-RN-0047', 'I-RN-0048', 'I-RN-0049', 'I-RN-0050', 'I-RN-0051', 'I-RN-0052', 'I-RN-0053', \n",
    "                  'I-RN-0054', 'I-RN-0055', 'I-RN-0056', 'I-RN-0057', 'I-RN-0058', 'I-RN-0059', 'I-RN-0060', 'I-RN-0061', \n",
    "                  'I-RN-0062', 'I-RN-0063', 'I-RN-0064', 'I-RN-0065', 'I-RN-0066', 'I-RN-0067', 'I-RN-0068', 'I-RN-0069', \n",
    "                  'I-RN-0070', 'I-RN-0071', 'I-RN-0072', 'I-RN-0073', 'I-RN-0074', 'I-RN-0075', 'I-RN-0076', 'I-RN-0077', \n",
    "                  'I-RN-0078', 'I-RN-0079', 'I-RN-0080', 'I-RN-0081', 'I-RN-0082', 'I-RN-0083', 'I-RN-0084', 'I-RN-0085', \n",
    "                  'I-RN-0086', 'I-RN-0087', 'I-RN-0088', 'I-RN-0089', 'I-RN-0090', 'I-RN-0091', 'I-RN-0092', 'I-RN-0093', \n",
    "                  'I-RN-0094', 'I-RN-0095', 'I-RN-0096', 'I-RN-0097', 'I-RN-0098', 'I-RN-0099', 'I-RN-0100', 'I-RN-0101', \n",
    "                  'I-RN-0102', 'I-RN-0103', 'I-RN-0104', 'I-RN-0105', 'I-RN-0106', 'I-RN-0107', 'I-RN-0108', 'I-RN-0109', \n",
    "                  'I-RN-0110', 'I-RN-0111', 'I-RN-0112', 'I-RN-0113', 'I-RN-0114', 'I-RN-0115', 'I-RN-0116', 'I-RN-0117', \n",
    "                  'I-RN-0118', 'I-RN-0119', 'I-RN-0120a', 'I-RN-0120b', 'I-RN-0120c', 'I-RN-0120d', 'I-RN-0121', 'I-RN-0122', \n",
    "                  'I-RN-0123', 'I-RN-0124', 'I-RN-0125a', 'I-RN-0125b', 'I-RN-0125c', 'I-RN-0125d', 'I-RN-0125e', 'I-RN-0125f', \n",
    "                  'I-RN-0126', 'I-RN-0127a', 'I-RN-0127b', 'I-RN-0127c', 'I-RN-0127d', 'I-RN-0128', 'I-RN-0129a', 'I-RN-0129b', \n",
    "                  'I-RN-0129c', 'I-RN-0129d', 'I-RN-0130', 'I-RN-0131', 'I-RN-0132', 'I-RN-0133', 'I-RN-0134']\n",
    "    return df"
   ]
  },
  {
   "cell_type": "code",
   "execution_count": null,
   "id": "d499d3ff",
   "metadata": {},
   "outputs": [],
   "source": [
    "conf = pd.read_csv('Confluences_ok2.csv', delimiter=';')"
   ]
  },
  {
   "cell_type": "markdown",
   "id": "625f1e7e",
   "metadata": {},
   "source": [
    "## ALL NEW CONFLUENCES corrections\n",
    "19-05-2022"
   ]
  },
  {
   "cell_type": "code",
   "execution_count": null,
   "id": "fa39fe23",
   "metadata": {},
   "outputs": [],
   "source": [
    "for j in range(0, 5):\n",
    "    print(f'Opening File{j} at {str(datetime.now())}')\n",
    "    op = r\"P:\\11206883-006-dar-cloud-computing\\GRADE_export\\Files\\%d\" %j + r\"_HBV_RHINE.csv\"\n",
    "    df = OpenCVS(op)\n",
    "    for c in range(len(conf)):\n",
    "        print(f'Starting {c} at {str(datetime.now().time())}')\n",
    "        sv = r\"P:\\11206883-006-dar-cloud-computing\\GRADE_export\\HIDnew\\01_TSfiles\\TS%d_\" %j + conf.Conf[c] + r\".csv\" \n",
    "        F_C = pd.DataFrame(columns=['year', 'month', 'day', 'Q_S1', 'Q_S2'])\n",
    "        F_C['year'] = df['YEAR']\n",
    "        F_C['month'] = df['MONTH']\n",
    "        F_C['day'] = df['DAY']\n",
    "        if conf.loc[(c,'Notes')] == 'OK':\n",
    "            F_C['Q_S1'] = df[conf.HVB_Q1[c]]\n",
    "            F_C['Q_S2'] = df[conf.HVB_Q2[c]]\n",
    "        elif conf.loc[(c,'Notes')] == 'Q1':\n",
    "            if conf.loc[(c,'M')] == 1:\n",
    "                F_C['Q_S1'] = df[conf.HVB_Q1[c]] - df[conf.m1[c]]\n",
    "                F_C['Q_S2'] = df[conf.HVB_Q2[c]]\n",
    "            elif conf.loc[(c,'M')] == 2:\n",
    "                F_C['Q_S1'] = df[conf.HVB_Q1[c]] - df[conf.m1[c]] - df[conf.m2[c]]\n",
    "                F_C['Q_S2'] = df[conf.HVB_Q2[c]]\n",
    "            elif conf.loc[(c,'M')] == 3:\n",
    "                F_C['Q_S1'] = df[conf.HVB_Q1[c]] - df[conf.m1[c]] - df[conf.m2[c]] - df[conf.m3[c]]\n",
    "                F_C['Q_S2'] = df[conf.HVB_Q2[c]]\n",
    "        elif conf.loc[(c,'Notes')] == 'Q2':\n",
    "            if conf.loc[(c,'M')] == 1:\n",
    "                F_C['Q_S1'] = df[conf.HVB_Q1[c]]\n",
    "                F_C['Q_S2'] = df[conf.HVB_Q2[c]] - df[conf.m1[c]]\n",
    "            elif conf.loc[(c,'M')] == 2:\n",
    "                F_C['Q_S1'] = df[conf.HVB_Q1[c]]\n",
    "                F_C['Q_S2'] = df[conf.HVB_Q2[c]] - df[conf.m1[c]] - df[conf.m2[c]]\n",
    "        F_C.to_csv(sv, sep=';')\n",
    "        print(f'Finishing {c} at {str(datetime.now().time())}')\n",
    "        display(F_C)"
   ]
  },
  {
   "cell_type": "markdown",
   "id": "deae575e",
   "metadata": {},
   "source": [
    "## only 1 file of TS\n",
    "19-05-22"
   ]
  },
  {
   "cell_type": "code",
   "execution_count": null,
   "id": "34dd1482",
   "metadata": {},
   "outputs": [],
   "source": [
    "\n",
    "for c in range(1, len(conf)): #len(conf)\n",
    "    TS = pd.DataFrame()\n",
    "    print(f'Starting {c} at {str(datetime.now().time())}')\n",
    "    for j in range(0, 25):\n",
    "        op = r\"P:\\11206883-006-dar-cloud-computing\\GRADE_export\\HIDnew\\01_TSfiles\\TS%d_\" %j + conf.Conf[c] + r\".csv\" \n",
    "        conf_ = pd.read_csv(op, delimiter=';')\n",
    "        TS = pd.concat([TS, conf_])\n",
    "    \n",
    "    TS['Q_C'] = TS['Q_S1'] + TS['Q_S2']\n",
    "    conditions = [(TS.month==1)|(TS.month==2)|(TS.month==3)|(TS.month==4)|(TS.month==5)|(TS.month==6)|(TS.month==7)|(TS.month==8),\n",
    "                  (TS.month==9)|(TS.month==10)|(TS.month==11)|(TS.month==12)]\n",
    "    choices = [TS['year'], TS['year'] + 1]\n",
    "    TS['yearAM'] = np.select(conditions, choices, default='ERROR')\n",
    "    TS.index = np.arange(len(TS))\n",
    "    sv = r\"P:\\11206883-006-dar-cloud-computing\\GRADE_export\\HIDnew\\01_TSonefile\\TS_\" + conf.Conf[c] \n",
    "#     TS.to_pickle(sv + \".pkl\")\n",
    "    TS.to_csv(sv + \".csv\" , sep=';')\n",
    "    print(f'Finishing {c} at {str(datetime.now().time())}')"
   ]
  },
  {
   "cell_type": "code",
   "execution_count": null,
   "id": "ca715fc8",
   "metadata": {},
   "outputs": [],
   "source": [
    "c = 68\n",
    "print(f'Starting {c} at {str(datetime.now().time())}')\n",
    "sv = r\"P:\\11206883-006-dar-cloud-computing\\GRADE_export\\HIDnew\\01_TSfiles\\TS%d_\" %j + conf.Conf[c] + r\".csv\" \n",
    "F_C = pd.DataFrame(columns=['year', 'month', 'day', 'Q_S1', 'Q_S2'])\n",
    "F_C['year'] = df['YEAR']\n",
    "F_C['month'] = df['MONTH']\n",
    "F_C['day'] = df['DAY']\n",
    "if conf.loc[(c,'Notes')] == 'OK':\n",
    "    F_C['Q_S1'] = df[conf.HVB_Q1[c]]\n",
    "    F_C['Q_S2'] = df[conf.HVB_Q2[c]]\n",
    "elif conf.loc[(c,'Notes')] == 'Q1':\n",
    "    if conf.loc[(c,'M')] == 1:\n",
    "        F_C['Q_S1'] = df[conf.HVB_Q1[c]] - df[conf.m1[c]]\n",
    "        F_C['Q_S2'] = df[conf.HVB_Q2[c]]\n",
    "    elif conf.loc[(c,'M')] == 2:\n",
    "        F_C['Q_S1'] = df[conf.HVB_Q1[c]] - df[conf.m1[c]] - df[conf.m2[c]]\n",
    "        F_C['Q_S2'] = df[conf.HVB_Q2[c]]\n",
    "    elif conf.loc[(c,'M')] == 3:\n",
    "        F_C['Q_S1'] = df[conf.HVB_Q1[c]] - df[conf.m1[c]] - df[conf.m2[c]] - df[conf.m3[c]]\n",
    "        F_C['Q_S2'] = df[conf.HVB_Q2[c]]\n",
    "elif conf.loc[(c,'Notes')] == 'Q2':\n",
    "    if conf.loc[(c,'M')] == 1:\n",
    "        F_C['Q_S1'] = df[conf.HVB_Q1[c]]\n",
    "        F_C['Q_S2'] = df[conf.HVB_Q2[c]] - df[conf.m1[c]]\n",
    "    elif conf.loc[(c,'M')] == 2:\n",
    "        F_C['Q_S1'] = df[conf.HVB_Q1[c]]\n",
    "        F_C['Q_S2'] = df[conf.HVB_Q2[c]] - df[conf.m1[c]] - df[conf.m2[c]]\n",
    "F_C.to_csv(sv, sep=';')\n",
    "print(f'Finishing {c} at {str(datetime.now().time())}')\n",
    "display(F_C)"
   ]
  },
  {
   "cell_type": "code",
   "execution_count": null,
   "id": "d2f8d4e8",
   "metadata": {},
   "outputs": [],
   "source": [
    "c = 60\n",
    "print(f'Starting {c} at {str(datetime.now().time())}')\n",
    "sv = r\"P:\\11206883-006-dar-cloud-computing\\GRADE_export\\HIDnew\\01_TSfiles\\TS%d_\" %j + conf.Conf[c] + r\".csv\" \n",
    "F_C = pd.DataFrame(columns=['year', 'month', 'day', 'Q_S1', 'Q_S2'])\n",
    "F_C['year'] = df['YEAR']\n",
    "F_C['month'] = df['MONTH']\n",
    "F_C['day'] = df['DAY']\n",
    "if conf.loc[(c,'Notes')] == 'OK':\n",
    "    F_C['Q_S1'] = df[conf.HVB_Q1[c]]\n",
    "    F_C['Q_S2'] = df[conf.HVB_Q2[c]]\n",
    "elif conf.loc[(c,'Notes')] == 'Q1':\n",
    "    if conf.loc[(c,'M')] == 1:\n",
    "        F_C['Q_S1'] = df[conf.HVB_Q1[c]] - df[conf.m1[c]]\n",
    "        F_C['Q_S2'] = df[conf.HVB_Q2[c]]\n",
    "    elif conf.loc[(c,'M')] == 2:\n",
    "        F_C['Q_S1'] = df[conf.HVB_Q1[c]] - df[conf.m1[c]] - df[conf.m2[c]]\n",
    "        F_C['Q_S2'] = df[conf.HVB_Q2[c]]\n",
    "    elif conf.loc[(c,'M')] == 3:\n",
    "        F_C['Q_S1'] = df[conf.HVB_Q1[c]] - df[conf.m1[c]] - df[conf.m2[c]] - df[conf.m3[c]]\n",
    "        F_C['Q_S2'] = df[conf.HVB_Q2[c]]\n",
    "elif conf.loc[(c,'Notes')] == 'Q2':\n",
    "    if conf.loc[(c,'M')] == 1:\n",
    "        F_C['Q_S1'] = df[conf.HVB_Q1[c]]\n",
    "        F_C['Q_S2'] = df[conf.HVB_Q2[c]] - df[conf.m1[c]]\n",
    "    elif conf.loc[(c,'M')] == 2:\n",
    "        F_C['Q_S1'] = df[conf.HVB_Q1[c]]\n",
    "        F_C['Q_S2'] = df[conf.HVB_Q2[c]] - df[conf.m1[c]] - df[conf.m2[c]]\n",
    "F_C.to_csv(sv, sep=';')\n",
    "print(f'Finishing {c} at {str(datetime.now().time())}')\n",
    "display(F_C)"
   ]
  },
  {
   "cell_type": "code",
   "execution_count": null,
   "id": "4ccc4fc0",
   "metadata": {},
   "outputs": [],
   "source": [
    "#CHECK 3 - C9\n",
    "c = 3\n",
    "print(conf.HVB_Q1[c], conf.HVB_Q2[c])\n",
    "F_C = pd.DataFrame(columns=['year', 'month', 'day', 'Q_S1', 'Q_S2'])\n",
    "F_C['year'] = df['YEAR']\n",
    "F_C['month'] = df['MONTH']\n",
    "F_C['day'] = df['DAY']\n",
    "F_C['Q_S1'] = df[conf.HVB_Q1[c]]\n",
    "F_C['Q_S2'] = df[conf.HVB_Q2[c]]\n",
    "F_C"
   ]
  },
  {
   "cell_type": "code",
   "execution_count": null,
   "id": "2fd841c7",
   "metadata": {},
   "outputs": [],
   "source": [
    "#CHECK 14 - C26\n",
    "c = 34\n",
    "F_C = pd.DataFrame(columns=['year', 'month', 'day', 'Q_S1', 'Q_S2'])\n",
    "F_C['year'] = df['YEAR']\n",
    "F_C['month'] = df['MONTH']\n",
    "F_C['day'] = df['DAY']\n",
    "F_C['Q_S1'] = df[conf.HVB_Q1[c]] #- df[conf.HVB_Q2[c]]\n",
    "F_C['Q_S2'] = df[conf.HVB_Q2[c]]\n",
    "F_C"
   ]
  },
  {
   "cell_type": "code",
   "execution_count": null,
   "id": "fd7c790d",
   "metadata": {},
   "outputs": [],
   "source": [
    "plt.figure(figsize=(20, 10))\n",
    "plt.plot(F_C['Q_S2'], label='Q2')\n",
    "plt.plot(F_C['Q_S1'], label='Q1')\n",
    "plt.legend()\n",
    "plt.grid()\n"
   ]
  },
  {
   "cell_type": "code",
   "execution_count": null,
   "id": "819aef04",
   "metadata": {},
   "outputs": [],
   "source": [
    "#CHECK 14 - C26\n",
    "c = 34\n",
    "F_C = pd.DataFrame(columns=['year', 'month', 'day', 'Q_S1', 'Q_S2'])\n",
    "F_C['year'] = df['YEAR']\n",
    "F_C['month'] = df['MONTH']\n",
    "F_C['day'] = df['DAY']\n",
    "F_C['Q_S1'] = df[conf.HVB_Q1[c]]\n",
    "F_C['Q_S2'] = df[conf.HVB_Q2[c]]\n",
    "display(F_C)\n",
    "plt.figure(figsize=(20, 10))\n",
    "plt.plot(F_C['Q_S1'], label='Q1')\n",
    "plt.plot(F_C['Q_S2'], label='Q2')\n",
    "plt.legend()\n",
    "plt.grid()"
   ]
  },
  {
   "cell_type": "code",
   "execution_count": null,
   "id": "e12b97c6",
   "metadata": {},
   "outputs": [],
   "source": [
    "for c in range(len(conf)):\n",
    "#     print(c)\n",
    "    if conf.loc[(c,'Notes')] == 'OK':\n",
    "        F_C['Q_S1'] = df[conf.HVB_Q1[c]]\n",
    "        F_C['Q_S2'] = df[conf.HVB_Q2[c]]\n",
    "    elif conf.loc[(c,'Notes')] == 'Q1':\n",
    "        if conf.loc[(c,'M')] == 1:\n",
    "            F_C['Q_S1'] = df[conf.HVB_Q1[c]] - df[conf.m1[c]]\n",
    "            F_C['Q_S2'] = df[conf.HVB_Q2[c]]\n",
    "        elif conf.loc[(c,'M')] == 2:\n",
    "            F_C['Q_S1'] = df[conf.HVB_Q1[c]] - df[conf.m1[c]] - df[conf.m2[c]]\n",
    "            F_C['Q_S2'] = df[conf.HVB_Q2[c]]\n",
    "        elif conf.loc[(c,'M')] == 3:\n",
    "            F_C['Q_S1'] = df[conf.HVB_Q1[c]] - df[conf.m1[c]] - df[conf.m2[c]] - df[conf.m3[c]]\n",
    "            F_C['Q_S2'] = df[conf.HVB_Q2[c]]\n",
    "    elif conf.loc[(c,'Notes')] == 'Q2':\n",
    "        if conf.loc[(c,'M')] == 1:\n",
    "            F_C['Q_S1'] = df[conf.HVB_Q1[c]]\n",
    "            F_C['Q_S2'] = df[conf.HVB_Q2[c]] - df[conf.m1[c]]\n",
    "        elif conf.loc[(c,'M')] == 2:\n",
    "            F_C['Q_S1'] = df[conf.HVB_Q1[c]]\n",
    "            F_C['Q_S2'] = df[conf.HVB_Q2[c]] - df[conf.m1[c]] - df[conf.m2[c]]"
   ]
  }
 ],
 "metadata": {
  "kernelspec": {
   "display_name": "Python 3.9.7 ('dar-cloud')",
   "language": "python",
   "name": "python3"
  },
  "language_info": {
   "codemirror_mode": {
    "name": "ipython",
    "version": 3
   },
   "file_extension": ".py",
   "mimetype": "text/x-python",
   "name": "python",
   "nbconvert_exporter": "python",
   "pygments_lexer": "ipython3",
   "version": "3.9.7"
  },
  "vscode": {
   "interpreter": {
    "hash": "dba0fec6c0a5dc3650c48ce5794cc777babb314a0f31f50d55fe76ea6fe6645b"
   }
  }
 },
 "nbformat": 4,
 "nbformat_minor": 5
}
