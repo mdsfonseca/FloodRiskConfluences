{
 "cells": [
  {
   "cell_type": "code",
   "execution_count": null,
   "id": "5e01946d",
   "metadata": {},
   "outputs": [],
   "source": [
    "import os\n",
    "import xarray as xr\n",
    "import numpy as np\n",
    "import glob\n",
    "\n",
    "\n",
    "%matplotlib inline\n",
    "import matplotlib.pyplot as plt\n",
    "import pandas as pd\n",
    "\n",
    "from datetime import datetime"
   ]
  },
  {
   "cell_type": "markdown",
   "id": "d3087a5e",
   "metadata": {},
   "source": [
    "Get the AM sets\n",
    "\n",
    "Add the seasonal average of the streams"
   ]
  },
  {
   "cell_type": "code",
   "execution_count": null,
   "id": "6ad3f9ab",
   "metadata": {},
   "outputs": [],
   "source": [
    "def AddSavg(am1, S1_savg, S2_savg, C_savg):\n",
    "    conditionsALL = [am1.season=='DJF', am1.season=='JJA', am1.season=='MAM', am1.season=='SON']\n",
    "\n",
    "    choicesS1 = [S1_savg['DJF'], S1_savg['JJA'], S1_savg['MAM'], S1_savg['SON']]\n",
    "    choicesS2 = [S2_savg['DJF'], S2_savg['JJA'], S2_savg['MAM'], S2_savg['SON']]\n",
    "    choicesC = [C_savg['DJF'], C_savg['JJA'], C_savg['MAM'], C_savg['SON']]\n",
    "\n",
    "    am1['S1savg'] = np.select(conditionsALL, choicesS1, default='ERROR').astype(float)\n",
    "    am1['S2savg'] = np.select(conditionsALL, choicesS2, default='ERROR').astype(float)\n",
    "    am1['Csavg'] = np.select(conditionsALL, choicesC, default='ERROR').astype(float)\n",
    "    am1['S1/S1savg'] = am1.Q_S1 / am1.S1savg\n",
    "    am1['S2/S2savg'] = am1.Q_S2 / am1.S2savg\n",
    "    am1['C/Csavg'] = am1.Q_C / am1.Csavg\n",
    "    return am1"
   ]
  },
  {
   "cell_type": "code",
   "execution_count": null,
   "id": "7f0f6b86",
   "metadata": {},
   "outputs": [],
   "source": [
    "conf = pd.read_csv('Confluences_ok2.csv', delimiter=';')"
   ]
  },
  {
   "cell_type": "code",
   "execution_count": null,
   "id": "ba6b716d",
   "metadata": {},
   "outputs": [],
   "source": [
    "#See MetFunctions AM\n",
    "def AMnew(conf_):\n",
    "    \"\"\"\n",
    "    Creates...\n",
    "    ds: dictionary with all the Time series per station \n",
    "    conf: configuration of the confluences\n",
    "    c: confluence to be analyzed\n",
    "    w: window of the multi-day events\n",
    "    Returns: ds_\n",
    "    \"\"\"\n",
    "    \n",
    "    #Delete the rows with values lower than 0, or equal to 999\n",
    "    conf_1 = conf_[~(conf_['Q_S1'] < 0)]\n",
    "    conf_1 = conf_1[~(conf_1['Q_S2'] < 0)]\n",
    "    conf_1 = conf_1[~(conf_1['Q_S2'] == 999)]\n",
    "    conf_1    \n",
    "    \n",
    "    #Seasonal averages\n",
    "    conditions = [\n",
    "        (conf_1.month==1)|(conf_1.month==2)|(conf_1.month==12),\n",
    "        (conf_1.month==3)|(conf_1.month==4)|(conf_1.month==5),\n",
    "        (conf_1.month==6)|(conf_1.month==7)|(conf_1.month==8),\n",
    "        (conf_1.month==9)|(conf_1.month==10)|(conf_1.month==11)]\n",
    "\n",
    "    choices = ['DJF', 'MAM', 'JJA', 'SON']\n",
    "    conf_1['season'] = np.select(conditions, choices, default='ERROR')\n",
    "    \n",
    "    savg_S1 = conf_1.groupby(['season'])['Q_S1'].mean()\n",
    "    savg_S2 = conf_1.groupby(['season'])['Q_S2'].mean()\n",
    "    savg_C = conf_1.groupby(['season'])['Q_C'].mean()\n",
    "\n",
    "    \n",
    "    #2 Extreme selection sets\n",
    "    AM1_id = conf_1.groupby(['year'])['Q_S1'].idxmax()\n",
    "    AM2_id = conf_1.groupby(['year'])['Q_S2'].idxmax()\n",
    "    AM3_id = conf_1.groupby(['year'])['Q_C'].idxmax()\n",
    "\n",
    "    am1 = conf_1.loc[AM1_id[:]]\n",
    "    am2 = conf_1.loc[AM2_id[:]]\n",
    "    am3 = conf_1.loc[AM3_id[:]]\n",
    "    \n",
    "    return am1, am2, am3, savg_S1, savg_S2, savg_C"
   ]
  },
  {
   "cell_type": "code",
   "execution_count": null,
   "id": "d23da559",
   "metadata": {},
   "outputs": [],
   "source": [
    "for c in range(len(conf)):\n",
    "    print(f'Starting {c} at {str(datetime.now())}')\n",
    "    op = r\"P:\\11206883-006-dar-cloud-computing\\GRADE_export\\HIDnew\\01_TSonefile\\TS_\" + conf.Conf[c] + \".csv\" \n",
    "    TS = pd.read_csv(op, delimiter=';')\n",
    "    \n",
    "    am1, am2, am3, savg_S1, savg_S2, savg_C = AMnew(TS)\n",
    "\n",
    "    AM1 = AddSavg(am1, savg_S1, savg_S2, savg_C)\n",
    "    AM2 = AddSavg(am2, savg_S1, savg_S2, savg_C)\n",
    "    AM3 = AddSavg(am3, savg_S1, savg_S2, savg_C)\n",
    "    \n",
    "    sv = r\"P:\\11206883-006-dar-cloud-computing\\GRADE_export\\HIDnew\\03_AMhyd\" + r\"\\disc1d_\" + conf.Conf[c]\n",
    "    \n",
    "    AM1.to_pickle(sv + \"_AM1.pkl\")\n",
    "    AM2.to_pickle(sv + \"_AM2.pkl\")\n",
    "    AM3.to_pickle(sv + \"_AM3.pkl\")\n",
    "    print(f'Finishing {c} at {str(datetime.now().time())}')"
   ]
  }
 ],
 "metadata": {
  "kernelspec": {
   "display_name": "Python 3.9.7 ('dar-cloud')",
   "language": "python",
   "name": "python3"
  },
  "language_info": {
   "codemirror_mode": {
    "name": "ipython",
    "version": 3
   },
   "file_extension": ".py",
   "mimetype": "text/x-python",
   "name": "python",
   "nbconvert_exporter": "python",
   "pygments_lexer": "ipython3",
   "version": "3.9.7"
  },
  "vscode": {
   "interpreter": {
    "hash": "dba0fec6c0a5dc3650c48ce5794cc777babb314a0f31f50d55fe76ea6fe6645b"
   }
  }
 },
 "nbformat": 4,
 "nbformat_minor": 5
}
